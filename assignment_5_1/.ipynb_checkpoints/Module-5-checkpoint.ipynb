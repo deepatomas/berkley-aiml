{
 "cells": [
  {
   "cell_type": "markdown",
   "metadata": {},
   "source": [
    "### Will a Customer Accept the Coupon?\n",
    "\n",
    "**Context**\n",
    "\n",
    "Imagine driving through town and a coupon is delivered to your cell phone for a restaraunt near where you are driving. Would you accept that coupon and take a short detour to the restaraunt? Would you accept the coupon but use it on a sunbsequent trip? Would you ignore the coupon entirely? What if the coupon was for a bar instead of a restaraunt? What about a coffee house? Would you accept a bar coupon with a minor passenger in the car? What about if it was just you and your partner in the car? Would weather impact the rate of acceptance? What about the time of day?\n",
    "\n",
    "Obviously, proximity to the business is a factor on whether the coupon is delivered to the driver or not, but what are the factors that determine whether a driver accepts the coupon once it is delivered to them? How would you determine whether a driver is likely to accept a coupon?\n",
    "\n",
    "**Overview**\n",
    "\n",
    "The goal of this project is to use what you know about visualizations and probability distributions to distinguish between customers who accepted a driving coupon versus those that did not.\n",
    "\n",
    "**Data**\n",
    "\n",
    "This data comes to us from the UCI Machine Learning repository and was collected via a survey on Amazon Mechanical Turk. The survey describes different driving scenarios including the destination, current time, weather, passenger, etc., and then ask the person whether he will accept the coupon if he is the driver. Answers that the user will drive there ‘right away’ or ‘later before the coupon expires’ are labeled as ‘Y = 1’ and answers ‘no, I do not want the coupon’ are labeled as ‘Y = 0’.  There are five different types of coupons -- less expensive restaurants (under \\\\$20), coffee houses, carry out & take away, bar, and more expensive restaurants (\\\\$20 - \\\\$50). "
   ]
  },
  {
   "cell_type": "markdown",
   "metadata": {},
   "source": [
    "**Deliverables**\n",
    "\n",
    "Your final product should be a brief report that highlights the differences between customers who did and did not accept the coupons.  To explore the data you will utilize your knowledge of plotting, statistical summaries, and visualization using Python. You will publish your findings in a public facing github repository as your first portfolio piece. \n",
    "\n",
    "\n",
    "\n"
   ]
  },
  {
   "cell_type": "markdown",
   "metadata": {},
   "source": [
    "### Data Description\n",
    "Keep in mind that these values mentioned below are average values.\n",
    "\n",
    "The attributes of this data set include:\n",
    "1. User attributes\n",
    "    -  Gender: male, female\n",
    "    -  Age: below 21, 21 to 25, 26 to 30, etc.\n",
    "    -  Marital Status: single, married partner, unmarried partner, or widowed\n",
    "    -  Number of children: 0, 1, or more than 1\n",
    "    -  Education: high school, bachelors degree, associates degree, or graduate degree\n",
    "    -  Occupation: architecture & engineering, business & financial, etc.\n",
    "    -  Annual income: less than \\\\$12500, \\\\$12500 - \\\\$24999, \\\\$25000 - \\\\$37499, etc.\n",
    "    -  Number of times that he/she goes to a bar: 0, less than 1, 1 to 3, 4 to 8 or greater than 8\n",
    "    -  Number of times that he/she buys takeaway food: 0, less than 1, 1 to 3, 4 to 8 or greater\n",
    "    than 8\n",
    "    -  Number of times that he/she goes to a coffee house: 0, less than 1, 1 to 3, 4 to 8 or\n",
    "    greater than 8\n",
    "    -  Number of times that he/she eats at a restaurant with average expense less than \\\\$20 per\n",
    "    person: 0, less than 1, 1 to 3, 4 to 8 or greater than 8\n",
    "    -  Number of times that he/she goes to a bar: 0, less than 1, 1 to 3, 4 to 8 or greater than 8\n",
    "    \n",
    "\n",
    "2. Contextual attributes\n",
    "    - Driving destination: home, work, or no urgent destination\n",
    "    - Location of user, coupon and destination: we provide a map to show the geographical\n",
    "    location of the user, destination, and the venue, and we mark the distance between each\n",
    "    two places with time of driving. The user can see whether the venue is in the same\n",
    "    direction as the destination.\n",
    "    - Weather: sunny, rainy, or snowy\n",
    "    - Temperature: 30F, 55F, or 80F\n",
    "    - Time: 10AM, 2PM, or 6PM\n",
    "    - Passenger: alone, partner, kid(s), or friend(s)\n",
    "\n",
    "\n",
    "3. Coupon attributes\n",
    "    - time before it expires: 2 hours or one day"
   ]
  },
  {
   "cell_type": "code",
   "execution_count": 1,
   "metadata": {},
   "outputs": [],
   "source": [
    "import matplotlib.pyplot as plt\n",
    "import seaborn as sns\n",
    "import pandas as pd\n",
    "import numpy as np"
   ]
  },
  {
   "cell_type": "markdown",
   "metadata": {},
   "source": [
    "### Problems\n",
    "\n",
    "Use the prompts below to get started with your data analysis.  \n",
    "\n",
    "1. Read in the `coupons.csv` file.\n",
    "\n",
    "\n"
   ]
  },
  {
   "cell_type": "code",
   "execution_count": 2,
   "metadata": {},
   "outputs": [],
   "source": [
    "data = pd.read_csv('data/coupons.csv')"
   ]
  },
  {
   "cell_type": "code",
   "execution_count": 3,
   "metadata": {},
   "outputs": [],
   "source": [
    "#adjust how many columns can be seen at a time in a list\n",
    "pd.set_option('display.max_columns',26)"
   ]
  },
  {
   "cell_type": "code",
   "execution_count": 4,
   "metadata": {},
   "outputs": [
    {
     "data": {
      "text/html": [
       "<div>\n",
       "<style scoped>\n",
       "    .dataframe tbody tr th:only-of-type {\n",
       "        vertical-align: middle;\n",
       "    }\n",
       "\n",
       "    .dataframe tbody tr th {\n",
       "        vertical-align: top;\n",
       "    }\n",
       "\n",
       "    .dataframe thead th {\n",
       "        text-align: right;\n",
       "    }\n",
       "</style>\n",
       "<table border=\"1\" class=\"dataframe\">\n",
       "  <thead>\n",
       "    <tr style=\"text-align: right;\">\n",
       "      <th></th>\n",
       "      <th>destination</th>\n",
       "      <th>passanger</th>\n",
       "      <th>weather</th>\n",
       "      <th>temperature</th>\n",
       "      <th>time</th>\n",
       "      <th>coupon</th>\n",
       "      <th>expiration</th>\n",
       "      <th>gender</th>\n",
       "      <th>age</th>\n",
       "      <th>maritalStatus</th>\n",
       "      <th>has_children</th>\n",
       "      <th>education</th>\n",
       "      <th>occupation</th>\n",
       "      <th>income</th>\n",
       "      <th>car</th>\n",
       "      <th>Bar</th>\n",
       "      <th>CoffeeHouse</th>\n",
       "      <th>CarryAway</th>\n",
       "      <th>RestaurantLessThan20</th>\n",
       "      <th>Restaurant20To50</th>\n",
       "      <th>toCoupon_GEQ5min</th>\n",
       "      <th>toCoupon_GEQ15min</th>\n",
       "      <th>toCoupon_GEQ25min</th>\n",
       "      <th>direction_same</th>\n",
       "      <th>direction_opp</th>\n",
       "      <th>Y</th>\n",
       "    </tr>\n",
       "  </thead>\n",
       "  <tbody>\n",
       "    <tr>\n",
       "      <th>0</th>\n",
       "      <td>No Urgent Place</td>\n",
       "      <td>Alone</td>\n",
       "      <td>Sunny</td>\n",
       "      <td>55</td>\n",
       "      <td>2PM</td>\n",
       "      <td>Restaurant(&lt;20)</td>\n",
       "      <td>1d</td>\n",
       "      <td>Female</td>\n",
       "      <td>21</td>\n",
       "      <td>Unmarried partner</td>\n",
       "      <td>1</td>\n",
       "      <td>Some college - no degree</td>\n",
       "      <td>Unemployed</td>\n",
       "      <td>$37500 - $49999</td>\n",
       "      <td>NaN</td>\n",
       "      <td>never</td>\n",
       "      <td>never</td>\n",
       "      <td>NaN</td>\n",
       "      <td>4~8</td>\n",
       "      <td>1~3</td>\n",
       "      <td>1</td>\n",
       "      <td>0</td>\n",
       "      <td>0</td>\n",
       "      <td>0</td>\n",
       "      <td>1</td>\n",
       "      <td>1</td>\n",
       "    </tr>\n",
       "    <tr>\n",
       "      <th>1</th>\n",
       "      <td>No Urgent Place</td>\n",
       "      <td>Friend(s)</td>\n",
       "      <td>Sunny</td>\n",
       "      <td>80</td>\n",
       "      <td>10AM</td>\n",
       "      <td>Coffee House</td>\n",
       "      <td>2h</td>\n",
       "      <td>Female</td>\n",
       "      <td>21</td>\n",
       "      <td>Unmarried partner</td>\n",
       "      <td>1</td>\n",
       "      <td>Some college - no degree</td>\n",
       "      <td>Unemployed</td>\n",
       "      <td>$37500 - $49999</td>\n",
       "      <td>NaN</td>\n",
       "      <td>never</td>\n",
       "      <td>never</td>\n",
       "      <td>NaN</td>\n",
       "      <td>4~8</td>\n",
       "      <td>1~3</td>\n",
       "      <td>1</td>\n",
       "      <td>0</td>\n",
       "      <td>0</td>\n",
       "      <td>0</td>\n",
       "      <td>1</td>\n",
       "      <td>0</td>\n",
       "    </tr>\n",
       "    <tr>\n",
       "      <th>2</th>\n",
       "      <td>No Urgent Place</td>\n",
       "      <td>Friend(s)</td>\n",
       "      <td>Sunny</td>\n",
       "      <td>80</td>\n",
       "      <td>10AM</td>\n",
       "      <td>Carry out &amp; Take away</td>\n",
       "      <td>2h</td>\n",
       "      <td>Female</td>\n",
       "      <td>21</td>\n",
       "      <td>Unmarried partner</td>\n",
       "      <td>1</td>\n",
       "      <td>Some college - no degree</td>\n",
       "      <td>Unemployed</td>\n",
       "      <td>$37500 - $49999</td>\n",
       "      <td>NaN</td>\n",
       "      <td>never</td>\n",
       "      <td>never</td>\n",
       "      <td>NaN</td>\n",
       "      <td>4~8</td>\n",
       "      <td>1~3</td>\n",
       "      <td>1</td>\n",
       "      <td>1</td>\n",
       "      <td>0</td>\n",
       "      <td>0</td>\n",
       "      <td>1</td>\n",
       "      <td>1</td>\n",
       "    </tr>\n",
       "    <tr>\n",
       "      <th>3</th>\n",
       "      <td>No Urgent Place</td>\n",
       "      <td>Friend(s)</td>\n",
       "      <td>Sunny</td>\n",
       "      <td>80</td>\n",
       "      <td>2PM</td>\n",
       "      <td>Coffee House</td>\n",
       "      <td>2h</td>\n",
       "      <td>Female</td>\n",
       "      <td>21</td>\n",
       "      <td>Unmarried partner</td>\n",
       "      <td>1</td>\n",
       "      <td>Some college - no degree</td>\n",
       "      <td>Unemployed</td>\n",
       "      <td>$37500 - $49999</td>\n",
       "      <td>NaN</td>\n",
       "      <td>never</td>\n",
       "      <td>never</td>\n",
       "      <td>NaN</td>\n",
       "      <td>4~8</td>\n",
       "      <td>1~3</td>\n",
       "      <td>1</td>\n",
       "      <td>1</td>\n",
       "      <td>0</td>\n",
       "      <td>0</td>\n",
       "      <td>1</td>\n",
       "      <td>0</td>\n",
       "    </tr>\n",
       "    <tr>\n",
       "      <th>4</th>\n",
       "      <td>No Urgent Place</td>\n",
       "      <td>Friend(s)</td>\n",
       "      <td>Sunny</td>\n",
       "      <td>80</td>\n",
       "      <td>2PM</td>\n",
       "      <td>Coffee House</td>\n",
       "      <td>1d</td>\n",
       "      <td>Female</td>\n",
       "      <td>21</td>\n",
       "      <td>Unmarried partner</td>\n",
       "      <td>1</td>\n",
       "      <td>Some college - no degree</td>\n",
       "      <td>Unemployed</td>\n",
       "      <td>$37500 - $49999</td>\n",
       "      <td>NaN</td>\n",
       "      <td>never</td>\n",
       "      <td>never</td>\n",
       "      <td>NaN</td>\n",
       "      <td>4~8</td>\n",
       "      <td>1~3</td>\n",
       "      <td>1</td>\n",
       "      <td>1</td>\n",
       "      <td>0</td>\n",
       "      <td>0</td>\n",
       "      <td>1</td>\n",
       "      <td>0</td>\n",
       "    </tr>\n",
       "  </tbody>\n",
       "</table>\n",
       "</div>"
      ],
      "text/plain": [
       "       destination  passanger weather  temperature  time  \\\n",
       "0  No Urgent Place      Alone   Sunny           55   2PM   \n",
       "1  No Urgent Place  Friend(s)   Sunny           80  10AM   \n",
       "2  No Urgent Place  Friend(s)   Sunny           80  10AM   \n",
       "3  No Urgent Place  Friend(s)   Sunny           80   2PM   \n",
       "4  No Urgent Place  Friend(s)   Sunny           80   2PM   \n",
       "\n",
       "                  coupon expiration  gender age      maritalStatus  \\\n",
       "0        Restaurant(<20)         1d  Female  21  Unmarried partner   \n",
       "1           Coffee House         2h  Female  21  Unmarried partner   \n",
       "2  Carry out & Take away         2h  Female  21  Unmarried partner   \n",
       "3           Coffee House         2h  Female  21  Unmarried partner   \n",
       "4           Coffee House         1d  Female  21  Unmarried partner   \n",
       "\n",
       "   has_children                 education  occupation           income  car  \\\n",
       "0             1  Some college - no degree  Unemployed  $37500 - $49999  NaN   \n",
       "1             1  Some college - no degree  Unemployed  $37500 - $49999  NaN   \n",
       "2             1  Some college - no degree  Unemployed  $37500 - $49999  NaN   \n",
       "3             1  Some college - no degree  Unemployed  $37500 - $49999  NaN   \n",
       "4             1  Some college - no degree  Unemployed  $37500 - $49999  NaN   \n",
       "\n",
       "     Bar CoffeeHouse CarryAway RestaurantLessThan20 Restaurant20To50  \\\n",
       "0  never       never       NaN                  4~8              1~3   \n",
       "1  never       never       NaN                  4~8              1~3   \n",
       "2  never       never       NaN                  4~8              1~3   \n",
       "3  never       never       NaN                  4~8              1~3   \n",
       "4  never       never       NaN                  4~8              1~3   \n",
       "\n",
       "   toCoupon_GEQ5min  toCoupon_GEQ15min  toCoupon_GEQ25min  direction_same  \\\n",
       "0                 1                  0                  0               0   \n",
       "1                 1                  0                  0               0   \n",
       "2                 1                  1                  0               0   \n",
       "3                 1                  1                  0               0   \n",
       "4                 1                  1                  0               0   \n",
       "\n",
       "   direction_opp  Y  \n",
       "0              1  1  \n",
       "1              1  0  \n",
       "2              1  1  \n",
       "3              1  0  \n",
       "4              1  0  "
      ]
     },
     "execution_count": 4,
     "metadata": {},
     "output_type": "execute_result"
    }
   ],
   "source": [
    "data.head()"
   ]
  },
  {
   "cell_type": "markdown",
   "metadata": {},
   "source": [
    "2. Investigate the dataset for missing or problematic data."
   ]
  },
  {
   "cell_type": "code",
   "execution_count": 5,
   "metadata": {},
   "outputs": [
    {
     "data": {
      "text/plain": [
       "(12684, 26)"
      ]
     },
     "execution_count": 5,
     "metadata": {},
     "output_type": "execute_result"
    }
   ],
   "source": [
    "#no. of rows and columns in the dataset\n",
    "data.shape"
   ]
  },
  {
   "cell_type": "code",
   "execution_count": 6,
   "metadata": {},
   "outputs": [
    {
     "data": {
      "text/plain": [
       "Index(['destination', 'passanger', 'weather', 'temperature', 'time', 'coupon',\n",
       "       'expiration', 'gender', 'age', 'maritalStatus', 'has_children',\n",
       "       'education', 'occupation', 'income', 'car', 'Bar', 'CoffeeHouse',\n",
       "       'CarryAway', 'RestaurantLessThan20', 'Restaurant20To50',\n",
       "       'toCoupon_GEQ5min', 'toCoupon_GEQ15min', 'toCoupon_GEQ25min',\n",
       "       'direction_same', 'direction_opp', 'Y'],\n",
       "      dtype='object')"
      ]
     },
     "execution_count": 6,
     "metadata": {},
     "output_type": "execute_result"
    }
   ],
   "source": [
    "#what are the name of the columns\n",
    "data.columns"
   ]
  },
  {
   "cell_type": "code",
   "execution_count": 7,
   "metadata": {},
   "outputs": [
    {
     "data": {
      "text/plain": [
       "destination             object\n",
       "passanger               object\n",
       "weather                 object\n",
       "temperature              int64\n",
       "time                    object\n",
       "coupon                  object\n",
       "expiration              object\n",
       "gender                  object\n",
       "age                     object\n",
       "maritalStatus           object\n",
       "has_children             int64\n",
       "education               object\n",
       "occupation              object\n",
       "income                  object\n",
       "car                     object\n",
       "Bar                     object\n",
       "CoffeeHouse             object\n",
       "CarryAway               object\n",
       "RestaurantLessThan20    object\n",
       "Restaurant20To50        object\n",
       "toCoupon_GEQ5min         int64\n",
       "toCoupon_GEQ15min        int64\n",
       "toCoupon_GEQ25min        int64\n",
       "direction_same           int64\n",
       "direction_opp            int64\n",
       "Y                        int64\n",
       "dtype: object"
      ]
     },
     "execution_count": 7,
     "metadata": {},
     "output_type": "execute_result"
    }
   ],
   "source": [
    "#what are the datatypes of the columns\n",
    "data.dtypes"
   ]
  },
  {
   "cell_type": "code",
   "execution_count": 8,
   "metadata": {},
   "outputs": [
    {
     "name": "stdout",
     "output_type": "stream",
     "text": [
      "<class 'pandas.core.frame.DataFrame'>\n",
      "RangeIndex: 12684 entries, 0 to 12683\n",
      "Data columns (total 26 columns):\n",
      " #   Column                Non-Null Count  Dtype \n",
      "---  ------                --------------  ----- \n",
      " 0   destination           12684 non-null  object\n",
      " 1   passanger             12684 non-null  object\n",
      " 2   weather               12684 non-null  object\n",
      " 3   temperature           12684 non-null  int64 \n",
      " 4   time                  12684 non-null  object\n",
      " 5   coupon                12684 non-null  object\n",
      " 6   expiration            12684 non-null  object\n",
      " 7   gender                12684 non-null  object\n",
      " 8   age                   12684 non-null  object\n",
      " 9   maritalStatus         12684 non-null  object\n",
      " 10  has_children          12684 non-null  int64 \n",
      " 11  education             12684 non-null  object\n",
      " 12  occupation            12684 non-null  object\n",
      " 13  income                12684 non-null  object\n",
      " 14  car                   108 non-null    object\n",
      " 15  Bar                   12577 non-null  object\n",
      " 16  CoffeeHouse           12467 non-null  object\n",
      " 17  CarryAway             12533 non-null  object\n",
      " 18  RestaurantLessThan20  12554 non-null  object\n",
      " 19  Restaurant20To50      12495 non-null  object\n",
      " 20  toCoupon_GEQ5min      12684 non-null  int64 \n",
      " 21  toCoupon_GEQ15min     12684 non-null  int64 \n",
      " 22  toCoupon_GEQ25min     12684 non-null  int64 \n",
      " 23  direction_same        12684 non-null  int64 \n",
      " 24  direction_opp         12684 non-null  int64 \n",
      " 25  Y                     12684 non-null  int64 \n",
      "dtypes: int64(8), object(18)\n",
      "memory usage: 2.5+ MB\n"
     ]
    }
   ],
   "source": [
    "#how many null values exist in the rows\n",
    "data.info()"
   ]
  },
  {
   "cell_type": "code",
   "execution_count": 9,
   "metadata": {},
   "outputs": [
    {
     "data": {
      "text/plain": [
       "Scooter and motorcycle                      22\n",
       "Mazda5                                      22\n",
       "do not drive                                22\n",
       "crossover                                   21\n",
       "Car that is too old to install Onstar :D    21\n",
       "Name: car, dtype: int64"
      ]
     },
     "execution_count": 9,
     "metadata": {},
     "output_type": "execute_result"
    }
   ],
   "source": [
    "#the vehicle data is very small and hence will be ignored as this is likely not going to impact the results. \n",
    "#The assumption is that there will be some technology to serve the coupon that is built in to the user's phone \n",
    "#or vehicle system\n",
    "data[\"car\"].unique()\n",
    "data[\"car\"].value_counts()"
   ]
  },
  {
   "cell_type": "code",
   "execution_count": 10,
   "metadata": {},
   "outputs": [
    {
     "data": {
      "text/plain": [
       "array(['Alone', 'Friend(s)', 'Kid(s)', 'Partner'], dtype=object)"
      ]
     },
     "execution_count": 10,
     "metadata": {},
     "output_type": "execute_result"
    }
   ],
   "source": [
    "data[\"passanger\"].unique()\n"
   ]
  },
  {
   "cell_type": "code",
   "execution_count": 11,
   "metadata": {},
   "outputs": [
    {
     "data": {
      "text/plain": [
       "array(['Unmarried partner', 'Single', 'Married partner', 'Divorced',\n",
       "       'Widowed'], dtype=object)"
      ]
     },
     "execution_count": 11,
     "metadata": {},
     "output_type": "execute_result"
    }
   ],
   "source": [
    "data[\"maritalStatus\"].unique()"
   ]
  },
  {
   "cell_type": "markdown",
   "metadata": {},
   "source": [
    "3. Decide what to do about your missing data -- drop, replace, other..."
   ]
  },
  {
   "cell_type": "code",
   "execution_count": 12,
   "metadata": {},
   "outputs": [
    {
     "name": "stdout",
     "output_type": "stream",
     "text": [
      "int64\n"
     ]
    }
   ],
   "source": [
    "#change expected integer column age to be an integer after replacing 50plus with 51 and below 21 with 20\n",
    "data[\"age\"].unique()\n",
    "data[\"age\"].value_counts()\n",
    "data[\"age\"].replace(\"below21\",\"20\", inplace=True)\n",
    "data[\"age\"].replace(\"50plus\",\"51\", inplace=True)\n",
    "data[\"age\"] = data[\"age\"].astype(int)\n",
    "print(data[\"age\"].dtype)"
   ]
  },
  {
   "cell_type": "code",
   "execution_count": 13,
   "metadata": {},
   "outputs": [
    {
     "data": {
      "text/plain": [
       "array(['0', '1~3', 'more than 8', '4~8'], dtype=object)"
      ]
     },
     "execution_count": 13,
     "metadata": {},
     "output_type": "execute_result"
    }
   ],
   "source": [
    "#update data in the bar column to make all never , nan less than 1 all equal to 0\n",
    "data[\"Bar\"].replace(\"never\",\"0\", inplace=True)\n",
    "data[\"Bar\"].replace(\"less1\",\"0\", inplace=True)\n",
    "data[\"Bar\"].replace(np.nan,\"0\", inplace=True)\n",
    "data[\"Bar\"].replace(\"gt8\",\"more than 8\", inplace=True)\n",
    "data[\"Bar\"].unique()"
   ]
  },
  {
   "cell_type": "code",
   "execution_count": 14,
   "metadata": {},
   "outputs": [
    {
     "data": {
      "text/plain": [
       "array(['0', '4~8', '1~3', 'more than 8'], dtype=object)"
      ]
     },
     "execution_count": 14,
     "metadata": {},
     "output_type": "execute_result"
    }
   ],
   "source": [
    "#update data in the CoffeeHouse column to make all never , nan less than 1 all equal to 0\n",
    "data[\"CoffeeHouse\"].replace(\"never\",\"0\", inplace=True)\n",
    "data[\"CoffeeHouse\"].replace(\"less1\",\"0\", inplace=True)\n",
    "data[\"CoffeeHouse\"].replace(np.nan,\"0\", inplace=True)\n",
    "data[\"CoffeeHouse\"].replace(\"gt8\",\"more than 8\", inplace=True)\n",
    "data[\"CoffeeHouse\"].unique()"
   ]
  },
  {
   "cell_type": "code",
   "execution_count": 15,
   "metadata": {},
   "outputs": [
    {
     "data": {
      "text/plain": [
       "array(['0', '4~8', '1~3', 'more than 8'], dtype=object)"
      ]
     },
     "execution_count": 15,
     "metadata": {},
     "output_type": "execute_result"
    }
   ],
   "source": [
    "#update data in the CarryAway column to make all never , nan less than 1 all equal to 0\n",
    "data[\"CarryAway\"].replace(\"never\",\"0\", inplace=True)\n",
    "data[\"CarryAway\"].replace(\"less1\",\"0\", inplace=True)\n",
    "data[\"CarryAway\"].replace(np.nan,\"0\", inplace=True)\n",
    "data[\"CarryAway\"].replace(\"gt8\",\"more than 8\", inplace=True)\n",
    "data[\"CarryAway\"].unique()"
   ]
  },
  {
   "cell_type": "code",
   "execution_count": 16,
   "metadata": {},
   "outputs": [
    {
     "data": {
      "text/plain": [
       "array(['4~8', '1~3', '0', 'more than 8'], dtype=object)"
      ]
     },
     "execution_count": 16,
     "metadata": {},
     "output_type": "execute_result"
    }
   ],
   "source": [
    "#update data in the RestaurantLessThan20 column to make all never , nan less than 1 all equal to 0\n",
    "data[\"RestaurantLessThan20\"].replace(\"never\",\"0\", inplace=True)\n",
    "data[\"RestaurantLessThan20\"].replace(\"less1\",\"0\", inplace=True)\n",
    "data[\"RestaurantLessThan20\"].replace(np.nan,\"0\", inplace=True)\n",
    "data[\"RestaurantLessThan20\"].replace(\"gt8\",\"more than 8\", inplace=True)\n",
    "data[\"RestaurantLessThan20\"].unique()"
   ]
  },
  {
   "cell_type": "code",
   "execution_count": 17,
   "metadata": {},
   "outputs": [
    {
     "data": {
      "text/plain": [
       "array(['1~3', '0', 'more than 8', '4~8'], dtype=object)"
      ]
     },
     "execution_count": 17,
     "metadata": {},
     "output_type": "execute_result"
    }
   ],
   "source": [
    "#update data in the Restaurant20To50 column to make all never , nan less than 1 all equal to 0\n",
    "data[\"Restaurant20To50\"].replace(\"never\",\"0\", inplace=True)\n",
    "data[\"Restaurant20To50\"].replace(\"less1\",\"0\", inplace=True)\n",
    "data[\"Restaurant20To50\"].replace(np.nan,\"0\", inplace=True)\n",
    "data[\"Restaurant20To50\"].replace(\"gt8\",\"more than 8\", inplace=True)\n",
    "data[\"Restaurant20To50\"].unique()"
   ]
  },
  {
   "cell_type": "markdown",
   "metadata": {},
   "source": [
    "4. What proportion of the total observations chose to accept the coupon? \n",
    "\n"
   ]
  },
  {
   "cell_type": "code",
   "execution_count": 18,
   "metadata": {},
   "outputs": [
    {
     "name": "stdout",
     "output_type": "stream",
     "text": [
      "% of surveyed that chose to accept the coupon:  56.84\n"
     ]
    }
   ],
   "source": [
    "#proporation of observations that chose to accept the coupon\n",
    "print(\"% of surveyed that chose to accept the coupon:{0:7.2f}\" .format(data.query('Y==1')[\"Y\"].count()/data[\"Y\"].count()*100))"
   ]
  },
  {
   "cell_type": "markdown",
   "metadata": {},
   "source": [
    "5. Use a bar plot to visualize the `coupon` column."
   ]
  },
  {
   "cell_type": "code",
   "execution_count": 19,
   "metadata": {},
   "outputs": [
    {
     "name": "stdout",
     "output_type": "stream",
     "text": [
      "                       coupon\n",
      "Coffee House             3996\n",
      "Restaurant(<20)          2786\n",
      "Carry out & Take away    2393\n",
      "Bar                      2017\n",
      "Restaurant(20-50)        1492\n"
     ]
    },
    {
     "data": {
      "image/png": "[encoded data removed]",
      "text/plain": [
       "<Figure size 640x480 with 1 Axes>"
      ]
     },
     "metadata": {},
     "output_type": "display_data"
    }
   ],
   "source": [
    "data[\"coupon\"].unique()\n",
    "data[\"coupon\"].value_counts()\n",
    "coupon_df = None\n",
    "\n",
    "#generate the dataset\n",
    "coupon_df=pd.DataFrame(data[\"coupon\"].value_counts())\n",
    "print(coupon_df)\n",
    "#build the graph\n",
    "sns.barplot(x=coupon_df.index,y=\"coupon\",data=coupon_df, estimator=np.sum)\n",
    "#format the graph\n",
    "plt.xlabel(\"Coupon Type\")\n",
    "plt.ylabel(\"Count\")\n",
    "plt.title(\"Count of Coupons\")\n",
    "plt.xticks(rotation=45)\n",
    "#show and save the graph\n",
    "plt.savefig(\"images/coupon-bar-plot.png\")\n",
    "plt.show()"
   ]
  },
  {
   "cell_type": "markdown",
   "metadata": {},
   "source": [
    "6. Use a histogram to visualize the temperature column."
   ]
  },
  {
   "cell_type": "code",
   "execution_count": 20,
   "metadata": {},
   "outputs": [
    {
     "data": {
      "text/plain": [
       "temperature  coupon               \n",
       "30           Bar                       426\n",
       "             Carry out & Take away     751\n",
       "             Coffee House              318\n",
       "             Restaurant(20-50)         273\n",
       "             Restaurant(<20)           548\n",
       "55           Bar                       956\n",
       "             Carry out & Take away     576\n",
       "             Coffee House             1277\n",
       "             Restaurant(20-50)         368\n",
       "             Restaurant(<20)           663\n",
       "80           Bar                       635\n",
       "             Carry out & Take away    1066\n",
       "             Coffee House             2401\n",
       "             Restaurant(20-50)         851\n",
       "             Restaurant(<20)          1575\n",
       "Name: coupon, dtype: int64"
      ]
     },
     "execution_count": 20,
     "metadata": {},
     "output_type": "execute_result"
    }
   ],
   "source": [
    "data.groupby([\"temperature\",\"coupon\"])[\"coupon\"].count().reindex()\n"
   ]
  },
  {
   "cell_type": "code",
   "execution_count": 21,
   "metadata": {},
   "outputs": [
    {
     "data": {
      "image/png": "[encoded data removed]",
      "text/plain": [
       "<Figure size 640x480 with 1 Axes>"
      ]
     },
     "metadata": {},
     "output_type": "display_data"
    }
   ],
   "source": [
    "data[\"temperature\"].unique()\n",
    "data[\"temperature\"].value_counts()\n",
    "\n",
    "sns.histplot(x=\"temperature\",stat=\"count\", hue = \"coupon\",multiple=\"stack\",data=data)\n",
    "\n",
    "#format the graph\n",
    "plt.title(\"Coupon trends by temperature\")\n",
    "#show and save the graph\n",
    "plt.savefig(\"images/temp-coupon-histplot.png\")\n",
    "plt.show()"
   ]
  },
  {
   "cell_type": "code",
   "execution_count": null,
   "metadata": {},
   "outputs": [],
   "source": []
  },
  {
   "cell_type": "code",
   "execution_count": null,
   "metadata": {},
   "outputs": [],
   "source": []
  },
  {
   "cell_type": "code",
   "execution_count": null,
   "metadata": {},
   "outputs": [],
   "source": []
  },
  {
   "cell_type": "code",
   "execution_count": null,
   "metadata": {},
   "outputs": [],
   "source": []
  },
  {
   "cell_type": "markdown",
   "metadata": {},
   "source": [
    "**Investigating the Bar Coupons**\n",
    "\n",
    "Now, we will lead you through an exploration of just the bar related coupons.  \n",
    "\n",
    "1. Create a new `DataFrame` that contains just the bar coupons.\n"
   ]
  },
  {
   "cell_type": "code",
   "execution_count": 22,
   "metadata": {},
   "outputs": [
    {
     "data": {
      "text/plain": [
       "pandas.core.frame.DataFrame"
      ]
     },
     "execution_count": 22,
     "metadata": {},
     "output_type": "execute_result"
    }
   ],
   "source": [
    "bar_df = data.query('coupon==\"Bar\"')\n",
    "bar_df.shape\n",
    "type(bar_df)"
   ]
  },
  {
   "cell_type": "markdown",
   "metadata": {},
   "source": [
    "2. What proportion of bar coupons were accepted?\n"
   ]
  },
  {
   "cell_type": "code",
   "execution_count": 23,
   "metadata": {},
   "outputs": [
    {
     "name": "stdout",
     "output_type": "stream",
     "text": [
      "The overall acceptance rate of bar coupons is =827/2017,  41.00 %\n"
     ]
    }
   ],
   "source": [
    "#proportion of bar coupons accepted is the ratio of accepted bar coupons to the total bar coupons issues\n",
    "accepted_barcoupons = bar_df.query('Y==1')[\"Y\"].count()\n",
    "total_barcoupons= bar_df[\"Y\"].count()\n",
    "print(\"The overall acceptance rate of bar coupons is ={0}/{1},{2:7.2f} %\".format(accepted_barcoupons, total_barcoupons,(accepted_barcoupons/total_barcoupons)*100))"
   ]
  },
  {
   "cell_type": "markdown",
   "metadata": {},
   "source": [
    "3. Compare the acceptance rate between those who went to a bar 3 or fewer times a month to those who went more.\n"
   ]
  },
  {
   "cell_type": "code",
   "execution_count": 24,
   "metadata": {},
   "outputs": [
    {
     "data": {
      "text/plain": [
       "0              1421\n",
       "1~3             397\n",
       "4~8             150\n",
       "more than 8      49\n",
       "Name: Bar, dtype: int64"
      ]
     },
     "execution_count": 24,
     "metadata": {},
     "output_type": "execute_result"
    }
   ],
   "source": [
    "bar_df[\"Bar\"].value_counts()"
   ]
  },
  {
   "cell_type": "code",
   "execution_count": 25,
   "metadata": {},
   "outputs": [
    {
     "name": "stdout",
     "output_type": "stream",
     "text": [
      "The acceptance rate of bar coupons for persons that visit bar 3 or fewer times(674/1818)=  37.07 %\n"
     ]
    }
   ],
   "source": [
    "Allbar_lessthan3 = bar_df.query(\"Bar in ('0','1~3')\")[\"Y\"].agg('count')\n",
    "Ybar_lessthan3=bar_df.query(\"Bar in ('0','1~3') and Y == 1\")[\"Y\"].agg('count')\n",
    "print(\"The acceptance rate of bar coupons for persons that visit bar 3 or fewer times({0}/{1})={2:7.2f} %\".format(Ybar_lessthan3,Allbar_lessthan3,Ybar_lessthan3/Allbar_lessthan3*100))"
   ]
  },
  {
   "cell_type": "code",
   "execution_count": 26,
   "metadata": {},
   "outputs": [
    {
     "name": "stdout",
     "output_type": "stream",
     "text": [
      "The acceptance rate of bar coupons for persons that visit bar 3 or fewer times(674/1818)=  37.07 %\n"
     ]
    }
   ],
   "source": [
    "#return a series instead of an int\n",
    "Allbar_lessthan3 = bar_df.query(\"Bar in ('0','1~3')\")[[\"Bar\"]].agg('count')\n",
    "Ybar_lessthan3=bar_df.query(\"Bar in ('0','1~3') and Y == 1\")[[\"Bar\"]].agg('count')\n",
    "print(\"The acceptance rate of bar coupons for persons that visit bar 3 or fewer times({0}/{1})={2:7.2f} %\".format(Ybar_lessthan3[0],Allbar_lessthan3[0],Ybar_lessthan3[0]/Allbar_lessthan3[0]*100))"
   ]
  },
  {
   "cell_type": "code",
   "execution_count": 27,
   "metadata": {},
   "outputs": [
    {
     "name": "stdout",
     "output_type": "stream",
     "text": [
      "The acceptance rate of bar coupons for persons that visit bar more than 3 times in a month(153/199)=  76.88 %\n"
     ]
    }
   ],
   "source": [
    "Allbar_morethan3 = bar_df.query(\"Bar in ('4~8','more than 8')\")[\"Y\"].agg('count')\n",
    "Ybar_morethan3=bar_df.query(\"Bar in ('4~8','more than 8') and Y == 1\")[\"Y\"].agg('count')\n",
    "print(\"The acceptance rate of bar coupons for persons that visit bar more than 3 times in a month({0}/{1})={2:7.2f} %\".format(Ybar_morethan3,Allbar_morethan3,Ybar_morethan3/Allbar_morethan3*100))"
   ]
  },
  {
   "cell_type": "markdown",
   "metadata": {},
   "source": [
    "5. Use the same process to compare the acceptance rate between drivers who go to bars more than once a month and had passengers that were not a kid and had occupations other than farming, fishing, or forestry. \n"
   ]
  },
  {
   "cell_type": "code",
   "execution_count": 28,
   "metadata": {},
   "outputs": [
    {
     "data": {
      "text/plain": [
       "array(['Unmarried partner', 'Single', 'Married partner', 'Divorced',\n",
       "       'Widowed'], dtype=object)"
      ]
     },
     "execution_count": 28,
     "metadata": {},
     "output_type": "execute_result"
    }
   ],
   "source": [
    "data[\"maritalStatus\"].unique()"
   ]
  },
  {
   "cell_type": "markdown",
   "metadata": {},
   "source": [
    "6. Compare the acceptance rates between those drivers who:\n",
    "\n",
    "- go to bars more than once a month, had passengers that were not a kid, and were not widowed *OR*\n",
    "- go to bars more than once a month and are under the age of 30 *OR*"
   ]
  },
  {
   "cell_type": "code",
   "execution_count": 29,
   "metadata": {},
   "outputs": [
    {
     "data": {
      "text/plain": [
       "(596, 11)"
      ]
     },
     "execution_count": 29,
     "metadata": {},
     "output_type": "execute_result"
    }
   ],
   "source": [
    "#analyze acceptance rate with various conditions for users that go to the bar more than once a month\n",
    "#create dataframe for users that visit bar once a month\n",
    "usersthatvisitbars=bar_df.query('Bar in (\"1~3\", \"4~8\", \"more than 8\")')[['Bar','maritalStatus','passanger','Y',\n",
    "                                                                         'age','occupation','income']]\n",
    "def computeAge(age):\n",
    "    if age > 30:\n",
    "        return \"Over 30\"\n",
    "    else:\n",
    "        return \"Less than 30\"\n",
    "\n",
    "def computeOcc(occ):\n",
    "    if occ =='Farming Fishing & Forestry':\n",
    "        return \"Agri Occ\"\n",
    "    else:\n",
    "        return \"Non-Agri Occ\"\n",
    "\n",
    "def computemaritalStatus(maritalstatus):\n",
    "    if maritalstatus =='Widowed':\n",
    "        return \"Widowed\"\n",
    "    else:\n",
    "        return \"Not Widowed\"\n",
    "\n",
    "def computekidpassenger(passenger):\n",
    "    if passenger =='Kid(s)':\n",
    "        return \"Kid passenger\"\n",
    "    else:\n",
    "        return \"No Kid passenger\"\n",
    "    \n",
    "usersthatvisitbars['kidpassenger']=usersthatvisitbars['passanger'].map(lambda x: computekidpassenger(x))\n",
    "\n",
    "usersthatvisitbars['widoweddriver']=usersthatvisitbars['maritalStatus'].map(lambda x: computemaritalStatus(x))\n",
    "\n",
    "usersthatvisitbars['over30years']=usersthatvisitbars['age'].map(lambda x: computeAge(x))\n",
    "\n",
    "usersthatvisitbars['occinagriculture']=usersthatvisitbars['occupation'].map(lambda x: computeOcc(x))\n",
    "\n",
    "usersthatvisitbars.shape\n",
    "\n"
   ]
  },
  {
   "cell_type": "code",
   "execution_count": 30,
   "metadata": {},
   "outputs": [
    {
     "data": {
      "text/html": [
       "<div>\n",
       "<style scoped>\n",
       "    .dataframe tbody tr th:only-of-type {\n",
       "        vertical-align: middle;\n",
       "    }\n",
       "\n",
       "    .dataframe tbody tr th {\n",
       "        vertical-align: top;\n",
       "    }\n",
       "\n",
       "    .dataframe thead th {\n",
       "        text-align: right;\n",
       "    }\n",
       "</style>\n",
       "<table border=\"1\" class=\"dataframe\">\n",
       "  <thead>\n",
       "    <tr style=\"text-align: right;\">\n",
       "      <th></th>\n",
       "      <th>attribute</th>\n",
       "      <th>acceptance_rate</th>\n",
       "      <th>decline_rate</th>\n",
       "    </tr>\n",
       "  </thead>\n",
       "  <tbody>\n",
       "    <tr>\n",
       "      <th>0</th>\n",
       "      <td>Kid Passenger</td>\n",
       "      <td>37.777778</td>\n",
       "      <td>62.222222</td>\n",
       "    </tr>\n",
       "    <tr>\n",
       "      <th>1</th>\n",
       "      <td>No Kid Passenger</td>\n",
       "      <td>71.324864</td>\n",
       "      <td>28.675136</td>\n",
       "    </tr>\n",
       "    <tr>\n",
       "      <th>2</th>\n",
       "      <td>Widowed Driver</td>\n",
       "      <td>0.000000</td>\n",
       "      <td>0.000000</td>\n",
       "    </tr>\n",
       "    <tr>\n",
       "      <th>3</th>\n",
       "      <td>Not Widowed Driver</td>\n",
       "      <td>68.791946</td>\n",
       "      <td>31.208054</td>\n",
       "    </tr>\n",
       "    <tr>\n",
       "      <th>4</th>\n",
       "      <td>Agriculture Occ</td>\n",
       "      <td>0.000000</td>\n",
       "      <td>0.000000</td>\n",
       "    </tr>\n",
       "    <tr>\n",
       "      <th>5</th>\n",
       "      <td>Not Agriculture Occ</td>\n",
       "      <td>68.791946</td>\n",
       "      <td>31.208054</td>\n",
       "    </tr>\n",
       "    <tr>\n",
       "      <th>6</th>\n",
       "      <td>Over 30 years</td>\n",
       "      <td>64.143426</td>\n",
       "      <td>35.856574</td>\n",
       "    </tr>\n",
       "    <tr>\n",
       "      <th>7</th>\n",
       "      <td>Less than 30</td>\n",
       "      <td>72.173913</td>\n",
       "      <td>27.826087</td>\n",
       "    </tr>\n",
       "  </tbody>\n",
       "</table>\n",
       "</div>"
      ],
      "text/plain": [
       "             attribute  acceptance_rate  decline_rate\n",
       "0        Kid Passenger        37.777778     62.222222\n",
       "1     No Kid Passenger        71.324864     28.675136\n",
       "2       Widowed Driver         0.000000      0.000000\n",
       "3   Not Widowed Driver        68.791946     31.208054\n",
       "4      Agriculture Occ         0.000000      0.000000\n",
       "5  Not Agriculture Occ        68.791946     31.208054\n",
       "6        Over 30 years        64.143426     35.856574\n",
       "7         Less than 30        72.173913     27.826087"
      ]
     },
     "execution_count": 30,
     "metadata": {},
     "output_type": "execute_result"
    }
   ],
   "source": [
    "Barcoupondf = None\n",
    "\n",
    "Barcoupondf = pd.DataFrame()\n",
    "\n",
    "all_val_ds = usersthatvisitbars.query('kidpassenger==\"Kid passenger\"').groupby(['kidpassenger'])['kidpassenger'].count()\n",
    "if len(all_val_ds) > 0:\n",
    "    yes_val_ds = usersthatvisitbars.query('kidpassenger==\"Kid passenger\" and Y == 1').groupby(['kidpassenger'])['kidpassenger'].count()\n",
    "    no_val_ds = usersthatvisitbars.query('kidpassenger==\"Kid passenger\" and Y == 0').groupby(['kidpassenger'])['kidpassenger'].count()\n",
    "    new_row = pd.DataFrame({'attribute':[\"Kid Passenger\"],'acceptance_rate':[(yes_val_ds[0]/all_val_ds[0]*100)],\n",
    "                    'decline_rate':[(no_val_ds[0]/all_val_ds[0]*100)]})\n",
    "    Barcoupondf=pd.concat([Barcoupondf,new_row], ignore_index=True) \n",
    "        \n",
    "else:\n",
    "    new_row = pd.DataFrame({'attribute':[\"Kid Passenger\"],'acceptance_rate':[0],\n",
    "                    'decline_rate':[0]})\n",
    "    Barcoupondf=pd.concat([Barcoupondf,new_row], ignore_index=True)\n",
    "\n",
    "all_val_ds = usersthatvisitbars.query('kidpassenger==\"No Kid passenger\"').groupby(['kidpassenger'])['kidpassenger'].count()\n",
    "if len(all_val_ds) > 0:\n",
    "    yes_val_ds = usersthatvisitbars.query('kidpassenger==\"No Kid passenger\" and Y == 1').groupby(['kidpassenger'])['kidpassenger'].count()\n",
    "    no_val_ds = usersthatvisitbars.query('kidpassenger==\"No Kid passenger\" and Y == 0').groupby(['kidpassenger'])['kidpassenger'].count()\n",
    "    new_row = pd.DataFrame({'attribute':[\"No Kid Passenger\"],'acceptance_rate':[(yes_val_ds[0]/all_val_ds[0]*100)],\n",
    "                    'decline_rate':[(no_val_ds[0]/all_val_ds[0]*100)]})\n",
    "    Barcoupondf=pd.concat([Barcoupondf,new_row], ignore_index=True) \n",
    "else:\n",
    "    new_row = pd.DataFrame({'attribute':[\"No Kid Passenger\"],'acceptance_rate':[0],\n",
    "                    'decline_rate':[0]})\n",
    "    Barcoupondf=pd.concat([Barcoupondf,new_row], ignore_index=True) \n",
    "\n",
    "\n",
    "all_val_ds = usersthatvisitbars.query('widoweddriver==\"Widowed\"').groupby(['widoweddriver'])['widoweddriver'].count()\n",
    "if len(all_val_ds) > 0:\n",
    "    yes_val_ds = usersthatvisitbars.query('widoweddriver==\"Widowed\" and Y == 1').groupby(['widoweddriver'])['widoweddriver'].count()\n",
    "    no_val_ds = usersthatvisitbars.query('widoweddriver==\"Widowed\" and Y == 0').groupby(['widoweddriver'])['widoweddriver'].count()\n",
    "    new_row = pd.DataFrame({'attribute':[\"Widowed Driver\"],'acceptance_rate':[(yes_val_ds[0]/all_val_ds[0]*100)],\n",
    "                    'decline_rate':[(no_val_ds[0]/all_val_ds[0]*100)]})\n",
    "    Barcoupondf=pd.concat([Barcoupondf,new_row], ignore_index=True) \n",
    "else:\n",
    "    new_row = pd.DataFrame({'attribute':[\"Widowed Driver\"],'acceptance_rate':[0],\n",
    "                    'decline_rate':[0]})\n",
    "    Barcoupondf=pd.concat([Barcoupondf,new_row], ignore_index=True) \n",
    "    \n",
    "all_val_ds = usersthatvisitbars.query('widoweddriver==\"Not Widowed\"').groupby(['widoweddriver'])['widoweddriver'].count()\n",
    "if len(all_val_ds) > 0:\n",
    "    yes_val_ds = usersthatvisitbars.query('widoweddriver==\"Not Widowed\" and Y == 1').groupby(['widoweddriver'])['widoweddriver'].count()\n",
    "    no_val_ds = usersthatvisitbars.query('widoweddriver==\"Not Widowed\" and Y == 0').groupby(['widoweddriver'])['widoweddriver'].count()\n",
    "    new_row = pd.DataFrame({'attribute':[\"Not Widowed Driver\"],'acceptance_rate':[(yes_val_ds[0]/all_val_ds[0]*100)],\n",
    "                    'decline_rate':[(no_val_ds[0]/all_val_ds[0]*100)]})\n",
    "    Barcoupondf=pd.concat([Barcoupondf,new_row], ignore_index=True) \n",
    "else:\n",
    "    new_row = pd.DataFrame({'attribute':[\"Not Widowed Driver\"],'acceptance_rate':[0],\n",
    "                    'decline_rate':[0]})\n",
    "    Barcoupondf=pd.concat([Barcoupondf,new_row], ignore_index=True) \n",
    "\n",
    "\n",
    "all_val_ds = usersthatvisitbars.query('occinagriculture==\"Agri Occ\"').groupby(['occinagriculture'])['occinagriculture'].count()\n",
    "if len(all_val_ds) > 0:\n",
    "    yes_val_ds = usersthatvisitbars.query('occinagriculture==\"Agri Occ\" and Y == 1').groupby(['occinagriculture'])['occinagriculture'].count()\n",
    "    no_val_ds = usersthatvisitbars.query('occinagriculture==\"Agri Occ\" and Y == 0').groupby(['occinagriculture'])['occinagriculture'].count()\n",
    "    new_row = pd.DataFrame({'attribute':[\"Agriculture Occ\"],'acceptance_rate':[(yes_val_ds[0]/all_val_ds[0]*100)],\n",
    "                    'decline_rate':[(no_val_ds[0]/all_val_ds[0]*100)]})\n",
    "    Barcoupondf=pd.concat([Barcoupondf,new_row], ignore_index=True) \n",
    "else:\n",
    "    new_row = pd.DataFrame({'attribute':[\"Agriculture Occ\"],'acceptance_rate':[0],\n",
    "                    'decline_rate':[0]})\n",
    "    Barcoupondf=pd.concat([Barcoupondf,new_row], ignore_index=True) \n",
    "    \n",
    "all_val_ds = usersthatvisitbars.query('occinagriculture==\"Non-Agri Occ\"').groupby(['occinagriculture'])['occinagriculture'].count()\n",
    "if len(all_val_ds) > 0:\n",
    "    yes_val_ds = usersthatvisitbars.query('occinagriculture==\"Non-Agri Occ\" and Y == 1').groupby(['occinagriculture'])['occinagriculture'].count()\n",
    "    no_val_ds = usersthatvisitbars.query('occinagriculture==\"Non-Agri Occ\" and Y == 0').groupby(['occinagriculture'])['occinagriculture'].count()\n",
    "    new_row = pd.DataFrame({'attribute':[\"Not Agriculture Occ\"],'acceptance_rate':[(yes_val_ds[0]/all_val_ds[0]*100)],\n",
    "                    'decline_rate':[(no_val_ds[0]/all_val_ds[0]*100)]})\n",
    "    Barcoupondf=pd.concat([Barcoupondf,new_row], ignore_index=True) \n",
    "else:\n",
    "    new_row = pd.DataFrame({'attribute':[\"Not Agriculture Occ\"],'acceptance_rate':[0],\n",
    "                    'decline_rate':[0]})\n",
    "    Barcoupondf=pd.concat([Barcoupondf,new_row], ignore_index=True) \n",
    "\n",
    "\n",
    "all_val_ds = usersthatvisitbars.query('over30years==\"Over 30\"').groupby(['over30years'])['over30years'].count()\n",
    "if len(all_val_ds) > 0:\n",
    "    yes_val_ds = usersthatvisitbars.query('over30years==\"Over 30\" and Y == 1').groupby(['over30years'])['over30years'].count()\n",
    "    no_val_ds = usersthatvisitbars.query('over30years==\"Over 30\" and Y == 0').groupby(['over30years'])['over30years'].count()\n",
    "    new_row = pd.DataFrame({'attribute':[\"Over 30 years\"],'acceptance_rate':[(yes_val_ds[0]/all_val_ds[0]*100)],\n",
    "                    'decline_rate':[(no_val_ds[0]/all_val_ds[0]*100)]})\n",
    "    Barcoupondf=pd.concat([Barcoupondf,new_row], ignore_index=True) \n",
    "else:\n",
    "    new_row = pd.DataFrame({'attribute':[\"Over 30 years\"],'acceptance_rate':[0],\n",
    "                    'decline_rate':[0]})\n",
    "    Barcoupondf=pd.concat([Barcoupondf,new_row], ignore_index=True) \n",
    "    \n",
    "all_val_ds = usersthatvisitbars.query('over30years==\"Less than 30\"').groupby(['over30years'])['over30years'].count()\n",
    "if len(all_val_ds) > 0:\n",
    "    yes_val_ds = usersthatvisitbars.query('over30years==\"Less than 30\" and Y == 1').groupby(['over30years'])['over30years'].count()\n",
    "    no_val_ds = usersthatvisitbars.query('over30years==\"Less than 30\" and Y == 0').groupby(['over30years'])['over30years'].count()\n",
    "    new_row = pd.DataFrame({'attribute':[\"Less than 30\"],'acceptance_rate':[(yes_val_ds[0]/all_val_ds[0]*100)],\n",
    "                    'decline_rate':[(no_val_ds[0]/all_val_ds[0]*100)]})\n",
    "    Barcoupondf=pd.concat([Barcoupondf,new_row], ignore_index=True) \n",
    "else:\n",
    "    new_row = pd.DataFrame({'attribute':[\"Less than 30\"],'acceptance_rate':[0],\n",
    "                    'decline_rate':[0]})\n",
    "    Barcoupondf=pd.concat([Barcoupondf,new_row], ignore_index=True) \n",
    "    \n",
    "Barcoupondf\n"
   ]
  },
  {
   "cell_type": "code",
   "execution_count": 47,
   "metadata": {},
   "outputs": [
    {
     "data": {
      "text/plain": [
       "<function matplotlib.pyplot.show(close=None, block=None)>"
      ]
     },
     "execution_count": 47,
     "metadata": {},
     "output_type": "execute_result"
    },
    {
     "data": {
      "image/png": "[encoded data removed]",
      "text/plain": [
       "<Figure size 640x480 with 1 Axes>"
      ]
     },
     "metadata": {},
     "output_type": "display_data"
    }
   ],
   "source": [
    "#plot the Bar coupon acceptance rate against various attributes for people visiting the bar at least once in a month\n",
    "sns.barplot(x=\"attribute\",y=\"acceptance_rate\",data=Barcoupondf)\n",
    "plt.title(\"Acceptance rate of Bar coupons across various user demographics\")\n",
    "plt.xticks(rotation=90)\n",
    "plt.savefig(\"images/barcoupon-demographics-barplot.png\")\n",
    "plt.show"
   ]
  },
  {
   "cell_type": "code",
   "execution_count": 48,
   "metadata": {},
   "outputs": [
    {
     "data": {
      "text/plain": [
       "<function matplotlib.pyplot.show(close=None, block=None)>"
      ]
     },
     "execution_count": 48,
     "metadata": {},
     "output_type": "execute_result"
    },
    {
     "data": {
      "image/png": "[encoded data removed]",
      "text/plain": [
       "<Figure size 640x480 with 1 Axes>"
      ]
     },
     "metadata": {},
     "output_type": "display_data"
    }
   ],
   "source": [
    "sns.histplot(x=\"income\",data=usersthatvisitbars,hue=\"Y\", multiple=\"stack\")\n",
    "plt.title(\"Bar coupon acceptance ratio by income\")\n",
    "plt.xticks(rotation=90)\n",
    "plt.savefig(\"images/barcoupon-income-histplot.png\")\n",
    "plt.show"
   ]
  },
  {
   "cell_type": "code",
   "execution_count": 33,
   "metadata": {},
   "outputs": [
    {
     "ename": "SyntaxError",
     "evalue": "invalid syntax (1513249020.py, line 1)",
     "output_type": "error",
     "traceback": [
      "\u001b[0;36m  Cell \u001b[0;32mIn[33], line 1\u001b[0;36m\u001b[0m\n\u001b[0;31m    toCoupon_GEQ5min      12684 non-null  int64\u001b[0m\n\u001b[0m                          ^\u001b[0m\n\u001b[0;31mSyntaxError\u001b[0m\u001b[0;31m:\u001b[0m invalid syntax\n"
     ]
    }
   ],
   "source": [
    " toCoupon_GEQ5min      12684 non-null  int64 \n",
    " 21  toCoupon_GEQ15min     12684 non-null  int64 \n",
    " 22  toCoupon_GEQ25min     12684 non-null  int64 \n",
    " 23  direction_same        12684 non-null  int64 \n",
    " 24  direction_opp         12684 non-null  int64 \n",
    " 25  Y                     12684 non-null  int64 "
   ]
  },
  {
   "cell_type": "code",
   "execution_count": 36,
   "metadata": {},
   "outputs": [],
   "source": [
    "#create a correlation matrix between destination and distance from venue for uses that accepted bar coupons\n",
    "#to determine how this attribute impacts user acceptance of bar coupons\n",
    "#filter dataset for those who accepted bar coupons and venue is in same direction as destination\n",
    "bar_df2 = data.query('coupon==\"Bar\" and Y==1 and direction_same==1')[['destination','toCoupon_GEQ5min',\n",
    "                                                                      'toCoupon_GEQ15min','toCoupon_GEQ25min','time',\"Y\"]]\n",
    "#193 rows\n",
    "\n",
    "\n"
   ]
  },
  {
   "cell_type": "code",
   "execution_count": 37,
   "metadata": {},
   "outputs": [
    {
     "data": {
      "text/html": [
       "<div>\n",
       "<style scoped>\n",
       "    .dataframe tbody tr th:only-of-type {\n",
       "        vertical-align: middle;\n",
       "    }\n",
       "\n",
       "    .dataframe tbody tr th {\n",
       "        vertical-align: top;\n",
       "    }\n",
       "\n",
       "    .dataframe thead th {\n",
       "        text-align: right;\n",
       "    }\n",
       "</style>\n",
       "<table border=\"1\" class=\"dataframe\">\n",
       "  <thead>\n",
       "    <tr style=\"text-align: right;\">\n",
       "      <th></th>\n",
       "      <th>destination</th>\n",
       "      <th>dist_to_venue</th>\n",
       "      <th>time</th>\n",
       "      <th>Cnt</th>\n",
       "    </tr>\n",
       "  </thead>\n",
       "  <tbody>\n",
       "    <tr>\n",
       "      <th>0</th>\n",
       "      <td>Home</td>\n",
       "      <td>&gt;=5</td>\n",
       "      <td>10PM</td>\n",
       "      <td>22</td>\n",
       "    </tr>\n",
       "    <tr>\n",
       "      <th>1</th>\n",
       "      <td>Home</td>\n",
       "      <td>&gt;=5</td>\n",
       "      <td>6PM</td>\n",
       "      <td>145</td>\n",
       "    </tr>\n",
       "    <tr>\n",
       "      <th>2</th>\n",
       "      <td>Work</td>\n",
       "      <td>&gt;=5</td>\n",
       "      <td>7AM</td>\n",
       "      <td>26</td>\n",
       "    </tr>\n",
       "  </tbody>\n",
       "</table>\n",
       "</div>"
      ],
      "text/plain": [
       "  destination dist_to_venue  time  Cnt\n",
       "0        Home           >=5  10PM   22\n",
       "1        Home           >=5   6PM  145\n",
       "2        Work           >=5   7AM   26"
      ]
     },
     "execution_count": 37,
     "metadata": {},
     "output_type": "execute_result"
    }
   ],
   "source": [
    "ds1=bar_df2.groupby(['destination','toCoupon_GEQ5min','time'])[['toCoupon_GEQ5min']].count()\n",
    "ds1=ds1.rename(columns={'toCoupon_GEQ5min':'Cnt'}).reset_index()\n",
    "ds1=ds1.rename(columns={'toCoupon_GEQ5min':'dist_to_venue'})\n",
    "ds1['dist_to_venue']=\">=5\"\n",
    "ds1"
   ]
  },
  {
   "cell_type": "code",
   "execution_count": 38,
   "metadata": {},
   "outputs": [
    {
     "data": {
      "text/html": [
       "<div>\n",
       "<style scoped>\n",
       "    .dataframe tbody tr th:only-of-type {\n",
       "        vertical-align: middle;\n",
       "    }\n",
       "\n",
       "    .dataframe tbody tr th {\n",
       "        vertical-align: top;\n",
       "    }\n",
       "\n",
       "    .dataframe thead th {\n",
       "        text-align: right;\n",
       "    }\n",
       "</style>\n",
       "<table border=\"1\" class=\"dataframe\">\n",
       "  <thead>\n",
       "    <tr style=\"text-align: right;\">\n",
       "      <th></th>\n",
       "      <th>destination</th>\n",
       "      <th>dist_to_venue</th>\n",
       "      <th>time</th>\n",
       "      <th>Cnt</th>\n",
       "    </tr>\n",
       "  </thead>\n",
       "  <tbody>\n",
       "    <tr>\n",
       "      <th>0</th>\n",
       "      <td>Home</td>\n",
       "      <td>&lt;15</td>\n",
       "      <td>6PM</td>\n",
       "      <td>143</td>\n",
       "    </tr>\n",
       "    <tr>\n",
       "      <th>1</th>\n",
       "      <td>Home</td>\n",
       "      <td>&gt;=15</td>\n",
       "      <td>10PM</td>\n",
       "      <td>22</td>\n",
       "    </tr>\n",
       "    <tr>\n",
       "      <th>2</th>\n",
       "      <td>Home</td>\n",
       "      <td>&gt;=15</td>\n",
       "      <td>6PM</td>\n",
       "      <td>2</td>\n",
       "    </tr>\n",
       "    <tr>\n",
       "      <th>3</th>\n",
       "      <td>Work</td>\n",
       "      <td>&gt;=15</td>\n",
       "      <td>7AM</td>\n",
       "      <td>26</td>\n",
       "    </tr>\n",
       "  </tbody>\n",
       "</table>\n",
       "</div>"
      ],
      "text/plain": [
       "  destination dist_to_venue  time  Cnt\n",
       "0        Home           <15   6PM  143\n",
       "1        Home          >=15  10PM   22\n",
       "2        Home          >=15   6PM    2\n",
       "3        Work          >=15   7AM   26"
      ]
     },
     "execution_count": 38,
     "metadata": {},
     "output_type": "execute_result"
    }
   ],
   "source": [
    "ds2 = bar_df2.groupby(['destination','toCoupon_GEQ15min','time'])[['toCoupon_GEQ15min']].count()\n",
    "ds2=ds2.rename(columns={'toCoupon_GEQ15min':'Cnt'}).reset_index()\n",
    "ds2=ds2.rename(columns={'toCoupon_GEQ15min':'dist_to_venue'})\n",
    "#create filters and update dist_to_venue\n",
    "ds_filter = (ds2['dist_to_venue'] == 0)\n",
    "ds2.loc[ds_filter,'dist_to_venue'] = \"<15\"\n",
    "ds_filter = (ds2['dist_to_venue'] == 1)\n",
    "ds2.loc[ds_filter,'dist_to_venue'] = \">=15\"\n",
    "ds2"
   ]
  },
  {
   "cell_type": "code",
   "execution_count": 39,
   "metadata": {},
   "outputs": [
    {
     "data": {
      "text/html": [
       "<div>\n",
       "<style scoped>\n",
       "    .dataframe tbody tr th:only-of-type {\n",
       "        vertical-align: middle;\n",
       "    }\n",
       "\n",
       "    .dataframe tbody tr th {\n",
       "        vertical-align: top;\n",
       "    }\n",
       "\n",
       "    .dataframe thead th {\n",
       "        text-align: right;\n",
       "    }\n",
       "</style>\n",
       "<table border=\"1\" class=\"dataframe\">\n",
       "  <thead>\n",
       "    <tr style=\"text-align: right;\">\n",
       "      <th></th>\n",
       "      <th>destination</th>\n",
       "      <th>dist_to_venue</th>\n",
       "      <th>time</th>\n",
       "      <th>Cnt</th>\n",
       "    </tr>\n",
       "  </thead>\n",
       "  <tbody>\n",
       "    <tr>\n",
       "      <th>0</th>\n",
       "      <td>Home</td>\n",
       "      <td>&lt;25</td>\n",
       "      <td>10PM</td>\n",
       "      <td>22</td>\n",
       "    </tr>\n",
       "    <tr>\n",
       "      <th>1</th>\n",
       "      <td>Home</td>\n",
       "      <td>&lt;25</td>\n",
       "      <td>6PM</td>\n",
       "      <td>145</td>\n",
       "    </tr>\n",
       "    <tr>\n",
       "      <th>2</th>\n",
       "      <td>Work</td>\n",
       "      <td>&lt;25</td>\n",
       "      <td>7AM</td>\n",
       "      <td>26</td>\n",
       "    </tr>\n",
       "  </tbody>\n",
       "</table>\n",
       "</div>"
      ],
      "text/plain": [
       "  destination dist_to_venue  time  Cnt\n",
       "0        Home           <25  10PM   22\n",
       "1        Home           <25   6PM  145\n",
       "2        Work           <25   7AM   26"
      ]
     },
     "execution_count": 39,
     "metadata": {},
     "output_type": "execute_result"
    }
   ],
   "source": [
    "ds3=bar_df2.groupby(['destination','toCoupon_GEQ25min','time'])[['toCoupon_GEQ25min']].count()\n",
    "ds3=ds3.rename(columns={'toCoupon_GEQ25min':'Cnt'}).reset_index()\n",
    "ds3=ds3.rename(columns={'toCoupon_GEQ25min':'dist_to_venue'})\n",
    "ds_filter = (ds3['dist_to_venue'] == 0)\n",
    "ds3.loc[ds_filter,'dist_to_venue'] = \"<25\"\n",
    "ds3"
   ]
  },
  {
   "cell_type": "code",
   "execution_count": 45,
   "metadata": {},
   "outputs": [
    {
     "data": {
      "text/html": [
       "<div>\n",
       "<style scoped>\n",
       "    .dataframe tbody tr th:only-of-type {\n",
       "        vertical-align: middle;\n",
       "    }\n",
       "\n",
       "    .dataframe tbody tr th {\n",
       "        vertical-align: top;\n",
       "    }\n",
       "\n",
       "    .dataframe thead th {\n",
       "        text-align: right;\n",
       "    }\n",
       "</style>\n",
       "<table border=\"1\" class=\"dataframe\">\n",
       "  <thead>\n",
       "    <tr style=\"text-align: right;\">\n",
       "      <th></th>\n",
       "      <th>destination</th>\n",
       "      <th>dist_to_venue</th>\n",
       "      <th>time</th>\n",
       "      <th>Cnt</th>\n",
       "    </tr>\n",
       "  </thead>\n",
       "  <tbody>\n",
       "    <tr>\n",
       "      <th>0</th>\n",
       "      <td>Home</td>\n",
       "      <td>&gt;=5</td>\n",
       "      <td>10PM</td>\n",
       "      <td>22</td>\n",
       "    </tr>\n",
       "    <tr>\n",
       "      <th>1</th>\n",
       "      <td>Home</td>\n",
       "      <td>&gt;=5</td>\n",
       "      <td>6PM</td>\n",
       "      <td>145</td>\n",
       "    </tr>\n",
       "    <tr>\n",
       "      <th>2</th>\n",
       "      <td>Work</td>\n",
       "      <td>&gt;=5</td>\n",
       "      <td>7AM</td>\n",
       "      <td>26</td>\n",
       "    </tr>\n",
       "    <tr>\n",
       "      <th>3</th>\n",
       "      <td>Home</td>\n",
       "      <td>&lt;15</td>\n",
       "      <td>6PM</td>\n",
       "      <td>143</td>\n",
       "    </tr>\n",
       "    <tr>\n",
       "      <th>4</th>\n",
       "      <td>Home</td>\n",
       "      <td>&gt;=15</td>\n",
       "      <td>10PM</td>\n",
       "      <td>22</td>\n",
       "    </tr>\n",
       "    <tr>\n",
       "      <th>5</th>\n",
       "      <td>Home</td>\n",
       "      <td>&gt;=15</td>\n",
       "      <td>6PM</td>\n",
       "      <td>2</td>\n",
       "    </tr>\n",
       "    <tr>\n",
       "      <th>6</th>\n",
       "      <td>Work</td>\n",
       "      <td>&gt;=15</td>\n",
       "      <td>7AM</td>\n",
       "      <td>26</td>\n",
       "    </tr>\n",
       "    <tr>\n",
       "      <th>7</th>\n",
       "      <td>Home</td>\n",
       "      <td>&lt;25</td>\n",
       "      <td>10PM</td>\n",
       "      <td>22</td>\n",
       "    </tr>\n",
       "    <tr>\n",
       "      <th>8</th>\n",
       "      <td>Home</td>\n",
       "      <td>&lt;25</td>\n",
       "      <td>6PM</td>\n",
       "      <td>145</td>\n",
       "    </tr>\n",
       "    <tr>\n",
       "      <th>9</th>\n",
       "      <td>Work</td>\n",
       "      <td>&lt;25</td>\n",
       "      <td>7AM</td>\n",
       "      <td>26</td>\n",
       "    </tr>\n",
       "  </tbody>\n",
       "</table>\n",
       "</div>"
      ],
      "text/plain": [
       "  destination dist_to_venue  time  Cnt\n",
       "0        Home           >=5  10PM   22\n",
       "1        Home           >=5   6PM  145\n",
       "2        Work           >=5   7AM   26\n",
       "3        Home           <15   6PM  143\n",
       "4        Home          >=15  10PM   22\n",
       "5        Home          >=15   6PM    2\n",
       "6        Work          >=15   7AM   26\n",
       "7        Home           <25  10PM   22\n",
       "8        Home           <25   6PM  145\n",
       "9        Work           <25   7AM   26"
      ]
     },
     "execution_count": 45,
     "metadata": {},
     "output_type": "execute_result"
    }
   ],
   "source": [
    "#concatenate all datasets generated for bar coupons accepted when travelling in direction of venue\n",
    "barcoupon_indirdestdist_df = pd.DataFrame()\n",
    "barcoupon_indirdestdist_df=pd.concat([barcoupon_indirdestdist_df,ds1,ds2,ds3], ignore_index=True)\n",
    "barcoupon_indirdestdist_df"
   ]
  },
  {
   "cell_type": "code",
   "execution_count": 49,
   "metadata": {},
   "outputs": [
    {
     "data": {
      "text/plain": [
       "<function matplotlib.pyplot.show(close=None, block=None)>"
      ]
     },
     "execution_count": 49,
     "metadata": {},
     "output_type": "execute_result"
    },
    {
     "data": {
      "image/png": "[encoded data removed]",
      "text/plain": [
       "<Figure size 640x480 with 1 Axes>"
      ]
     },
     "metadata": {},
     "output_type": "display_data"
    }
   ],
   "source": [
    "#graph showing bar coupons accepted based on destination as 'Home\" and time of day\n",
    "sns.barplot(x=\"dist_to_venue\",y=\"Cnt\",hue=\"time\",data=barcoupon_indirdestdist_df.query(\"destination=='Home'\"))\n",
    "plt.title(\"Bar coupons acceptance count based on venues in direction to 'Home' destination and time of day\")\n",
    "plt.savefig(\"images/barcoupon-indirection-home-barplot.png\")\n",
    "plt.show"
   ]
  },
  {
   "cell_type": "code",
   "execution_count": 50,
   "metadata": {},
   "outputs": [
    {
     "data": {
      "text/plain": [
       "<function matplotlib.pyplot.show(close=None, block=None)>"
      ]
     },
     "execution_count": 50,
     "metadata": {},
     "output_type": "execute_result"
    },
    {
     "data": {
      "image/png": "[encoded data removed]",
      "text/plain": [
       "<Figure size 640x480 with 1 Axes>"
      ]
     },
     "metadata": {},
     "output_type": "display_data"
    }
   ],
   "source": [
    "\n",
    "#graph showing bar coupons accepted based on destination as 'Work\" and time of day\n",
    "sns.barplot(x=\"dist_to_venue\",y=\"Cnt\",hue=\"time\",data=barcoupon_indirdestdist_df.query(\"destination=='Work'\"))\n",
    "plt.title(\"Bar coupons acceptance count based on venues in dreiction to 'Work' destination and time of day\")\n",
    "plt.savefig(\"images/barcoupon-indirection-work-barplot.png\")\n",
    "plt.show"
   ]
  },
  {
   "cell_type": "code",
   "execution_count": 54,
   "metadata": {},
   "outputs": [
    {
     "data": {
      "text/plain": [
       "(634, 6)"
      ]
     },
     "execution_count": 54,
     "metadata": {},
     "output_type": "execute_result"
    }
   ],
   "source": [
    "bar_df3 = data.query('coupon==\"Bar\" and Y==1 and direction_opp==1')[['destination','toCoupon_GEQ5min',\n",
    "                                                                     'toCoupon_GEQ15min','toCoupon_GEQ25min','time',\"Y\"]]\n",
    "\n",
    "\n",
    "#634 rows\n",
    "bar_df3.shape"
   ]
  },
  {
   "cell_type": "code",
   "execution_count": 55,
   "metadata": {},
   "outputs": [
    {
     "data": {
      "text/html": [
       "<div>\n",
       "<style scoped>\n",
       "    .dataframe tbody tr th:only-of-type {\n",
       "        vertical-align: middle;\n",
       "    }\n",
       "\n",
       "    .dataframe tbody tr th {\n",
       "        vertical-align: top;\n",
       "    }\n",
       "\n",
       "    .dataframe thead th {\n",
       "        text-align: right;\n",
       "    }\n",
       "</style>\n",
       "<table border=\"1\" class=\"dataframe\">\n",
       "  <thead>\n",
       "    <tr style=\"text-align: right;\">\n",
       "      <th></th>\n",
       "      <th>destination</th>\n",
       "      <th>dist_to_venue</th>\n",
       "      <th>time</th>\n",
       "      <th>Cnt</th>\n",
       "    </tr>\n",
       "  </thead>\n",
       "  <tbody>\n",
       "    <tr>\n",
       "      <th>0</th>\n",
       "      <td>Home</td>\n",
       "      <td>&gt;=5</td>\n",
       "      <td>10PM</td>\n",
       "      <td>17</td>\n",
       "    </tr>\n",
       "    <tr>\n",
       "      <th>1</th>\n",
       "      <td>Home</td>\n",
       "      <td>&gt;=5</td>\n",
       "      <td>6PM</td>\n",
       "      <td>47</td>\n",
       "    </tr>\n",
       "    <tr>\n",
       "      <th>2</th>\n",
       "      <td>No Urgent Place</td>\n",
       "      <td>&gt;=5</td>\n",
       "      <td>10AM</td>\n",
       "      <td>161</td>\n",
       "    </tr>\n",
       "    <tr>\n",
       "      <th>3</th>\n",
       "      <td>No Urgent Place</td>\n",
       "      <td>&gt;=5</td>\n",
       "      <td>10PM</td>\n",
       "      <td>145</td>\n",
       "    </tr>\n",
       "    <tr>\n",
       "      <th>4</th>\n",
       "      <td>No Urgent Place</td>\n",
       "      <td>&gt;=5</td>\n",
       "      <td>2PM</td>\n",
       "      <td>40</td>\n",
       "    </tr>\n",
       "    <tr>\n",
       "      <th>5</th>\n",
       "      <td>No Urgent Place</td>\n",
       "      <td>&gt;=5</td>\n",
       "      <td>6PM</td>\n",
       "      <td>72</td>\n",
       "    </tr>\n",
       "    <tr>\n",
       "      <th>6</th>\n",
       "      <td>Work</td>\n",
       "      <td>&gt;=5</td>\n",
       "      <td>7AM</td>\n",
       "      <td>152</td>\n",
       "    </tr>\n",
       "  </tbody>\n",
       "</table>\n",
       "</div>"
      ],
      "text/plain": [
       "       destination dist_to_venue  time  Cnt\n",
       "0             Home           >=5  10PM   17\n",
       "1             Home           >=5   6PM   47\n",
       "2  No Urgent Place           >=5  10AM  161\n",
       "3  No Urgent Place           >=5  10PM  145\n",
       "4  No Urgent Place           >=5   2PM   40\n",
       "5  No Urgent Place           >=5   6PM   72\n",
       "6             Work           >=5   7AM  152"
      ]
     },
     "execution_count": 55,
     "metadata": {},
     "output_type": "execute_result"
    }
   ],
   "source": [
    "bar_df3_ds1=bar_df3.groupby(['destination','toCoupon_GEQ5min','time'])[['toCoupon_GEQ5min']].count()\n",
    "bar_df3_ds1=bar_df3_ds1.rename(columns={'toCoupon_GEQ5min':'Cnt'}).reset_index()\n",
    "bar_df3_ds1=bar_df3_ds1.rename(columns={'toCoupon_GEQ5min':'dist_to_venue'})\n",
    "#create filters and update dist_to_venue\n",
    "ds_filter = (bar_df3_ds1['dist_to_venue'] == 0)\n",
    "bar_df3_ds1.loc[ds_filter,'dist_to_venue'] = \"<5\"\n",
    "ds_filter = (bar_df3_ds1['dist_to_venue'] == 1)\n",
    "bar_df3_ds1.loc[ds_filter,'dist_to_venue'] = \">=5\"\n",
    "bar_df3_ds1\n"
   ]
  },
  {
   "cell_type": "code",
   "execution_count": 56,
   "metadata": {},
   "outputs": [
    {
     "data": {
      "text/html": [
       "<div>\n",
       "<style scoped>\n",
       "    .dataframe tbody tr th:only-of-type {\n",
       "        vertical-align: middle;\n",
       "    }\n",
       "\n",
       "    .dataframe tbody tr th {\n",
       "        vertical-align: top;\n",
       "    }\n",
       "\n",
       "    .dataframe thead th {\n",
       "        text-align: right;\n",
       "    }\n",
       "</style>\n",
       "<table border=\"1\" class=\"dataframe\">\n",
       "  <thead>\n",
       "    <tr style=\"text-align: right;\">\n",
       "      <th></th>\n",
       "      <th>destination</th>\n",
       "      <th>dist_to_venue</th>\n",
       "      <th>time</th>\n",
       "      <th>Cnt</th>\n",
       "    </tr>\n",
       "  </thead>\n",
       "  <tbody>\n",
       "    <tr>\n",
       "      <th>0</th>\n",
       "      <td>Home</td>\n",
       "      <td>&lt;15</td>\n",
       "      <td>10PM</td>\n",
       "      <td>1</td>\n",
       "    </tr>\n",
       "    <tr>\n",
       "      <th>1</th>\n",
       "      <td>Home</td>\n",
       "      <td>&gt;=15</td>\n",
       "      <td>10PM</td>\n",
       "      <td>16</td>\n",
       "    </tr>\n",
       "    <tr>\n",
       "      <th>2</th>\n",
       "      <td>Home</td>\n",
       "      <td>&gt;=15</td>\n",
       "      <td>6PM</td>\n",
       "      <td>47</td>\n",
       "    </tr>\n",
       "    <tr>\n",
       "      <th>3</th>\n",
       "      <td>No Urgent Place</td>\n",
       "      <td>&lt;15</td>\n",
       "      <td>10AM</td>\n",
       "      <td>102</td>\n",
       "    </tr>\n",
       "    <tr>\n",
       "      <th>4</th>\n",
       "      <td>No Urgent Place</td>\n",
       "      <td>&lt;15</td>\n",
       "      <td>2PM</td>\n",
       "      <td>40</td>\n",
       "    </tr>\n",
       "    <tr>\n",
       "      <th>5</th>\n",
       "      <td>No Urgent Place</td>\n",
       "      <td>&lt;15</td>\n",
       "      <td>6PM</td>\n",
       "      <td>8</td>\n",
       "    </tr>\n",
       "    <tr>\n",
       "      <th>6</th>\n",
       "      <td>No Urgent Place</td>\n",
       "      <td>&gt;=15</td>\n",
       "      <td>10AM</td>\n",
       "      <td>59</td>\n",
       "    </tr>\n",
       "    <tr>\n",
       "      <th>7</th>\n",
       "      <td>No Urgent Place</td>\n",
       "      <td>&gt;=15</td>\n",
       "      <td>10PM</td>\n",
       "      <td>145</td>\n",
       "    </tr>\n",
       "    <tr>\n",
       "      <th>8</th>\n",
       "      <td>No Urgent Place</td>\n",
       "      <td>&gt;=15</td>\n",
       "      <td>6PM</td>\n",
       "      <td>64</td>\n",
       "    </tr>\n",
       "    <tr>\n",
       "      <th>9</th>\n",
       "      <td>Work</td>\n",
       "      <td>&lt;15</td>\n",
       "      <td>7AM</td>\n",
       "      <td>5</td>\n",
       "    </tr>\n",
       "    <tr>\n",
       "      <th>10</th>\n",
       "      <td>Work</td>\n",
       "      <td>&gt;=15</td>\n",
       "      <td>7AM</td>\n",
       "      <td>147</td>\n",
       "    </tr>\n",
       "  </tbody>\n",
       "</table>\n",
       "</div>"
      ],
      "text/plain": [
       "        destination dist_to_venue  time  Cnt\n",
       "0              Home           <15  10PM    1\n",
       "1              Home          >=15  10PM   16\n",
       "2              Home          >=15   6PM   47\n",
       "3   No Urgent Place           <15  10AM  102\n",
       "4   No Urgent Place           <15   2PM   40\n",
       "5   No Urgent Place           <15   6PM    8\n",
       "6   No Urgent Place          >=15  10AM   59\n",
       "7   No Urgent Place          >=15  10PM  145\n",
       "8   No Urgent Place          >=15   6PM   64\n",
       "9              Work           <15   7AM    5\n",
       "10             Work          >=15   7AM  147"
      ]
     },
     "execution_count": 56,
     "metadata": {},
     "output_type": "execute_result"
    }
   ],
   "source": [
    "bar_df3_ds2 = bar_df3.groupby(['destination','toCoupon_GEQ15min','time'])[['toCoupon_GEQ15min']].count()\n",
    "bar_df3_ds2=bar_df3_ds2.rename(columns={'toCoupon_GEQ15min':'Cnt'}).reset_index()\n",
    "bar_df3_ds2=bar_df3_ds2.rename(columns={'toCoupon_GEQ15min':'dist_to_venue'})\n",
    "#create filters and update dist_to_venue\n",
    "ds_filter = (bar_df3_ds2['dist_to_venue'] == 0)\n",
    "bar_df3_ds2.loc[ds_filter,'dist_to_venue'] = \"<15\"\n",
    "ds_filter = (bar_df3_ds2['dist_to_venue'] == 1)\n",
    "bar_df3_ds2.loc[ds_filter,'dist_to_venue'] = \">=15\"\n",
    "bar_df3_ds2"
   ]
  },
  {
   "cell_type": "code",
   "execution_count": 57,
   "metadata": {},
   "outputs": [
    {
     "data": {
      "text/html": [
       "<div>\n",
       "<style scoped>\n",
       "    .dataframe tbody tr th:only-of-type {\n",
       "        vertical-align: middle;\n",
       "    }\n",
       "\n",
       "    .dataframe tbody tr th {\n",
       "        vertical-align: top;\n",
       "    }\n",
       "\n",
       "    .dataframe thead th {\n",
       "        text-align: right;\n",
       "    }\n",
       "</style>\n",
       "<table border=\"1\" class=\"dataframe\">\n",
       "  <thead>\n",
       "    <tr style=\"text-align: right;\">\n",
       "      <th></th>\n",
       "      <th>destination</th>\n",
       "      <th>dist_to_venue</th>\n",
       "      <th>time</th>\n",
       "      <th>Cnt</th>\n",
       "    </tr>\n",
       "  </thead>\n",
       "  <tbody>\n",
       "    <tr>\n",
       "      <th>0</th>\n",
       "      <td>Home</td>\n",
       "      <td>&lt;25</td>\n",
       "      <td>10PM</td>\n",
       "      <td>1</td>\n",
       "    </tr>\n",
       "    <tr>\n",
       "      <th>1</th>\n",
       "      <td>Home</td>\n",
       "      <td>&lt;25</td>\n",
       "      <td>6PM</td>\n",
       "      <td>13</td>\n",
       "    </tr>\n",
       "    <tr>\n",
       "      <th>2</th>\n",
       "      <td>Home</td>\n",
       "      <td>&gt;=25</td>\n",
       "      <td>10PM</td>\n",
       "      <td>16</td>\n",
       "    </tr>\n",
       "    <tr>\n",
       "      <th>3</th>\n",
       "      <td>Home</td>\n",
       "      <td>&gt;=25</td>\n",
       "      <td>6PM</td>\n",
       "      <td>34</td>\n",
       "    </tr>\n",
       "    <tr>\n",
       "      <th>4</th>\n",
       "      <td>No Urgent Place</td>\n",
       "      <td>&lt;25</td>\n",
       "      <td>10AM</td>\n",
       "      <td>161</td>\n",
       "    </tr>\n",
       "    <tr>\n",
       "      <th>5</th>\n",
       "      <td>No Urgent Place</td>\n",
       "      <td>&lt;25</td>\n",
       "      <td>10PM</td>\n",
       "      <td>145</td>\n",
       "    </tr>\n",
       "    <tr>\n",
       "      <th>6</th>\n",
       "      <td>No Urgent Place</td>\n",
       "      <td>&lt;25</td>\n",
       "      <td>2PM</td>\n",
       "      <td>40</td>\n",
       "    </tr>\n",
       "    <tr>\n",
       "      <th>7</th>\n",
       "      <td>No Urgent Place</td>\n",
       "      <td>&lt;25</td>\n",
       "      <td>6PM</td>\n",
       "      <td>72</td>\n",
       "    </tr>\n",
       "    <tr>\n",
       "      <th>8</th>\n",
       "      <td>Work</td>\n",
       "      <td>&lt;25</td>\n",
       "      <td>7AM</td>\n",
       "      <td>5</td>\n",
       "    </tr>\n",
       "    <tr>\n",
       "      <th>9</th>\n",
       "      <td>Work</td>\n",
       "      <td>&gt;=25</td>\n",
       "      <td>7AM</td>\n",
       "      <td>147</td>\n",
       "    </tr>\n",
       "  </tbody>\n",
       "</table>\n",
       "</div>"
      ],
      "text/plain": [
       "       destination dist_to_venue  time  Cnt\n",
       "0             Home           <25  10PM    1\n",
       "1             Home           <25   6PM   13\n",
       "2             Home          >=25  10PM   16\n",
       "3             Home          >=25   6PM   34\n",
       "4  No Urgent Place           <25  10AM  161\n",
       "5  No Urgent Place           <25  10PM  145\n",
       "6  No Urgent Place           <25   2PM   40\n",
       "7  No Urgent Place           <25   6PM   72\n",
       "8             Work           <25   7AM    5\n",
       "9             Work          >=25   7AM  147"
      ]
     },
     "execution_count": 57,
     "metadata": {},
     "output_type": "execute_result"
    }
   ],
   "source": [
    "bar_df3_ds3=bar_df3.groupby(['destination','toCoupon_GEQ25min','time'])[['toCoupon_GEQ25min']].count()\n",
    "bar_df3_ds3=bar_df3_ds3.rename(columns={'toCoupon_GEQ25min':'Cnt'}).reset_index()\n",
    "bar_df3_ds3=bar_df3_ds3.rename(columns={'toCoupon_GEQ25min':'dist_to_venue'})\n",
    "ds_filter = (bar_df3_ds3['dist_to_venue'] == 0)\n",
    "bar_df3_ds3.loc[ds_filter,'dist_to_venue'] = \"<25\"\n",
    "ds_filter = (bar_df3_ds3['dist_to_venue'] == 1)\n",
    "bar_df3_ds3.loc[ds_filter,'dist_to_venue'] = \">=25\"\n",
    "bar_df3_ds3\n"
   ]
  },
  {
   "cell_type": "code",
   "execution_count": 58,
   "metadata": {},
   "outputs": [
    {
     "data": {
      "text/html": [
       "<div>\n",
       "<style scoped>\n",
       "    .dataframe tbody tr th:only-of-type {\n",
       "        vertical-align: middle;\n",
       "    }\n",
       "\n",
       "    .dataframe tbody tr th {\n",
       "        vertical-align: top;\n",
       "    }\n",
       "\n",
       "    .dataframe thead th {\n",
       "        text-align: right;\n",
       "    }\n",
       "</style>\n",
       "<table border=\"1\" class=\"dataframe\">\n",
       "  <thead>\n",
       "    <tr style=\"text-align: right;\">\n",
       "      <th></th>\n",
       "      <th>destination</th>\n",
       "      <th>dist_to_venue</th>\n",
       "      <th>time</th>\n",
       "      <th>Cnt</th>\n",
       "    </tr>\n",
       "  </thead>\n",
       "  <tbody>\n",
       "    <tr>\n",
       "      <th>0</th>\n",
       "      <td>Home</td>\n",
       "      <td>&gt;=5</td>\n",
       "      <td>10PM</td>\n",
       "      <td>17</td>\n",
       "    </tr>\n",
       "    <tr>\n",
       "      <th>1</th>\n",
       "      <td>Home</td>\n",
       "      <td>&gt;=5</td>\n",
       "      <td>6PM</td>\n",
       "      <td>47</td>\n",
       "    </tr>\n",
       "    <tr>\n",
       "      <th>2</th>\n",
       "      <td>No Urgent Place</td>\n",
       "      <td>&gt;=5</td>\n",
       "      <td>10AM</td>\n",
       "      <td>161</td>\n",
       "    </tr>\n",
       "    <tr>\n",
       "      <th>3</th>\n",
       "      <td>No Urgent Place</td>\n",
       "      <td>&gt;=5</td>\n",
       "      <td>10PM</td>\n",
       "      <td>145</td>\n",
       "    </tr>\n",
       "    <tr>\n",
       "      <th>4</th>\n",
       "      <td>No Urgent Place</td>\n",
       "      <td>&gt;=5</td>\n",
       "      <td>2PM</td>\n",
       "      <td>40</td>\n",
       "    </tr>\n",
       "    <tr>\n",
       "      <th>5</th>\n",
       "      <td>No Urgent Place</td>\n",
       "      <td>&gt;=5</td>\n",
       "      <td>6PM</td>\n",
       "      <td>72</td>\n",
       "    </tr>\n",
       "    <tr>\n",
       "      <th>6</th>\n",
       "      <td>Work</td>\n",
       "      <td>&gt;=5</td>\n",
       "      <td>7AM</td>\n",
       "      <td>152</td>\n",
       "    </tr>\n",
       "    <tr>\n",
       "      <th>7</th>\n",
       "      <td>Home</td>\n",
       "      <td>&lt;15</td>\n",
       "      <td>10PM</td>\n",
       "      <td>1</td>\n",
       "    </tr>\n",
       "    <tr>\n",
       "      <th>8</th>\n",
       "      <td>Home</td>\n",
       "      <td>&gt;=15</td>\n",
       "      <td>10PM</td>\n",
       "      <td>16</td>\n",
       "    </tr>\n",
       "    <tr>\n",
       "      <th>9</th>\n",
       "      <td>Home</td>\n",
       "      <td>&gt;=15</td>\n",
       "      <td>6PM</td>\n",
       "      <td>47</td>\n",
       "    </tr>\n",
       "    <tr>\n",
       "      <th>10</th>\n",
       "      <td>No Urgent Place</td>\n",
       "      <td>&lt;15</td>\n",
       "      <td>10AM</td>\n",
       "      <td>102</td>\n",
       "    </tr>\n",
       "    <tr>\n",
       "      <th>11</th>\n",
       "      <td>No Urgent Place</td>\n",
       "      <td>&lt;15</td>\n",
       "      <td>2PM</td>\n",
       "      <td>40</td>\n",
       "    </tr>\n",
       "    <tr>\n",
       "      <th>12</th>\n",
       "      <td>No Urgent Place</td>\n",
       "      <td>&lt;15</td>\n",
       "      <td>6PM</td>\n",
       "      <td>8</td>\n",
       "    </tr>\n",
       "    <tr>\n",
       "      <th>13</th>\n",
       "      <td>No Urgent Place</td>\n",
       "      <td>&gt;=15</td>\n",
       "      <td>10AM</td>\n",
       "      <td>59</td>\n",
       "    </tr>\n",
       "    <tr>\n",
       "      <th>14</th>\n",
       "      <td>No Urgent Place</td>\n",
       "      <td>&gt;=15</td>\n",
       "      <td>10PM</td>\n",
       "      <td>145</td>\n",
       "    </tr>\n",
       "    <tr>\n",
       "      <th>15</th>\n",
       "      <td>No Urgent Place</td>\n",
       "      <td>&gt;=15</td>\n",
       "      <td>6PM</td>\n",
       "      <td>64</td>\n",
       "    </tr>\n",
       "    <tr>\n",
       "      <th>16</th>\n",
       "      <td>Work</td>\n",
       "      <td>&lt;15</td>\n",
       "      <td>7AM</td>\n",
       "      <td>5</td>\n",
       "    </tr>\n",
       "    <tr>\n",
       "      <th>17</th>\n",
       "      <td>Work</td>\n",
       "      <td>&gt;=15</td>\n",
       "      <td>7AM</td>\n",
       "      <td>147</td>\n",
       "    </tr>\n",
       "    <tr>\n",
       "      <th>18</th>\n",
       "      <td>Home</td>\n",
       "      <td>&lt;25</td>\n",
       "      <td>10PM</td>\n",
       "      <td>1</td>\n",
       "    </tr>\n",
       "    <tr>\n",
       "      <th>19</th>\n",
       "      <td>Home</td>\n",
       "      <td>&lt;25</td>\n",
       "      <td>6PM</td>\n",
       "      <td>13</td>\n",
       "    </tr>\n",
       "    <tr>\n",
       "      <th>20</th>\n",
       "      <td>Home</td>\n",
       "      <td>&gt;=25</td>\n",
       "      <td>10PM</td>\n",
       "      <td>16</td>\n",
       "    </tr>\n",
       "    <tr>\n",
       "      <th>21</th>\n",
       "      <td>Home</td>\n",
       "      <td>&gt;=25</td>\n",
       "      <td>6PM</td>\n",
       "      <td>34</td>\n",
       "    </tr>\n",
       "    <tr>\n",
       "      <th>22</th>\n",
       "      <td>No Urgent Place</td>\n",
       "      <td>&lt;25</td>\n",
       "      <td>10AM</td>\n",
       "      <td>161</td>\n",
       "    </tr>\n",
       "    <tr>\n",
       "      <th>23</th>\n",
       "      <td>No Urgent Place</td>\n",
       "      <td>&lt;25</td>\n",
       "      <td>10PM</td>\n",
       "      <td>145</td>\n",
       "    </tr>\n",
       "    <tr>\n",
       "      <th>24</th>\n",
       "      <td>No Urgent Place</td>\n",
       "      <td>&lt;25</td>\n",
       "      <td>2PM</td>\n",
       "      <td>40</td>\n",
       "    </tr>\n",
       "    <tr>\n",
       "      <th>25</th>\n",
       "      <td>No Urgent Place</td>\n",
       "      <td>&lt;25</td>\n",
       "      <td>6PM</td>\n",
       "      <td>72</td>\n",
       "    </tr>\n",
       "    <tr>\n",
       "      <th>26</th>\n",
       "      <td>Work</td>\n",
       "      <td>&lt;25</td>\n",
       "      <td>7AM</td>\n",
       "      <td>5</td>\n",
       "    </tr>\n",
       "    <tr>\n",
       "      <th>27</th>\n",
       "      <td>Work</td>\n",
       "      <td>&gt;=25</td>\n",
       "      <td>7AM</td>\n",
       "      <td>147</td>\n",
       "    </tr>\n",
       "  </tbody>\n",
       "</table>\n",
       "</div>"
      ],
      "text/plain": [
       "        destination dist_to_venue  time  Cnt\n",
       "0              Home           >=5  10PM   17\n",
       "1              Home           >=5   6PM   47\n",
       "2   No Urgent Place           >=5  10AM  161\n",
       "3   No Urgent Place           >=5  10PM  145\n",
       "4   No Urgent Place           >=5   2PM   40\n",
       "5   No Urgent Place           >=5   6PM   72\n",
       "6              Work           >=5   7AM  152\n",
       "7              Home           <15  10PM    1\n",
       "8              Home          >=15  10PM   16\n",
       "9              Home          >=15   6PM   47\n",
       "10  No Urgent Place           <15  10AM  102\n",
       "11  No Urgent Place           <15   2PM   40\n",
       "12  No Urgent Place           <15   6PM    8\n",
       "13  No Urgent Place          >=15  10AM   59\n",
       "14  No Urgent Place          >=15  10PM  145\n",
       "15  No Urgent Place          >=15   6PM   64\n",
       "16             Work           <15   7AM    5\n",
       "17             Work          >=15   7AM  147\n",
       "18             Home           <25  10PM    1\n",
       "19             Home           <25   6PM   13\n",
       "20             Home          >=25  10PM   16\n",
       "21             Home          >=25   6PM   34\n",
       "22  No Urgent Place           <25  10AM  161\n",
       "23  No Urgent Place           <25  10PM  145\n",
       "24  No Urgent Place           <25   2PM   40\n",
       "25  No Urgent Place           <25   6PM   72\n",
       "26             Work           <25   7AM    5\n",
       "27             Work          >=25   7AM  147"
      ]
     },
     "execution_count": 58,
     "metadata": {},
     "output_type": "execute_result"
    }
   ],
   "source": [
    "#concatenate all datasets generated for bar coupons accepted when travelling opposite direction of venue\n",
    "barcoupon_oppdirdestdist_df = pd.DataFrame()\n",
    "barcoupon_oppdirdestdist_df=pd.concat([barcoupon_oppdirdestdist_df,bar_df3_ds1,bar_df3_ds2,bar_df3_ds3], ignore_index=True)\n",
    "barcoupon_oppdirdestdist_df"
   ]
  },
  {
   "cell_type": "code",
   "execution_count": 63,
   "metadata": {},
   "outputs": [
    {
     "data": {
      "text/plain": [
       "<function matplotlib.pyplot.show(close=None, block=None)>"
      ]
     },
     "execution_count": 63,
     "metadata": {},
     "output_type": "execute_result"
    },
    {
     "data": {
      "image/png": "[encoded data removed]",
      "text/plain": [
       "<Figure size 640x480 with 1 Axes>"
      ]
     },
     "metadata": {},
     "output_type": "display_data"
    }
   ],
   "source": [
    "#graph showing bar coupons accepted based on destination as 'Home\" and time of day\n",
    "sns.barplot(x=\"dist_to_venue\",y=\"Cnt\",hue=\"time\",data=barcoupon_oppdirdestdist_df.query(\"destination=='Home'\"))\n",
    "plt.title(\"Bar coupons acceptance count based on venues opposite direction to 'Home' destination with time of day\")\n",
    "plt.savefig(\"images/barcoupon-oppdirection-home-barplot.png\")\n",
    "plt.show"
   ]
  },
  {
   "cell_type": "code",
   "execution_count": 60,
   "metadata": {},
   "outputs": [
    {
     "data": {
      "text/plain": [
       "<function matplotlib.pyplot.show(close=None, block=None)>"
      ]
     },
     "execution_count": 60,
     "metadata": {},
     "output_type": "execute_result"
    },
    {
     "data": {
      "image/png": "[encoded data removed]",
      "text/plain": [
       "<Figure size 640x480 with 1 Axes>"
      ]
     },
     "metadata": {},
     "output_type": "display_data"
    }
   ],
   "source": [
    "#graph showing bar coupons accepted based on destination as 'Home\" and time of day\n",
    "sns.barplot(x=\"dist_to_venue\",y=\"Cnt\",hue=\"time\",data=barcoupon_oppdirdestdist_df.query(\"destination=='Work'\"))\n",
    "plt.title(\"Bar coupons acceptance count based on venues opposite direction to 'Work' destination with time of day\")\n",
    "plt.savefig(\"images/barcoupon-oppdirection-work-barplot.png\")\n",
    "plt.show"
   ]
  },
  {
   "cell_type": "code",
   "execution_count": 61,
   "metadata": {},
   "outputs": [
    {
     "data": {
      "text/plain": [
       "<function matplotlib.pyplot.show(close=None, block=None)>"
      ]
     },
     "execution_count": 61,
     "metadata": {},
     "output_type": "execute_result"
    },
    {
     "data": {
      "image/png": "[encoded data removed]",
      "text/plain": [
       "<Figure size 640x480 with 1 Axes>"
      ]
     },
     "metadata": {},
     "output_type": "display_data"
    }
   ],
   "source": [
    "#graph showing bar coupons accepted based on destination as 'Home\" and time of day\n",
    "sns.barplot(x=\"dist_to_venue\",y=\"Cnt\",hue=\"time\",data=barcoupon_oppdirdestdist_df.query(\"destination=='No Urgent Place'\"))\n",
    "plt.title(\"Bar coupons acceptance count based on venues opposite direction to 'Other (nothome or work)' destination with time of day\")\n",
    "plt.savefig(\"images/barcoupon-oppdirection-other-barplot.png\")\n",
    "plt.show"
   ]
  },
  {
   "cell_type": "code",
   "execution_count": null,
   "metadata": {},
   "outputs": [],
   "source": []
  },
  {
   "cell_type": "markdown",
   "metadata": {},
   "source": [
    "7.  Based on these observations, what do you hypothesize about drivers who accepted the bar coupons?"
   ]
  },
  {
   "cell_type": "markdown",
   "metadata": {},
   "source": []
  },
  {
   "cell_type": "markdown",
   "metadata": {},
   "source": [
    "6. Compare the acceptance rates between those drivers who:\n",
    "\n",
    "- go to bars more than once a month, had passengers that were not a kid, and were not widowed *OR*\n",
    "- go to bars more than once a month and are under the age of 30 *OR*\n",
    "- go to cheap restaurants more than 4 times a month and income is less than 50K. \n",
    "\n"
   ]
  },
  {
   "cell_type": "code",
   "execution_count": null,
   "metadata": {},
   "outputs": [],
   "source": []
  },
  {
   "cell_type": "markdown",
   "metadata": {},
   "source": [
    "### Independent Investigation\n",
    "\n",
    "Using the bar coupon example as motivation, you are to explore one of the other coupon groups and try to determine the characteristics of passengers who accept the coupons.  "
   ]
  },
  {
   "cell_type": "code",
   "execution_count": null,
   "metadata": {},
   "outputs": [],
   "source": []
  },
  {
   "cell_type": "code",
   "execution_count": null,
   "metadata": {},
   "outputs": [],
   "source": []
  },
  {
   "cell_type": "code",
   "execution_count": null,
   "metadata": {},
   "outputs": [],
   "source": []
  },
  {
   "cell_type": "code",
   "execution_count": null,
   "metadata": {},
   "outputs": [],
   "source": []
  },
  {
   "cell_type": "code",
   "execution_count": null,
   "metadata": {},
   "outputs": [],
   "source": []
  }
 ],
 "metadata": {
  "kernelspec": {
   "display_name": "Python 3 (ipykernel)",
   "language": "python",
   "name": "python3"
  },
  "language_info": {
   "codemirror_mode": {
    "name": "ipython",
    "version": 3
   },
   "file_extension": ".py",
   "mimetype": "text/x-python",
   "name": "python",
   "nbconvert_exporter": "python",
   "pygments_lexer": "ipython3",
   "version": "3.11.4"
  },
  "widgets": {
   "application/vnd.jupyter.widget-state+json": {
    "state": {},
    "version_major": 2,
    "version_minor": 0
   }
  }
 },
 "nbformat": 4,
 "nbformat_minor": 4
}
