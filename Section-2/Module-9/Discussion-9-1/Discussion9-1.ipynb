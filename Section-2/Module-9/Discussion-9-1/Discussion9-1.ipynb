{
 "cells": [
  {
   "cell_type": "markdown",
   "id": "2437f0fa",
   "metadata": {},
   "source": [
    "## Discussion 9.1 notebook"
   ]
  },
  {
   "cell_type": "code",
   "execution_count": 42,
   "id": "b6d2cd04",
   "metadata": {},
   "outputs": [],
   "source": [
    "from sklearn.model_selection import train_test_split, GridSearchCV, KFold, LeaveOneOut\n",
    "from sklearn.linear_model import LinearRegression\n",
    "from sklearn.metrics import mean_squared_error\n",
    "from sklearn import set_config\n",
    "set_config(display=\"diagram\")\n",
    "\n",
    "import matplotlib.pyplot as plt\n",
    "import pandas as pd\n",
    "import numpy as np"
   ]
  },
  {
   "cell_type": "code",
   "execution_count": 52,
   "id": "39a35e13",
   "metadata": {},
   "outputs": [],
   "source": [
    "#load dataset\n",
    "primary_ds = pd.read_csv(\"data/kidney-stone-dataset.csv\", index_col = [0])"
   ]
  },
  {
   "cell_type": "code",
   "execution_count": 53,
   "id": "ab96ce9c",
   "metadata": {},
   "outputs": [
    {
     "data": {
      "text/html": [
       "<div>\n",
       "<style scoped>\n",
       "    .dataframe tbody tr th:only-of-type {\n",
       "        vertical-align: middle;\n",
       "    }\n",
       "\n",
       "    .dataframe tbody tr th {\n",
       "        vertical-align: top;\n",
       "    }\n",
       "\n",
       "    .dataframe thead th {\n",
       "        text-align: right;\n",
       "    }\n",
       "</style>\n",
       "<table border=\"1\" class=\"dataframe\">\n",
       "  <thead>\n",
       "    <tr style=\"text-align: right;\">\n",
       "      <th></th>\n",
       "      <th>gravity</th>\n",
       "      <th>ph</th>\n",
       "      <th>osmo</th>\n",
       "      <th>cond</th>\n",
       "      <th>urea</th>\n",
       "      <th>calc</th>\n",
       "      <th>target</th>\n",
       "    </tr>\n",
       "  </thead>\n",
       "  <tbody>\n",
       "    <tr>\n",
       "      <th>0</th>\n",
       "      <td>1.021</td>\n",
       "      <td>4.91</td>\n",
       "      <td>725</td>\n",
       "      <td>14.0</td>\n",
       "      <td>443</td>\n",
       "      <td>2.45</td>\n",
       "      <td>0</td>\n",
       "    </tr>\n",
       "    <tr>\n",
       "      <th>1</th>\n",
       "      <td>1.017</td>\n",
       "      <td>5.74</td>\n",
       "      <td>577</td>\n",
       "      <td>20.0</td>\n",
       "      <td>296</td>\n",
       "      <td>4.49</td>\n",
       "      <td>0</td>\n",
       "    </tr>\n",
       "    <tr>\n",
       "      <th>2</th>\n",
       "      <td>1.008</td>\n",
       "      <td>7.20</td>\n",
       "      <td>321</td>\n",
       "      <td>14.9</td>\n",
       "      <td>101</td>\n",
       "      <td>2.36</td>\n",
       "      <td>0</td>\n",
       "    </tr>\n",
       "    <tr>\n",
       "      <th>3</th>\n",
       "      <td>1.011</td>\n",
       "      <td>5.51</td>\n",
       "      <td>408</td>\n",
       "      <td>12.6</td>\n",
       "      <td>224</td>\n",
       "      <td>2.15</td>\n",
       "      <td>0</td>\n",
       "    </tr>\n",
       "    <tr>\n",
       "      <th>4</th>\n",
       "      <td>1.005</td>\n",
       "      <td>6.52</td>\n",
       "      <td>187</td>\n",
       "      <td>7.5</td>\n",
       "      <td>91</td>\n",
       "      <td>1.16</td>\n",
       "      <td>0</td>\n",
       "    </tr>\n",
       "  </tbody>\n",
       "</table>\n",
       "</div>"
      ],
      "text/plain": [
       "   gravity    ph  osmo  cond  urea  calc  target\n",
       "0    1.021  4.91   725  14.0   443  2.45       0\n",
       "1    1.017  5.74   577  20.0   296  4.49       0\n",
       "2    1.008  7.20   321  14.9   101  2.36       0\n",
       "3    1.011  5.51   408  12.6   224  2.15       0\n",
       "4    1.005  6.52   187   7.5    91  1.16       0"
      ]
     },
     "execution_count": 53,
     "metadata": {},
     "output_type": "execute_result"
    }
   ],
   "source": [
    "#explore dataset\n",
    "primary_ds.head()\n"
   ]
  },
  {
   "cell_type": "code",
   "execution_count": 54,
   "id": "932b758f",
   "metadata": {},
   "outputs": [
    {
     "name": "stdout",
     "output_type": "stream",
     "text": [
      "Total number of rows= 90\n",
      "Total number of columns= 7\n"
     ]
    }
   ],
   "source": [
    "print('Total number of rows=',primary_ds.shape[0])\n",
    "print('Total number of columns=',primary_ds.shape[1])"
   ]
  },
  {
   "cell_type": "code",
   "execution_count": 55,
   "id": "fb84ed13",
   "metadata": {},
   "outputs": [],
   "source": [
    "#create the feature dataset and the target variable\n",
    "X = primary_ds.drop('target', axis = 1)\n",
    "y = primary_ds['target']"
   ]
  },
  {
   "cell_type": "code",
   "execution_count": 56,
   "id": "5baec360",
   "metadata": {},
   "outputs": [
    {
     "name": "stdout",
     "output_type": "stream",
     "text": [
      "0    45\n",
      "1    45\n",
      "Name: target, dtype: int64\n"
     ]
    }
   ],
   "source": [
    "#determine the breakdown of the target variable\n",
    "print(y.value_counts())"
   ]
  },
  {
   "cell_type": "code",
   "execution_count": 46,
   "id": "d7c1f596",
   "metadata": {},
   "outputs": [
    {
     "name": "stdout",
     "output_type": "stream",
     "text": [
      "Mean squared error for KFold[ 0 ]= 0.2343\n",
      "Mean squared error for KFold[ 1 ]= 0.1189\n",
      "Mean squared error for KFold[ 2 ]= 0.1665\n",
      "Mean squared error for KFold[ 3 ]= 0.2515\n",
      "Mean squared error for KFold[ 4 ]= 0.2319\n",
      "Mean squared error for KFold[ 5 ]= 0.1391\n",
      "Mean squared error for KFold[ 6 ]= 0.1584\n",
      "Mean squared error for KFold[ 7 ]= 0.1825\n",
      "Mean squared error for KFold[ 8 ]= 0.1465\n",
      "Mean squared error for KFold[ 9 ]= 0.1125\n",
      "Average MSE through KFold CV= 0.1742\n"
     ]
    }
   ],
   "source": [
    "#using linear regression and k-fold cross validation to determine MSE\n",
    "logs=[]\n",
    "kf=KFold(n_splits=10, shuffle=True, random_state=None)\n",
    "for train_index, test_index in kf.split(X):\n",
    "    lr=LinearRegression()\n",
    "    X_train = X.loc[train_index,]\n",
    "    X_test = X.loc[test_index,]\n",
    "    y_train = y.loc[train_index]\n",
    "    y_test = y.loc[test_index]\n",
    "    lr.fit(X_train, y_train)\n",
    "    y_pred=lr.predict(X_test)\n",
    "    logs.append(mean_squared_error(y_test, y_pred))\n",
    "for i in range(0,10):\n",
    "    print(\"Mean squared error for KFold[\",i,\"]=\",round(logs[i],4))\n",
    "print(\"Average MSE through KFold CV=\",round(np.mean(logs),4))"
   ]
  },
  {
   "cell_type": "code",
   "execution_count": 39,
   "id": "c2cce76a",
   "metadata": {},
   "outputs": [
    {
     "name": "stdout",
     "output_type": "stream",
     "text": [
      "Mean squared error for hold-out cross validation= 0.1603\n"
     ]
    }
   ],
   "source": [
    "#using linear regression and Holdout  cross validation to determine MSE\n",
    "X_train, X_test, y_train, y_test = train_test_split(X, y, test_size=0.3)\n",
    "lr=LinearRegression()\n",
    "lr.fit(X_train, y_train)\n",
    "y_pred=lr.predict(X_test)\n",
    "MSE = mean_squared_error(y_test, y_pred)\n",
    "print(\"Mean squared error for hold-out cross validation=\",round(MSE,4))"
   ]
  },
  {
   "cell_type": "code",
   "execution_count": 47,
   "id": "2904b94f",
   "metadata": {},
   "outputs": [
    {
     "name": "stdout",
     "output_type": "stream",
     "text": [
      "Mean squared error for [ 0 ]= 0.0816\n",
      "Mean squared error for [ 1 ]= 0.2356\n",
      "Mean squared error for [ 2 ]= 0.0886\n",
      "Mean squared error for [ 3 ]= 0.046\n",
      "Mean squared error for [ 4 ]= 0.0353\n",
      "Mean squared error for [ 5 ]= 0.2237\n",
      "Mean squared error for [ 6 ]= 0.0237\n",
      "Mean squared error for [ 7 ]= 0.4849\n",
      "Mean squared error for [ 8 ]= 0.0495\n",
      "Mean squared error for [ 9 ]= 0.0443\n",
      "Mean squared error for [ 10 ]= 0.1212\n",
      "Mean squared error for [ 11 ]= 0.0199\n",
      "Mean squared error for [ 12 ]= 0.0399\n",
      "Mean squared error for [ 13 ]= 0.0191\n",
      "Mean squared error for [ 14 ]= 0.0206\n",
      "Mean squared error for [ 15 ]= 0.2129\n",
      "Mean squared error for [ 16 ]= 0.0335\n",
      "Mean squared error for [ 17 ]= 0.0554\n",
      "Mean squared error for [ 18 ]= 0.517\n",
      "Mean squared error for [ 19 ]= 0.0162\n",
      "Mean squared error for [ 20 ]= 0.2796\n",
      "Mean squared error for [ 21 ]= 0.0138\n",
      "Mean squared error for [ 22 ]= 0.0601\n",
      "Mean squared error for [ 23 ]= 0.0934\n",
      "Mean squared error for [ 24 ]= 0.1771\n",
      "Mean squared error for [ 25 ]= 0.1798\n",
      "Mean squared error for [ 26 ]= 0.3911\n",
      "Mean squared error for [ 27 ]= 0.1301\n",
      "Mean squared error for [ 28 ]= 0.0455\n",
      "Mean squared error for [ 29 ]= 0.0491\n",
      "Mean squared error for [ 30 ]= 0.017\n",
      "Mean squared error for [ 31 ]= 0.3341\n",
      "Mean squared error for [ 32 ]= 0.3752\n",
      "Mean squared error for [ 33 ]= 0.2038\n",
      "Mean squared error for [ 34 ]= 0.0866\n",
      "Mean squared error for [ 35 ]= 0.1844\n",
      "Mean squared error for [ 36 ]= 0.0128\n",
      "Mean squared error for [ 37 ]= 0.2182\n",
      "Mean squared error for [ 38 ]= 0.0609\n",
      "Mean squared error for [ 39 ]= 0.2494\n",
      "Mean squared error for [ 40 ]= 0.0365\n",
      "Mean squared error for [ 41 ]= 0.0172\n",
      "Mean squared error for [ 42 ]= 0.1381\n",
      "Mean squared error for [ 43 ]= 0.1125\n",
      "Mean squared error for [ 44 ]= 0.0729\n",
      "Mean squared error for [ 45 ]= 0.1314\n",
      "Mean squared error for [ 46 ]= 0.2388\n",
      "Mean squared error for [ 47 ]= 0.2089\n",
      "Mean squared error for [ 48 ]= 0.2019\n",
      "Mean squared error for [ 49 ]= 0.0839\n",
      "Mean squared error for [ 50 ]= 0.3805\n",
      "Mean squared error for [ 51 ]= 0.5732\n",
      "Mean squared error for [ 52 ]= 0.7449\n",
      "Mean squared error for [ 53 ]= 0.5922\n",
      "Mean squared error for [ 54 ]= 0.3707\n",
      "Mean squared error for [ 55 ]= 0.1668\n",
      "Mean squared error for [ 56 ]= 0.0005\n",
      "Mean squared error for [ 57 ]= 0.2931\n",
      "Mean squared error for [ 58 ]= 0.0628\n",
      "Mean squared error for [ 59 ]= 0.2666\n",
      "Mean squared error for [ 60 ]= 0.0253\n",
      "Mean squared error for [ 61 ]= 0.0201\n",
      "Mean squared error for [ 62 ]= 0.3048\n",
      "Mean squared error for [ 63 ]= 0.5188\n",
      "Mean squared error for [ 64 ]= 0.0559\n",
      "Mean squared error for [ 65 ]= 0.3745\n",
      "Mean squared error for [ 66 ]= 0.4317\n",
      "Mean squared error for [ 67 ]= 0.2093\n",
      "Mean squared error for [ 68 ]= 0.2\n",
      "Mean squared error for [ 69 ]= 0.0071\n",
      "Mean squared error for [ 70 ]= 0.2415\n",
      "Mean squared error for [ 71 ]= 0.0417\n",
      "Mean squared error for [ 72 ]= 0.0542\n",
      "Mean squared error for [ 73 ]= 0.404\n",
      "Mean squared error for [ 74 ]= 0.0361\n",
      "Mean squared error for [ 75 ]= 0.0169\n",
      "Mean squared error for [ 76 ]= 0.0106\n",
      "Mean squared error for [ 77 ]= 0.0162\n",
      "Mean squared error for [ 78 ]= 0.0113\n",
      "Mean squared error for [ 79 ]= 0.2303\n",
      "Mean squared error for [ 80 ]= 0.0329\n",
      "Mean squared error for [ 81 ]= 0.7386\n",
      "Mean squared error for [ 82 ]= 0.5156\n",
      "Mean squared error for [ 83 ]= 0.2053\n",
      "Mean squared error for [ 84 ]= 0.3709\n",
      "Mean squared error for [ 85 ]= 0.0829\n",
      "Mean squared error for [ 86 ]= 0.1023\n",
      "Mean squared error for [ 87 ]= 0.0067\n",
      "Mean squared error for [ 88 ]= 0.0044\n",
      "Mean squared error for [ 89 ]= 0.4103\n",
      "Average MSE through LOO CV= 0.1767\n"
     ]
    }
   ],
   "source": [
    "#using linear regression and LLO  cross validation to determine MSE\n",
    "logs=[]\n",
    "leaveCV=LeaveOneOut()\n",
    "for train_index, test_index in leaveCV.split(X):\n",
    "    lr=LinearRegression()\n",
    "    X_train = X.loc[train_index,]\n",
    "    X_test = X.loc[test_index,]\n",
    "    y_train = y.loc[train_index]\n",
    "    y_test = y.loc[test_index]\n",
    "    lr.fit(X_train, y_train)\n",
    "    y_pred=lr.predict(X_test)\n",
    "    logs.append(mean_squared_error(y_test, y_pred))\n",
    "for i in range(0,len(logs)):\n",
    "    print(\"Mean squared error for [\",i,\"]=\",round(logs[i],4))\n",
    "print(\"Average MSE through LOO CV=\",round(np.mean(logs),4))"
   ]
  },
  {
   "cell_type": "code",
   "execution_count": null,
   "id": "42439797",
   "metadata": {},
   "outputs": [],
   "source": []
  }
 ],
 "metadata": {
  "kernelspec": {
   "display_name": "Python 3 (ipykernel)",
   "language": "python",
   "name": "python3"
  },
  "language_info": {
   "codemirror_mode": {
    "name": "ipython",
    "version": 3
   },
   "file_extension": ".py",
   "mimetype": "text/x-python",
   "name": "python",
   "nbconvert_exporter": "python",
   "pygments_lexer": "ipython3",
   "version": "3.11.4"
  }
 },
 "nbformat": 4,
 "nbformat_minor": 5
}
