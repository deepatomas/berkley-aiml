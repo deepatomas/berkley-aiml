{
 "cells": [
  {
   "cell_type": "markdown",
   "id": "2437f0fa",
   "metadata": {},
   "source": [
    "## Discussion 9.1 notebook"
   ]
  },
  {
   "cell_type": "code",
   "execution_count": 1,
   "id": "b6d2cd04",
   "metadata": {},
   "outputs": [],
   "source": [
    "from sklearn.feature_selection import SequentialFeatureSelector\n",
    "from sklearn.preprocessing import StandardScaler\n",
    "from sklearn.model_selection import train_test_split, GridSearchCV\n",
    "from sklearn.linear_model import LinearRegression, Ridge\n",
    "from sklearn.metrics import mean_squared_error\n",
    "from sklearn.pipeline import Pipeline\n",
    "from sklearn import set_config\n",
    "set_config(display=\"diagram\")\n",
    "\n",
    "import matplotlib.pyplot as plt\n",
    "import pandas as pd\n",
    "import numpy as np"
   ]
  },
  {
   "cell_type": "code",
   "execution_count": 4,
   "id": "39a35e13",
   "metadata": {},
   "outputs": [],
   "source": [
    "#load dataset\n",
    "primary_ds = pd.read_csv(\"data/kidney-stone-dataset.csv\", index_col = [0])"
   ]
  },
  {
   "cell_type": "code",
   "execution_count": 6,
   "id": "ab96ce9c",
   "metadata": {},
   "outputs": [
    {
     "name": "stdout",
     "output_type": "stream",
     "text": [
      "<class 'pandas.core.frame.DataFrame'>\n",
      "Int64Index: 90 entries, 0 to 89\n",
      "Data columns (total 7 columns):\n",
      " #   Column   Non-Null Count  Dtype  \n",
      "---  ------   --------------  -----  \n",
      " 0   gravity  90 non-null     float64\n",
      " 1   ph       90 non-null     float64\n",
      " 2   osmo     90 non-null     int64  \n",
      " 3   cond     90 non-null     float64\n",
      " 4   urea     90 non-null     int64  \n",
      " 5   calc     90 non-null     float64\n",
      " 6   target   90 non-null     int64  \n",
      "dtypes: float64(4), int64(3)\n",
      "memory usage: 5.6 KB\n"
     ]
    }
   ],
   "source": [
    "#explore dataset\n",
    "primary_ds.head()\n",
    "primary_ds.info()"
   ]
  },
  {
   "cell_type": "code",
   "execution_count": null,
   "id": "67d25991",
   "metadata": {},
   "outputs": [],
   "source": []
  }
 ],
 "metadata": {
  "kernelspec": {
   "display_name": "Python 3 (ipykernel)",
   "language": "python",
   "name": "python3"
  },
  "language_info": {
   "codemirror_mode": {
    "name": "ipython",
    "version": 3
   },
   "file_extension": ".py",
   "mimetype": "text/x-python",
   "name": "python",
   "nbconvert_exporter": "python",
   "pygments_lexer": "ipython3",
   "version": "3.11.4"
  }
 },
 "nbformat": 4,
 "nbformat_minor": 5
}
