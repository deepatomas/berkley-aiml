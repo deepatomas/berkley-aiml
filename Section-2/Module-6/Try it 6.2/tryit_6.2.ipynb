{
 "cells": [
  {
   "cell_type": "markdown",
   "metadata": {},
   "source": [
    "### Exploring Customer Segmentation\n",
    "\n",
    "\n",
    "<center>\n",
    "    <img src = images/segments.jpeg>\n",
    "</center>\n",
    "\n",
    "\n",
    "In this activity, you are tasked with profiling customer groups for a large telecommunications company.  The data provided contains information on customers purchasing and useage behavior with the telecom products.  Your goal is to use PCA and clustering to segment these customers into meaningful groups, and report back your findings.  \n",
    "\n",
    "Because these results need to be interpretable, it is important to keep the number of clusters reasonable.  Think about how you might represent some of the non-numeric features so that they can be included in your segmentation models.  You are to report back your approach and findings to the class.  Be specific about what features were used and how you interpret the resulting clusters."
   ]
  },
  {
   "cell_type": "code",
   "execution_count": 1,
   "metadata": {},
   "outputs": [],
   "source": [
    "import matplotlib.pyplot as plt\n",
    "import numpy as np\n",
    "import pandas as pd\n",
    "import seaborn as sns\n",
    "from sklearn.cluster import KMeans, DBSCAN\n",
    "from sklearn.decomposition import PCA\n",
    "from sklearn.preprocessing import StandardScaler"
   ]
  },
  {
   "cell_type": "code",
   "execution_count": 2,
   "metadata": {},
   "outputs": [],
   "source": [
    "df = pd.read_csv('data/telco_churn_data.csv')"
   ]
  },
  {
   "cell_type": "code",
   "execution_count": 3,
   "metadata": {},
   "outputs": [
    {
     "data": {
      "text/html": [
       "<div>\n",
       "<style scoped>\n",
       "    .dataframe tbody tr th:only-of-type {\n",
       "        vertical-align: middle;\n",
       "    }\n",
       "\n",
       "    .dataframe tbody tr th {\n",
       "        vertical-align: top;\n",
       "    }\n",
       "\n",
       "    .dataframe thead th {\n",
       "        text-align: right;\n",
       "    }\n",
       "</style>\n",
       "<table border=\"1\" class=\"dataframe\">\n",
       "  <thead>\n",
       "    <tr style=\"text-align: right;\">\n",
       "      <th></th>\n",
       "      <th>Customer ID</th>\n",
       "      <th>Referred a Friend</th>\n",
       "      <th>Number of Referrals</th>\n",
       "      <th>Tenure in Months</th>\n",
       "      <th>Offer</th>\n",
       "      <th>Phone Service</th>\n",
       "      <th>Avg Monthly Long Distance Charges</th>\n",
       "      <th>Multiple Lines</th>\n",
       "      <th>Internet Service</th>\n",
       "      <th>Internet Type</th>\n",
       "      <th>...</th>\n",
       "      <th>Latitude</th>\n",
       "      <th>Longitude</th>\n",
       "      <th>Population</th>\n",
       "      <th>Churn Value</th>\n",
       "      <th>CLTV</th>\n",
       "      <th>Churn Category</th>\n",
       "      <th>Churn Reason</th>\n",
       "      <th>Total Customer Svc Requests</th>\n",
       "      <th>Product/Service Issues Reported</th>\n",
       "      <th>Customer Satisfaction</th>\n",
       "    </tr>\n",
       "  </thead>\n",
       "  <tbody>\n",
       "    <tr>\n",
       "      <th>0</th>\n",
       "      <td>8779-QRDMV</td>\n",
       "      <td>No</td>\n",
       "      <td>0</td>\n",
       "      <td>1</td>\n",
       "      <td>None</td>\n",
       "      <td>No</td>\n",
       "      <td>0.00</td>\n",
       "      <td>No</td>\n",
       "      <td>Yes</td>\n",
       "      <td>Fiber Optic</td>\n",
       "      <td>...</td>\n",
       "      <td>34.023810</td>\n",
       "      <td>-118.156582</td>\n",
       "      <td>68701</td>\n",
       "      <td>1</td>\n",
       "      <td>5433</td>\n",
       "      <td>Competitor</td>\n",
       "      <td>Competitor offered more data</td>\n",
       "      <td>5</td>\n",
       "      <td>0</td>\n",
       "      <td>NaN</td>\n",
       "    </tr>\n",
       "    <tr>\n",
       "      <th>1</th>\n",
       "      <td>7495-OOKFY</td>\n",
       "      <td>Yes</td>\n",
       "      <td>1</td>\n",
       "      <td>8</td>\n",
       "      <td>Offer E</td>\n",
       "      <td>Yes</td>\n",
       "      <td>48.85</td>\n",
       "      <td>Yes</td>\n",
       "      <td>Yes</td>\n",
       "      <td>Cable</td>\n",
       "      <td>...</td>\n",
       "      <td>34.044271</td>\n",
       "      <td>-118.185237</td>\n",
       "      <td>55668</td>\n",
       "      <td>1</td>\n",
       "      <td>5302</td>\n",
       "      <td>Competitor</td>\n",
       "      <td>Competitor made better offer</td>\n",
       "      <td>5</td>\n",
       "      <td>0</td>\n",
       "      <td>NaN</td>\n",
       "    </tr>\n",
       "    <tr>\n",
       "      <th>2</th>\n",
       "      <td>1658-BYGOY</td>\n",
       "      <td>No</td>\n",
       "      <td>0</td>\n",
       "      <td>18</td>\n",
       "      <td>Offer D</td>\n",
       "      <td>Yes</td>\n",
       "      <td>11.33</td>\n",
       "      <td>Yes</td>\n",
       "      <td>Yes</td>\n",
       "      <td>Fiber Optic</td>\n",
       "      <td>...</td>\n",
       "      <td>34.108833</td>\n",
       "      <td>-118.229715</td>\n",
       "      <td>47534</td>\n",
       "      <td>1</td>\n",
       "      <td>3179</td>\n",
       "      <td>Competitor</td>\n",
       "      <td>Competitor made better offer</td>\n",
       "      <td>1</td>\n",
       "      <td>0</td>\n",
       "      <td>NaN</td>\n",
       "    </tr>\n",
       "    <tr>\n",
       "      <th>3</th>\n",
       "      <td>4598-XLKNJ</td>\n",
       "      <td>Yes</td>\n",
       "      <td>1</td>\n",
       "      <td>25</td>\n",
       "      <td>Offer C</td>\n",
       "      <td>Yes</td>\n",
       "      <td>19.76</td>\n",
       "      <td>No</td>\n",
       "      <td>Yes</td>\n",
       "      <td>Fiber Optic</td>\n",
       "      <td>...</td>\n",
       "      <td>33.936291</td>\n",
       "      <td>-118.332639</td>\n",
       "      <td>27778</td>\n",
       "      <td>1</td>\n",
       "      <td>5337</td>\n",
       "      <td>Dissatisfaction</td>\n",
       "      <td>Limited range of services</td>\n",
       "      <td>1</td>\n",
       "      <td>1</td>\n",
       "      <td>2.0</td>\n",
       "    </tr>\n",
       "    <tr>\n",
       "      <th>4</th>\n",
       "      <td>4846-WHAFZ</td>\n",
       "      <td>Yes</td>\n",
       "      <td>1</td>\n",
       "      <td>37</td>\n",
       "      <td>Offer C</td>\n",
       "      <td>Yes</td>\n",
       "      <td>6.33</td>\n",
       "      <td>Yes</td>\n",
       "      <td>Yes</td>\n",
       "      <td>Cable</td>\n",
       "      <td>...</td>\n",
       "      <td>33.972119</td>\n",
       "      <td>-118.020188</td>\n",
       "      <td>26265</td>\n",
       "      <td>1</td>\n",
       "      <td>2793</td>\n",
       "      <td>Price</td>\n",
       "      <td>Extra data charges</td>\n",
       "      <td>1</td>\n",
       "      <td>0</td>\n",
       "      <td>2.0</td>\n",
       "    </tr>\n",
       "  </tbody>\n",
       "</table>\n",
       "<p>5 rows × 46 columns</p>\n",
       "</div>"
      ],
      "text/plain": [
       "  Customer ID Referred a Friend  Number of Referrals  Tenure in Months  \\\n",
       "0  8779-QRDMV                No                    0                 1   \n",
       "1  7495-OOKFY               Yes                    1                 8   \n",
       "2  1658-BYGOY                No                    0                18   \n",
       "3  4598-XLKNJ               Yes                    1                25   \n",
       "4  4846-WHAFZ               Yes                    1                37   \n",
       "\n",
       "     Offer Phone Service  Avg Monthly Long Distance Charges Multiple Lines  \\\n",
       "0     None            No                               0.00             No   \n",
       "1  Offer E           Yes                              48.85            Yes   \n",
       "2  Offer D           Yes                              11.33            Yes   \n",
       "3  Offer C           Yes                              19.76             No   \n",
       "4  Offer C           Yes                               6.33            Yes   \n",
       "\n",
       "  Internet Service Internet Type  ...   Latitude   Longitude Population  \\\n",
       "0              Yes   Fiber Optic  ...  34.023810 -118.156582      68701   \n",
       "1              Yes         Cable  ...  34.044271 -118.185237      55668   \n",
       "2              Yes   Fiber Optic  ...  34.108833 -118.229715      47534   \n",
       "3              Yes   Fiber Optic  ...  33.936291 -118.332639      27778   \n",
       "4              Yes         Cable  ...  33.972119 -118.020188      26265   \n",
       "\n",
       "  Churn Value  CLTV   Churn Category                  Churn Reason  \\\n",
       "0           1  5433       Competitor  Competitor offered more data   \n",
       "1           1  5302       Competitor  Competitor made better offer   \n",
       "2           1  3179       Competitor  Competitor made better offer   \n",
       "3           1  5337  Dissatisfaction     Limited range of services   \n",
       "4           1  2793            Price            Extra data charges   \n",
       "\n",
       "  Total Customer Svc Requests Product/Service Issues Reported  \\\n",
       "0                           5                               0   \n",
       "1                           5                               0   \n",
       "2                           1                               0   \n",
       "3                           1                               1   \n",
       "4                           1                               0   \n",
       "\n",
       "  Customer Satisfaction  \n",
       "0                   NaN  \n",
       "1                   NaN  \n",
       "2                   NaN  \n",
       "3                   2.0  \n",
       "4                   2.0  \n",
       "\n",
       "[5 rows x 46 columns]"
      ]
     },
     "execution_count": 3,
     "metadata": {},
     "output_type": "execute_result"
    }
   ],
   "source": [
    "df.head()"
   ]
  },
  {
   "cell_type": "code",
   "execution_count": 4,
   "metadata": {},
   "outputs": [
    {
     "name": "stdout",
     "output_type": "stream",
     "text": [
      "<class 'pandas.core.frame.DataFrame'>\n",
      "RangeIndex: 7043 entries, 0 to 7042\n",
      "Data columns (total 46 columns):\n",
      " #   Column                             Non-Null Count  Dtype  \n",
      "---  ------                             --------------  -----  \n",
      " 0   Customer ID                        7043 non-null   object \n",
      " 1   Referred a Friend                  7043 non-null   object \n",
      " 2   Number of Referrals                7043 non-null   int64  \n",
      " 3   Tenure in Months                   7043 non-null   int64  \n",
      " 4   Offer                              7043 non-null   object \n",
      " 5   Phone Service                      7043 non-null   object \n",
      " 6   Avg Monthly Long Distance Charges  7043 non-null   float64\n",
      " 7   Multiple Lines                     7043 non-null   object \n",
      " 8   Internet Service                   7043 non-null   object \n",
      " 9   Internet Type                      7043 non-null   object \n",
      " 10  Avg Monthly GB Download            7043 non-null   int64  \n",
      " 11  Online Security                    7043 non-null   object \n",
      " 12  Online Backup                      7043 non-null   object \n",
      " 13  Device Protection Plan             7043 non-null   object \n",
      " 14  Premium Tech Support               7043 non-null   object \n",
      " 15  Streaming TV                       7043 non-null   object \n",
      " 16  Streaming Movies                   7043 non-null   object \n",
      " 17  Streaming Music                    7043 non-null   object \n",
      " 18  Unlimited Data                     7043 non-null   object \n",
      " 19  Contract                           7043 non-null   object \n",
      " 20  Paperless Billing                  7043 non-null   object \n",
      " 21  Payment Method                     7043 non-null   object \n",
      " 22  Monthly Charge                     7043 non-null   float64\n",
      " 23  Total Regular Charges              7043 non-null   float64\n",
      " 24  Total Refunds                      7043 non-null   float64\n",
      " 25  Total Extra Data Charges           7043 non-null   float64\n",
      " 26  Total Long Distance Charges        7043 non-null   float64\n",
      " 27  Gender                             7043 non-null   object \n",
      " 28  Age                                7043 non-null   int64  \n",
      " 29  Under 30                           7043 non-null   object \n",
      " 30  Senior Citizen                     7043 non-null   object \n",
      " 31  Married                            7043 non-null   object \n",
      " 32  Dependents                         7043 non-null   object \n",
      " 33  Number of Dependents               7043 non-null   int64  \n",
      " 34  City                               7043 non-null   object \n",
      " 35  Zip Code                           7043 non-null   int64  \n",
      " 36  Latitude                           7043 non-null   float64\n",
      " 37  Longitude                          7043 non-null   float64\n",
      " 38  Population                         7043 non-null   int64  \n",
      " 39  Churn Value                        7043 non-null   int64  \n",
      " 40  CLTV                               7043 non-null   int64  \n",
      " 41  Churn Category                     1869 non-null   object \n",
      " 42  Churn Reason                       1869 non-null   object \n",
      " 43  Total Customer Svc Requests        7043 non-null   int64  \n",
      " 44  Product/Service Issues Reported    7043 non-null   int64  \n",
      " 45  Customer Satisfaction              1834 non-null   float64\n",
      "dtypes: float64(9), int64(11), object(26)\n",
      "memory usage: 2.5+ MB\n"
     ]
    }
   ],
   "source": [
    "df.info()"
   ]
  },
  {
   "cell_type": "code",
   "execution_count": 5,
   "metadata": {},
   "outputs": [
    {
     "data": {
      "text/html": [
       "<div>\n",
       "<style scoped>\n",
       "    .dataframe tbody tr th:only-of-type {\n",
       "        vertical-align: middle;\n",
       "    }\n",
       "\n",
       "    .dataframe tbody tr th {\n",
       "        vertical-align: top;\n",
       "    }\n",
       "\n",
       "    .dataframe thead th {\n",
       "        text-align: right;\n",
       "    }\n",
       "</style>\n",
       "<table border=\"1\" class=\"dataframe\">\n",
       "  <thead>\n",
       "    <tr style=\"text-align: right;\">\n",
       "      <th></th>\n",
       "      <th>Number of Referrals</th>\n",
       "      <th>Tenure in Months</th>\n",
       "      <th>Avg Monthly Long Distance Charges</th>\n",
       "      <th>Avg Monthly GB Download</th>\n",
       "      <th>Monthly Charge</th>\n",
       "      <th>Total Regular Charges</th>\n",
       "      <th>Total Refunds</th>\n",
       "      <th>Total Extra Data Charges</th>\n",
       "      <th>Total Long Distance Charges</th>\n",
       "      <th>Age</th>\n",
       "      <th>Number of Dependents</th>\n",
       "      <th>Zip Code</th>\n",
       "      <th>Latitude</th>\n",
       "      <th>Longitude</th>\n",
       "      <th>Population</th>\n",
       "      <th>Churn Value</th>\n",
       "      <th>CLTV</th>\n",
       "      <th>Total Customer Svc Requests</th>\n",
       "      <th>Product/Service Issues Reported</th>\n",
       "      <th>Customer Satisfaction</th>\n",
       "    </tr>\n",
       "  </thead>\n",
       "  <tbody>\n",
       "    <tr>\n",
       "      <th>count</th>\n",
       "      <td>7043.000000</td>\n",
       "      <td>7043.000000</td>\n",
       "      <td>7043.000000</td>\n",
       "      <td>7043.000000</td>\n",
       "      <td>7043.000000</td>\n",
       "      <td>7043.000000</td>\n",
       "      <td>7043.000000</td>\n",
       "      <td>7043.000000</td>\n",
       "      <td>7043.000000</td>\n",
       "      <td>7043.000000</td>\n",
       "      <td>7043.000000</td>\n",
       "      <td>7043.000000</td>\n",
       "      <td>7043.000000</td>\n",
       "      <td>7043.000000</td>\n",
       "      <td>7043.000000</td>\n",
       "      <td>7043.000000</td>\n",
       "      <td>7043.000000</td>\n",
       "      <td>7043.000000</td>\n",
       "      <td>7043.000000</td>\n",
       "      <td>1834.000000</td>\n",
       "    </tr>\n",
       "    <tr>\n",
       "      <th>mean</th>\n",
       "      <td>1.951867</td>\n",
       "      <td>32.386767</td>\n",
       "      <td>22.958954</td>\n",
       "      <td>21.110890</td>\n",
       "      <td>65.538800</td>\n",
       "      <td>2280.381264</td>\n",
       "      <td>1.962182</td>\n",
       "      <td>278.499225</td>\n",
       "      <td>749.099262</td>\n",
       "      <td>46.509726</td>\n",
       "      <td>0.468692</td>\n",
       "      <td>93486.070567</td>\n",
       "      <td>36.197455</td>\n",
       "      <td>-119.756684</td>\n",
       "      <td>22139.603294</td>\n",
       "      <td>0.265370</td>\n",
       "      <td>4400.295755</td>\n",
       "      <td>1.338776</td>\n",
       "      <td>0.308107</td>\n",
       "      <td>3.005453</td>\n",
       "    </tr>\n",
       "    <tr>\n",
       "      <th>std</th>\n",
       "      <td>3.001199</td>\n",
       "      <td>24.542061</td>\n",
       "      <td>15.448113</td>\n",
       "      <td>20.948471</td>\n",
       "      <td>30.606805</td>\n",
       "      <td>2266.220462</td>\n",
       "      <td>7.902614</td>\n",
       "      <td>685.039625</td>\n",
       "      <td>846.660055</td>\n",
       "      <td>16.750352</td>\n",
       "      <td>0.962802</td>\n",
       "      <td>1856.767505</td>\n",
       "      <td>2.468929</td>\n",
       "      <td>2.154425</td>\n",
       "      <td>21152.392837</td>\n",
       "      <td>0.441561</td>\n",
       "      <td>1183.057152</td>\n",
       "      <td>1.430471</td>\n",
       "      <td>0.717514</td>\n",
       "      <td>1.256938</td>\n",
       "    </tr>\n",
       "    <tr>\n",
       "      <th>min</th>\n",
       "      <td>0.000000</td>\n",
       "      <td>1.000000</td>\n",
       "      <td>0.000000</td>\n",
       "      <td>0.000000</td>\n",
       "      <td>18.250000</td>\n",
       "      <td>18.800000</td>\n",
       "      <td>0.000000</td>\n",
       "      <td>0.000000</td>\n",
       "      <td>0.000000</td>\n",
       "      <td>19.000000</td>\n",
       "      <td>0.000000</td>\n",
       "      <td>90001.000000</td>\n",
       "      <td>32.555828</td>\n",
       "      <td>-124.301372</td>\n",
       "      <td>11.000000</td>\n",
       "      <td>0.000000</td>\n",
       "      <td>2003.000000</td>\n",
       "      <td>0.000000</td>\n",
       "      <td>0.000000</td>\n",
       "      <td>1.000000</td>\n",
       "    </tr>\n",
       "    <tr>\n",
       "      <th>25%</th>\n",
       "      <td>0.000000</td>\n",
       "      <td>9.000000</td>\n",
       "      <td>9.210000</td>\n",
       "      <td>3.000000</td>\n",
       "      <td>35.890000</td>\n",
       "      <td>400.150000</td>\n",
       "      <td>0.000000</td>\n",
       "      <td>0.000000</td>\n",
       "      <td>70.545000</td>\n",
       "      <td>32.000000</td>\n",
       "      <td>0.000000</td>\n",
       "      <td>92101.000000</td>\n",
       "      <td>33.990646</td>\n",
       "      <td>-121.788090</td>\n",
       "      <td>2344.000000</td>\n",
       "      <td>0.000000</td>\n",
       "      <td>3469.000000</td>\n",
       "      <td>0.000000</td>\n",
       "      <td>0.000000</td>\n",
       "      <td>2.000000</td>\n",
       "    </tr>\n",
       "    <tr>\n",
       "      <th>50%</th>\n",
       "      <td>0.000000</td>\n",
       "      <td>29.000000</td>\n",
       "      <td>22.890000</td>\n",
       "      <td>17.000000</td>\n",
       "      <td>71.968000</td>\n",
       "      <td>1394.550000</td>\n",
       "      <td>0.000000</td>\n",
       "      <td>0.000000</td>\n",
       "      <td>401.440000</td>\n",
       "      <td>46.000000</td>\n",
       "      <td>0.000000</td>\n",
       "      <td>93518.000000</td>\n",
       "      <td>36.205465</td>\n",
       "      <td>-119.595293</td>\n",
       "      <td>17554.000000</td>\n",
       "      <td>0.000000</td>\n",
       "      <td>4527.000000</td>\n",
       "      <td>1.000000</td>\n",
       "      <td>0.000000</td>\n",
       "      <td>3.000000</td>\n",
       "    </tr>\n",
       "    <tr>\n",
       "      <th>75%</th>\n",
       "      <td>3.000000</td>\n",
       "      <td>55.000000</td>\n",
       "      <td>36.395000</td>\n",
       "      <td>28.000000</td>\n",
       "      <td>90.650000</td>\n",
       "      <td>3786.600000</td>\n",
       "      <td>0.000000</td>\n",
       "      <td>182.620000</td>\n",
       "      <td>1191.100000</td>\n",
       "      <td>60.000000</td>\n",
       "      <td>0.000000</td>\n",
       "      <td>95329.000000</td>\n",
       "      <td>38.161321</td>\n",
       "      <td>-117.969795</td>\n",
       "      <td>36125.000000</td>\n",
       "      <td>1.000000</td>\n",
       "      <td>5380.500000</td>\n",
       "      <td>2.000000</td>\n",
       "      <td>0.000000</td>\n",
       "      <td>4.000000</td>\n",
       "    </tr>\n",
       "    <tr>\n",
       "      <th>max</th>\n",
       "      <td>11.000000</td>\n",
       "      <td>72.000000</td>\n",
       "      <td>49.990000</td>\n",
       "      <td>94.000000</td>\n",
       "      <td>123.084000</td>\n",
       "      <td>8684.800000</td>\n",
       "      <td>49.790000</td>\n",
       "      <td>6477.000000</td>\n",
       "      <td>3564.720000</td>\n",
       "      <td>80.000000</td>\n",
       "      <td>9.000000</td>\n",
       "      <td>96150.000000</td>\n",
       "      <td>41.962127</td>\n",
       "      <td>-114.192901</td>\n",
       "      <td>105285.000000</td>\n",
       "      <td>1.000000</td>\n",
       "      <td>6500.000000</td>\n",
       "      <td>9.000000</td>\n",
       "      <td>6.000000</td>\n",
       "      <td>5.000000</td>\n",
       "    </tr>\n",
       "  </tbody>\n",
       "</table>\n",
       "</div>"
      ],
      "text/plain": [
       "       Number of Referrals  Tenure in Months  \\\n",
       "count          7043.000000       7043.000000   \n",
       "mean              1.951867         32.386767   \n",
       "std               3.001199         24.542061   \n",
       "min               0.000000          1.000000   \n",
       "25%               0.000000          9.000000   \n",
       "50%               0.000000         29.000000   \n",
       "75%               3.000000         55.000000   \n",
       "max              11.000000         72.000000   \n",
       "\n",
       "       Avg Monthly Long Distance Charges  Avg Monthly GB Download  \\\n",
       "count                        7043.000000              7043.000000   \n",
       "mean                           22.958954                21.110890   \n",
       "std                            15.448113                20.948471   \n",
       "min                             0.000000                 0.000000   \n",
       "25%                             9.210000                 3.000000   \n",
       "50%                            22.890000                17.000000   \n",
       "75%                            36.395000                28.000000   \n",
       "max                            49.990000                94.000000   \n",
       "\n",
       "       Monthly Charge  Total Regular Charges  Total Refunds  \\\n",
       "count     7043.000000            7043.000000    7043.000000   \n",
       "mean        65.538800            2280.381264       1.962182   \n",
       "std         30.606805            2266.220462       7.902614   \n",
       "min         18.250000              18.800000       0.000000   \n",
       "25%         35.890000             400.150000       0.000000   \n",
       "50%         71.968000            1394.550000       0.000000   \n",
       "75%         90.650000            3786.600000       0.000000   \n",
       "max        123.084000            8684.800000      49.790000   \n",
       "\n",
       "       Total Extra Data Charges  Total Long Distance Charges          Age  \\\n",
       "count               7043.000000                  7043.000000  7043.000000   \n",
       "mean                 278.499225                   749.099262    46.509726   \n",
       "std                  685.039625                   846.660055    16.750352   \n",
       "min                    0.000000                     0.000000    19.000000   \n",
       "25%                    0.000000                    70.545000    32.000000   \n",
       "50%                    0.000000                   401.440000    46.000000   \n",
       "75%                  182.620000                  1191.100000    60.000000   \n",
       "max                 6477.000000                  3564.720000    80.000000   \n",
       "\n",
       "       Number of Dependents      Zip Code     Latitude    Longitude  \\\n",
       "count           7043.000000   7043.000000  7043.000000  7043.000000   \n",
       "mean               0.468692  93486.070567    36.197455  -119.756684   \n",
       "std                0.962802   1856.767505     2.468929     2.154425   \n",
       "min                0.000000  90001.000000    32.555828  -124.301372   \n",
       "25%                0.000000  92101.000000    33.990646  -121.788090   \n",
       "50%                0.000000  93518.000000    36.205465  -119.595293   \n",
       "75%                0.000000  95329.000000    38.161321  -117.969795   \n",
       "max                9.000000  96150.000000    41.962127  -114.192901   \n",
       "\n",
       "          Population  Churn Value         CLTV  Total Customer Svc Requests  \\\n",
       "count    7043.000000  7043.000000  7043.000000                  7043.000000   \n",
       "mean    22139.603294     0.265370  4400.295755                     1.338776   \n",
       "std     21152.392837     0.441561  1183.057152                     1.430471   \n",
       "min        11.000000     0.000000  2003.000000                     0.000000   \n",
       "25%      2344.000000     0.000000  3469.000000                     0.000000   \n",
       "50%     17554.000000     0.000000  4527.000000                     1.000000   \n",
       "75%     36125.000000     1.000000  5380.500000                     2.000000   \n",
       "max    105285.000000     1.000000  6500.000000                     9.000000   \n",
       "\n",
       "       Product/Service Issues Reported  Customer Satisfaction  \n",
       "count                      7043.000000            1834.000000  \n",
       "mean                          0.308107               3.005453  \n",
       "std                           0.717514               1.256938  \n",
       "min                           0.000000               1.000000  \n",
       "25%                           0.000000               2.000000  \n",
       "50%                           0.000000               3.000000  \n",
       "75%                           0.000000               4.000000  \n",
       "max                           6.000000               5.000000  "
      ]
     },
     "execution_count": 5,
     "metadata": {},
     "output_type": "execute_result"
    }
   ],
   "source": [
    "df.describe()"
   ]
  },
  {
   "cell_type": "code",
   "execution_count": 6,
   "metadata": {},
   "outputs": [],
   "source": [
    "df['Customer Satisfaction'] = df['Customer Satisfaction'].fillna(0)"
   ]
  },
  {
   "cell_type": "code",
   "execution_count": 10,
   "metadata": {},
   "outputs": [
    {
     "name": "stdout",
     "output_type": "stream",
     "text": [
      "<class 'pandas.core.frame.DataFrame'>\n",
      "RangeIndex: 7043 entries, 0 to 7042\n",
      "Data columns (total 46 columns):\n",
      " #   Column                             Non-Null Count  Dtype  \n",
      "---  ------                             --------------  -----  \n",
      " 0   Customer ID                        7043 non-null   object \n",
      " 1   Referred a Friend                  7043 non-null   object \n",
      " 2   Number of Referrals                7043 non-null   int64  \n",
      " 3   Tenure in Months                   7043 non-null   int64  \n",
      " 4   Offer                              7043 non-null   object \n",
      " 5   Phone Service                      7043 non-null   object \n",
      " 6   Avg Monthly Long Distance Charges  7043 non-null   float64\n",
      " 7   Multiple Lines                     7043 non-null   object \n",
      " 8   Internet Service                   7043 non-null   object \n",
      " 9   Internet Type                      7043 non-null   object \n",
      " 10  Avg Monthly GB Download            7043 non-null   int64  \n",
      " 11  Online Security                    7043 non-null   object \n",
      " 12  Online Backup                      7043 non-null   object \n",
      " 13  Device Protection Plan             7043 non-null   object \n",
      " 14  Premium Tech Support               7043 non-null   object \n",
      " 15  Streaming TV                       7043 non-null   object \n",
      " 16  Streaming Movies                   7043 non-null   object \n",
      " 17  Streaming Music                    7043 non-null   object \n",
      " 18  Unlimited Data                     7043 non-null   object \n",
      " 19  Contract                           7043 non-null   object \n",
      " 20  Paperless Billing                  7043 non-null   object \n",
      " 21  Payment Method                     7043 non-null   object \n",
      " 22  Monthly Charge                     7043 non-null   float64\n",
      " 23  Total Regular Charges              7043 non-null   float64\n",
      " 24  Total Refunds                      7043 non-null   float64\n",
      " 25  Total Extra Data Charges           7043 non-null   float64\n",
      " 26  Total Long Distance Charges        7043 non-null   float64\n",
      " 27  Gender                             7043 non-null   object \n",
      " 28  Age                                7043 non-null   int64  \n",
      " 29  Under 30                           7043 non-null   object \n",
      " 30  Senior Citizen                     7043 non-null   object \n",
      " 31  Married                            7043 non-null   object \n",
      " 32  Dependents                         7043 non-null   object \n",
      " 33  Number of Dependents               7043 non-null   int64  \n",
      " 34  City                               7043 non-null   object \n",
      " 35  Zip Code                           7043 non-null   int64  \n",
      " 36  Latitude                           7043 non-null   float64\n",
      " 37  Longitude                          7043 non-null   float64\n",
      " 38  Population                         7043 non-null   int64  \n",
      " 39  Churn Value                        7043 non-null   int64  \n",
      " 40  CLTV                               7043 non-null   int64  \n",
      " 41  Churn Category                     1869 non-null   object \n",
      " 42  Churn Reason                       1869 non-null   object \n",
      " 43  Total Customer Svc Requests        7043 non-null   int64  \n",
      " 44  Product/Service Issues Reported    7043 non-null   int64  \n",
      " 45  Customer Satisfaction              7043 non-null   float64\n",
      "dtypes: float64(9), int64(11), object(26)\n",
      "memory usage: 2.5+ MB\n"
     ]
    }
   ],
   "source": [
    "df_adjusted = df.copy()\n",
    "df_adjusted.info()"
   ]
  },
  {
   "cell_type": "code",
   "execution_count": null,
   "metadata": {},
   "outputs": [],
   "source": [
    "#replace string values with integer\n",
    "#df_adjusted['Offer'].unique()\n",
    "#df_adjusted['Phone Service'].unique()\n",
    "#df_adjusted['Multiple Lines'].unique()\n",
    "#df_adjusted['Internet Service'].unique()\n",
    "#df_adjusted['Internet Type'].unique()\n",
    "#df_adjusted['Online Security'].unique()\n",
    "#df_adjusted['Online Backup'].unique()\n",
    "#df_adjusted['Device Protection Plan'].unique()\n",
    "#df_adjusted['Premium Tech Support'].unique()\n",
    "#df_adjusted['Streaming TV'].unique()\n",
    "#df_adjusted['Streaming Movies'].unique()\n",
    "#df_adjusted['Streaming Music'].unique()\n",
    "#df_adjusted['Unlimited Data'].unique()\n",
    "#df_adjusted['Contract'].unique()\n",
    "#df_adjusted['Paperless Billing'].unique()\n",
    "#df_adjusted['Payment Method'].unique()\n",
    "#df_adjusted['Gender'].unique()\n",
    "#df_adjusted['Married'].unique()"
   ]
  },
  {
   "cell_type": "code",
   "execution_count": null,
   "metadata": {},
   "outputs": [],
   "source": []
  },
  {
   "cell_type": "code",
   "execution_count": 11,
   "metadata": {},
   "outputs": [],
   "source": [
    "#replace offer column values\n",
    "df_adjusted['Offer'].replace({'None':'1','Offer A':'2','Offer B':'3','Offer C':'4','Offer D':'5','Offer E':'6'},inplace=True)"
   ]
  },
  {
   "cell_type": "code",
   "execution_count": 12,
   "metadata": {},
   "outputs": [],
   "source": [
    "#replace Phone Service column values\n",
    "df_adjusted['Phone Service'].replace({'No':'0','Yes':'1'},inplace=True)"
   ]
  },
  {
   "cell_type": "code",
   "execution_count": 13,
   "metadata": {},
   "outputs": [],
   "source": [
    "#replace Multiple Lines column values\n",
    "df_adjusted['Multiple Lines'].replace({'No':'0','Yes':'1'},inplace=True)"
   ]
  },
  {
   "cell_type": "code",
   "execution_count": 14,
   "metadata": {},
   "outputs": [],
   "source": [
    "#replace Internet Service column values\n",
    "df_adjusted['Internet Service'].replace({'No':'0','Yes':'1'},inplace=True)"
   ]
  },
  {
   "cell_type": "code",
   "execution_count": 15,
   "metadata": {},
   "outputs": [],
   "source": [
    "#replace Internet Type column values\n",
    "df_adjusted['Internet Type'].replace({'None':'0','Cable':'1','DSL':'2','Fiber Optic':'3'},inplace=True)"
   ]
  },
  {
   "cell_type": "code",
   "execution_count": 16,
   "metadata": {},
   "outputs": [],
   "source": [
    "#replace Online Security column values\n",
    "df_adjusted['Online Security'].replace({'No':'0','Yes':'1'},inplace=True)"
   ]
  },
  {
   "cell_type": "code",
   "execution_count": 17,
   "metadata": {},
   "outputs": [],
   "source": [
    "#replace Online Backup column values\n",
    "df_adjusted['Online Backup'].replace({'No':'0','Yes':'1'},inplace=True)"
   ]
  },
  {
   "cell_type": "code",
   "execution_count": 18,
   "metadata": {},
   "outputs": [],
   "source": [
    "#replace Device Protection Plan column values\n",
    "df_adjusted['Device Protection Plan'].replace({'No':'0','Yes':'1'},inplace=True)"
   ]
  },
  {
   "cell_type": "code",
   "execution_count": 19,
   "metadata": {},
   "outputs": [],
   "source": [
    "#replace Premium Tech Support column values\n",
    "df_adjusted['Premium Tech Support'].replace({'No':'0','Yes':'1'},inplace=True)"
   ]
  },
  {
   "cell_type": "code",
   "execution_count": 20,
   "metadata": {},
   "outputs": [],
   "source": [
    "#replace Streaming TV column values\n",
    "df_adjusted['Streaming TV'].replace({'No':'0','Yes':'1'},inplace=True)"
   ]
  },
  {
   "cell_type": "code",
   "execution_count": 21,
   "metadata": {},
   "outputs": [],
   "source": [
    "#replace Streaming Movies column values\n",
    "df_adjusted['Streaming Movies'].replace({'No':'0','Yes':'1'},inplace=True)"
   ]
  },
  {
   "cell_type": "code",
   "execution_count": 22,
   "metadata": {},
   "outputs": [],
   "source": [
    "#replace Streaming Music column values\n",
    "df_adjusted['Streaming Music'].replace({'No':'0','Yes':'1'},inplace=True)"
   ]
  },
  {
   "cell_type": "code",
   "execution_count": 23,
   "metadata": {},
   "outputs": [],
   "source": [
    "#replace Unlimited Data column values\n",
    "df_adjusted['Unlimited Data'].replace({'No':'0','Yes':'1'},inplace=True)"
   ]
  },
  {
   "cell_type": "code",
   "execution_count": 24,
   "metadata": {},
   "outputs": [],
   "source": [
    "#replace Contract column values\n",
    "df_adjusted['Contract'].replace({'Month-to-Month':'0','One Year':'1','Two Year':'2'},inplace=True)"
   ]
  },
  {
   "cell_type": "code",
   "execution_count": 25,
   "metadata": {},
   "outputs": [],
   "source": [
    "#replace Paperless Billing column values\n",
    "df_adjusted['Paperless Billing'].replace({'No':'0','Yes':'1'},inplace=True)"
   ]
  },
  {
   "cell_type": "code",
   "execution_count": 26,
   "metadata": {},
   "outputs": [],
   "source": [
    "#replace Payment Method column values\n",
    "df_adjusted['Payment Method'].replace({'Bank Withdrawal':'0','Credit Card':'1','Mailed Check':'2'},inplace=True)"
   ]
  },
  {
   "cell_type": "code",
   "execution_count": 27,
   "metadata": {},
   "outputs": [],
   "source": [
    "#replace Gender column values\n",
    "df_adjusted['Gender'].replace({'Male':'0','Female':'1'},inplace=True)"
   ]
  },
  {
   "cell_type": "code",
   "execution_count": 28,
   "metadata": {},
   "outputs": [],
   "source": [
    "#replace Married column values\n",
    "df_adjusted['Married'].replace({'No':'0','Yes':'1'},inplace=True)"
   ]
  },
  {
   "cell_type": "code",
   "execution_count": 29,
   "metadata": {},
   "outputs": [],
   "source": [
    "colstodrop = ['Zip Code','Referred a Friend','Under 30', 'Senior Citizen', 'Dependents','Churn Category','Churn Reason', 'City','Referred a Friend']\n",
    "\n",
    "df_adjusted = df_adjusted.drop(colstodrop, axis=1)\n"
   ]
  },
  {
   "cell_type": "code",
   "execution_count": 30,
   "metadata": {},
   "outputs": [],
   "source": [
    "df_adjusted['Total Charges'] = df_adjusted['Total Regular Charges'] + df_adjusted['Total Extra Data Charges'] + df_adjusted['Total Long Distance Charges'] - df_adjusted['Total Refunds'] "
   ]
  },
  {
   "cell_type": "code",
   "execution_count": 31,
   "metadata": {},
   "outputs": [],
   "source": [
    "#convert string to Int\n",
    "df_adjusted['Phone Service'] = df_adjusted['Phone Service'].astype(int)\n",
    "df_adjusted['Multiple Lines'] = df_adjusted['Multiple Lines'].astype(int)\n",
    "df_adjusted['Internet Service'] = df_adjusted['Internet Service'].astype(int)\n",
    "df_adjusted['Internet Type'] = df_adjusted['Internet Type'].astype(int)\n",
    "df_adjusted['Online Security'] = df_adjusted['Online Security'].astype(int)\n",
    "df_adjusted['Online Backup'] = df_adjusted['Online Backup'].astype(int)\n",
    "df_adjusted['Device Protection Plan'] = df_adjusted['Device Protection Plan'].astype(int)\n",
    "df_adjusted['Premium Tech Support'] = df_adjusted['Premium Tech Support'].astype(int)\n",
    "df_adjusted['Streaming Movies'] = df_adjusted['Streaming Movies'].astype(int)\n",
    "df_adjusted['Streaming Music'] = df_adjusted['Streaming Music'].astype(int)\n",
    "df_adjusted['Unlimited Data'] = df_adjusted['Unlimited Data'].astype(int)\n",
    "df_adjusted['Contract'] = df_adjusted['Contract'].astype(int)\n",
    "df_adjusted['Paperless Billing'] = df_adjusted['Paperless Billing'].astype(int)\n",
    "df_adjusted['Payment Method'] = df_adjusted['Payment Method'].astype(int)\n",
    "df_adjusted['Gender'] = df_adjusted['Gender'].astype(int)\n",
    "df_adjusted['Married'] = df_adjusted['Married'].astype(int)\n",
    "df_adjusted['Offer'] = df_adjusted['Offer'].astype(int)\n",
    "df_adjusted['Streaming TV'] = df_adjusted['Streaming TV'].astype(int)\n"
   ]
  },
  {
   "cell_type": "code",
   "execution_count": 35,
   "metadata": {},
   "outputs": [],
   "source": [
    "df_adjusted = df_adjusted.drop('Customer ID', axis=1)"
   ]
  },
  {
   "cell_type": "code",
   "execution_count": 36,
   "metadata": {},
   "outputs": [
    {
     "name": "stdout",
     "output_type": "stream",
     "text": [
      "<class 'pandas.core.frame.DataFrame'>\n",
      "RangeIndex: 7043 entries, 0 to 7042\n",
      "Data columns (total 38 columns):\n",
      " #   Column                             Non-Null Count  Dtype  \n",
      "---  ------                             --------------  -----  \n",
      " 0   Number of Referrals                7043 non-null   int64  \n",
      " 1   Tenure in Months                   7043 non-null   int64  \n",
      " 2   Offer                              7043 non-null   int64  \n",
      " 3   Phone Service                      7043 non-null   int64  \n",
      " 4   Avg Monthly Long Distance Charges  7043 non-null   float64\n",
      " 5   Multiple Lines                     7043 non-null   int64  \n",
      " 6   Internet Service                   7043 non-null   int64  \n",
      " 7   Internet Type                      7043 non-null   int64  \n",
      " 8   Avg Monthly GB Download            7043 non-null   int64  \n",
      " 9   Online Security                    7043 non-null   int64  \n",
      " 10  Online Backup                      7043 non-null   int64  \n",
      " 11  Device Protection Plan             7043 non-null   int64  \n",
      " 12  Premium Tech Support               7043 non-null   int64  \n",
      " 13  Streaming TV                       7043 non-null   int64  \n",
      " 14  Streaming Movies                   7043 non-null   int64  \n",
      " 15  Streaming Music                    7043 non-null   int64  \n",
      " 16  Unlimited Data                     7043 non-null   int64  \n",
      " 17  Contract                           7043 non-null   int64  \n",
      " 18  Paperless Billing                  7043 non-null   int64  \n",
      " 19  Payment Method                     7043 non-null   int64  \n",
      " 20  Monthly Charge                     7043 non-null   float64\n",
      " 21  Total Regular Charges              7043 non-null   float64\n",
      " 22  Total Refunds                      7043 non-null   float64\n",
      " 23  Total Extra Data Charges           7043 non-null   float64\n",
      " 24  Total Long Distance Charges        7043 non-null   float64\n",
      " 25  Gender                             7043 non-null   int64  \n",
      " 26  Age                                7043 non-null   int64  \n",
      " 27  Married                            7043 non-null   int64  \n",
      " 28  Number of Dependents               7043 non-null   int64  \n",
      " 29  Latitude                           7043 non-null   float64\n",
      " 30  Longitude                          7043 non-null   float64\n",
      " 31  Population                         7043 non-null   int64  \n",
      " 32  Churn Value                        7043 non-null   int64  \n",
      " 33  CLTV                               7043 non-null   int64  \n",
      " 34  Total Customer Svc Requests        7043 non-null   int64  \n",
      " 35  Product/Service Issues Reported    7043 non-null   int64  \n",
      " 36  Customer Satisfaction              7043 non-null   float64\n",
      " 37  Total Charges                      7043 non-null   float64\n",
      "dtypes: float64(10), int64(28)\n",
      "memory usage: 2.0 MB\n"
     ]
    }
   ],
   "source": [
    "df_adjusted.info()"
   ]
  },
  {
   "cell_type": "code",
   "execution_count": 37,
   "metadata": {},
   "outputs": [
    {
     "data": {
      "text/html": [
       "<div>\n",
       "<style scoped>\n",
       "    .dataframe tbody tr th:only-of-type {\n",
       "        vertical-align: middle;\n",
       "    }\n",
       "\n",
       "    .dataframe tbody tr th {\n",
       "        vertical-align: top;\n",
       "    }\n",
       "\n",
       "    .dataframe thead th {\n",
       "        text-align: right;\n",
       "    }\n",
       "</style>\n",
       "<table border=\"1\" class=\"dataframe\">\n",
       "  <thead>\n",
       "    <tr style=\"text-align: right;\">\n",
       "      <th></th>\n",
       "      <th>Number of Referrals</th>\n",
       "      <th>Tenure in Months</th>\n",
       "      <th>Offer</th>\n",
       "      <th>Phone Service</th>\n",
       "      <th>Avg Monthly Long Distance Charges</th>\n",
       "      <th>Multiple Lines</th>\n",
       "      <th>Internet Service</th>\n",
       "      <th>Internet Type</th>\n",
       "      <th>Avg Monthly GB Download</th>\n",
       "      <th>Online Security</th>\n",
       "      <th>...</th>\n",
       "      <th>Number of Dependents</th>\n",
       "      <th>Latitude</th>\n",
       "      <th>Longitude</th>\n",
       "      <th>Population</th>\n",
       "      <th>Churn Value</th>\n",
       "      <th>CLTV</th>\n",
       "      <th>Total Customer Svc Requests</th>\n",
       "      <th>Product/Service Issues Reported</th>\n",
       "      <th>Customer Satisfaction</th>\n",
       "      <th>Total Charges</th>\n",
       "    </tr>\n",
       "  </thead>\n",
       "  <tbody>\n",
       "    <tr>\n",
       "      <th>0</th>\n",
       "      <td>-0.650409</td>\n",
       "      <td>-1.278988</td>\n",
       "      <td>-0.764620</td>\n",
       "      <td>-3.054010</td>\n",
       "      <td>-1.486303</td>\n",
       "      <td>-0.854176</td>\n",
       "      <td>0.525927</td>\n",
       "      <td>1.162480</td>\n",
       "      <td>-0.578169</td>\n",
       "      <td>-0.633933</td>\n",
       "      <td>...</td>\n",
       "      <td>-0.486835</td>\n",
       "      <td>-0.880463</td>\n",
       "      <td>0.742757</td>\n",
       "      <td>2.201392</td>\n",
       "      <td>1.663829</td>\n",
       "      <td>0.872974</td>\n",
       "      <td>2.559635</td>\n",
       "      <td>-0.42944</td>\n",
       "      <td>-0.533642</td>\n",
       "      <td>-1.017020</td>\n",
       "    </tr>\n",
       "    <tr>\n",
       "      <th>1</th>\n",
       "      <td>-0.317185</td>\n",
       "      <td>-0.993743</td>\n",
       "      <td>1.970105</td>\n",
       "      <td>0.327438</td>\n",
       "      <td>1.676120</td>\n",
       "      <td>1.170719</td>\n",
       "      <td>0.525927</td>\n",
       "      <td>-0.588824</td>\n",
       "      <td>-0.100773</td>\n",
       "      <td>-0.633933</td>\n",
       "      <td>...</td>\n",
       "      <td>0.551874</td>\n",
       "      <td>-0.872175</td>\n",
       "      <td>0.729456</td>\n",
       "      <td>1.585200</td>\n",
       "      <td>1.663829</td>\n",
       "      <td>0.762236</td>\n",
       "      <td>2.559635</td>\n",
       "      <td>-0.42944</td>\n",
       "      <td>-0.533642</td>\n",
       "      <td>-0.673137</td>\n",
       "    </tr>\n",
       "    <tr>\n",
       "      <th>2</th>\n",
       "      <td>-0.650409</td>\n",
       "      <td>-0.586250</td>\n",
       "      <td>1.423160</td>\n",
       "      <td>0.327438</td>\n",
       "      <td>-0.752828</td>\n",
       "      <td>1.170719</td>\n",
       "      <td>0.525927</td>\n",
       "      <td>1.162480</td>\n",
       "      <td>1.713331</td>\n",
       "      <td>-0.633933</td>\n",
       "      <td>...</td>\n",
       "      <td>2.629292</td>\n",
       "      <td>-0.846023</td>\n",
       "      <td>0.708810</td>\n",
       "      <td>1.200630</td>\n",
       "      <td>1.663829</td>\n",
       "      <td>-1.032395</td>\n",
       "      <td>-0.236845</td>\n",
       "      <td>-0.42944</td>\n",
       "      <td>-0.533642</td>\n",
       "      <td>-0.434392</td>\n",
       "    </tr>\n",
       "    <tr>\n",
       "      <th>3</th>\n",
       "      <td>-0.317185</td>\n",
       "      <td>-0.301005</td>\n",
       "      <td>0.876215</td>\n",
       "      <td>0.327438</td>\n",
       "      <td>-0.207092</td>\n",
       "      <td>-0.854176</td>\n",
       "      <td>0.525927</td>\n",
       "      <td>1.162480</td>\n",
       "      <td>-0.387210</td>\n",
       "      <td>-0.633933</td>\n",
       "      <td>...</td>\n",
       "      <td>0.551874</td>\n",
       "      <td>-0.915913</td>\n",
       "      <td>0.661033</td>\n",
       "      <td>0.266580</td>\n",
       "      <td>1.663829</td>\n",
       "      <td>0.791822</td>\n",
       "      <td>-0.236845</td>\n",
       "      <td>0.96436</td>\n",
       "      <td>0.830088</td>\n",
       "      <td>0.004998</td>\n",
       "    </tr>\n",
       "    <tr>\n",
       "      <th>4</th>\n",
       "      <td>-0.317185</td>\n",
       "      <td>0.187986</td>\n",
       "      <td>0.876215</td>\n",
       "      <td>0.327438</td>\n",
       "      <td>-1.076516</td>\n",
       "      <td>1.170719</td>\n",
       "      <td>0.525927</td>\n",
       "      <td>-0.588824</td>\n",
       "      <td>-0.291731</td>\n",
       "      <td>-0.633933</td>\n",
       "      <td>...</td>\n",
       "      <td>0.551874</td>\n",
       "      <td>-0.901401</td>\n",
       "      <td>0.806071</td>\n",
       "      <td>0.195046</td>\n",
       "      <td>1.663829</td>\n",
       "      <td>-1.358692</td>\n",
       "      <td>-0.236845</td>\n",
       "      <td>-0.42944</td>\n",
       "      <td>0.830088</td>\n",
       "      <td>0.070474</td>\n",
       "    </tr>\n",
       "    <tr>\n",
       "      <th>...</th>\n",
       "      <td>...</td>\n",
       "      <td>...</td>\n",
       "      <td>...</td>\n",
       "      <td>...</td>\n",
       "      <td>...</td>\n",
       "      <td>...</td>\n",
       "      <td>...</td>\n",
       "      <td>...</td>\n",
       "      <td>...</td>\n",
       "      <td>...</td>\n",
       "      <td>...</td>\n",
       "      <td>...</td>\n",
       "      <td>...</td>\n",
       "      <td>...</td>\n",
       "      <td>...</td>\n",
       "      <td>...</td>\n",
       "      <td>...</td>\n",
       "      <td>...</td>\n",
       "      <td>...</td>\n",
       "      <td>...</td>\n",
       "      <td>...</td>\n",
       "    </tr>\n",
       "    <tr>\n",
       "      <th>7038</th>\n",
       "      <td>-0.650409</td>\n",
       "      <td>1.614210</td>\n",
       "      <td>-0.764620</td>\n",
       "      <td>0.327438</td>\n",
       "      <td>-0.012232</td>\n",
       "      <td>-0.854176</td>\n",
       "      <td>-1.901403</td>\n",
       "      <td>-1.464477</td>\n",
       "      <td>-1.007825</td>\n",
       "      <td>-0.633933</td>\n",
       "      <td>...</td>\n",
       "      <td>-0.486835</td>\n",
       "      <td>-0.751682</td>\n",
       "      <td>1.493436</td>\n",
       "      <td>-0.943582</td>\n",
       "      <td>-0.601023</td>\n",
       "      <td>0.765617</td>\n",
       "      <td>-0.935965</td>\n",
       "      <td>-0.42944</td>\n",
       "      <td>-0.533642</td>\n",
       "      <td>-0.082974</td>\n",
       "    </tr>\n",
       "    <tr>\n",
       "      <th>7039</th>\n",
       "      <td>-0.317185</td>\n",
       "      <td>-0.341755</td>\n",
       "      <td>0.876215</td>\n",
       "      <td>0.327438</td>\n",
       "      <td>0.847481</td>\n",
       "      <td>1.170719</td>\n",
       "      <td>0.525927</td>\n",
       "      <td>0.286828</td>\n",
       "      <td>0.137925</td>\n",
       "      <td>1.577454</td>\n",
       "      <td>...</td>\n",
       "      <td>1.590583</td>\n",
       "      <td>-0.619600</td>\n",
       "      <td>1.030743</td>\n",
       "      <td>-0.149384</td>\n",
       "      <td>-0.601023</td>\n",
       "      <td>-1.910691</td>\n",
       "      <td>0.462275</td>\n",
       "      <td>-0.42944</td>\n",
       "      <td>-0.533642</td>\n",
       "      <td>-0.155228</td>\n",
       "    </tr>\n",
       "    <tr>\n",
       "      <th>7040</th>\n",
       "      <td>0.682487</td>\n",
       "      <td>1.614210</td>\n",
       "      <td>-0.764620</td>\n",
       "      <td>0.327438</td>\n",
       "      <td>0.433808</td>\n",
       "      <td>1.170719</td>\n",
       "      <td>0.525927</td>\n",
       "      <td>-0.588824</td>\n",
       "      <td>1.808810</td>\n",
       "      <td>-0.633933</td>\n",
       "      <td>...</td>\n",
       "      <td>1.590583</td>\n",
       "      <td>-0.663320</td>\n",
       "      <td>1.912256</td>\n",
       "      <td>-1.044760</td>\n",
       "      <td>-0.601023</td>\n",
       "      <td>0.980330</td>\n",
       "      <td>0.462275</td>\n",
       "      <td>-0.42944</td>\n",
       "      <td>2.193818</td>\n",
       "      <td>3.266497</td>\n",
       "    </tr>\n",
       "    <tr>\n",
       "      <th>7041</th>\n",
       "      <td>-0.317185</td>\n",
       "      <td>-0.871495</td>\n",
       "      <td>-0.764620</td>\n",
       "      <td>-3.054010</td>\n",
       "      <td>-1.486303</td>\n",
       "      <td>-0.854176</td>\n",
       "      <td>0.525927</td>\n",
       "      <td>0.286828</td>\n",
       "      <td>-0.196252</td>\n",
       "      <td>1.577454</td>\n",
       "      <td>...</td>\n",
       "      <td>1.590583</td>\n",
       "      <td>-0.822138</td>\n",
       "      <td>1.342613</td>\n",
       "      <td>-1.032515</td>\n",
       "      <td>-0.601023</td>\n",
       "      <td>-1.358692</td>\n",
       "      <td>-0.935965</td>\n",
       "      <td>-0.42944</td>\n",
       "      <td>-0.533642</td>\n",
       "      <td>-0.929976</td>\n",
       "    </tr>\n",
       "    <tr>\n",
       "      <th>7042</th>\n",
       "      <td>-0.650409</td>\n",
       "      <td>1.369715</td>\n",
       "      <td>-0.764620</td>\n",
       "      <td>0.327438</td>\n",
       "      <td>0.517967</td>\n",
       "      <td>-0.854176</td>\n",
       "      <td>0.525927</td>\n",
       "      <td>1.162480</td>\n",
       "      <td>-0.482690</td>\n",
       "      <td>1.577454</td>\n",
       "      <td>...</td>\n",
       "      <td>-0.486835</td>\n",
       "      <td>-0.717985</td>\n",
       "      <td>1.193991</td>\n",
       "      <td>0.315797</td>\n",
       "      <td>-0.601023</td>\n",
       "      <td>0.588943</td>\n",
       "      <td>-0.236845</td>\n",
       "      <td>2.35816</td>\n",
       "      <td>-0.533642</td>\n",
       "      <td>1.737969</td>\n",
       "    </tr>\n",
       "  </tbody>\n",
       "</table>\n",
       "<p>7043 rows × 38 columns</p>\n",
       "</div>"
      ],
      "text/plain": [
       "      Number of Referrals  Tenure in Months     Offer  Phone Service  \\\n",
       "0               -0.650409         -1.278988 -0.764620      -3.054010   \n",
       "1               -0.317185         -0.993743  1.970105       0.327438   \n",
       "2               -0.650409         -0.586250  1.423160       0.327438   \n",
       "3               -0.317185         -0.301005  0.876215       0.327438   \n",
       "4               -0.317185          0.187986  0.876215       0.327438   \n",
       "...                   ...               ...       ...            ...   \n",
       "7038            -0.650409          1.614210 -0.764620       0.327438   \n",
       "7039            -0.317185         -0.341755  0.876215       0.327438   \n",
       "7040             0.682487          1.614210 -0.764620       0.327438   \n",
       "7041            -0.317185         -0.871495 -0.764620      -3.054010   \n",
       "7042            -0.650409          1.369715 -0.764620       0.327438   \n",
       "\n",
       "      Avg Monthly Long Distance Charges  Multiple Lines  Internet Service  \\\n",
       "0                             -1.486303       -0.854176          0.525927   \n",
       "1                              1.676120        1.170719          0.525927   \n",
       "2                             -0.752828        1.170719          0.525927   \n",
       "3                             -0.207092       -0.854176          0.525927   \n",
       "4                             -1.076516        1.170719          0.525927   \n",
       "...                                 ...             ...               ...   \n",
       "7038                          -0.012232       -0.854176         -1.901403   \n",
       "7039                           0.847481        1.170719          0.525927   \n",
       "7040                           0.433808        1.170719          0.525927   \n",
       "7041                          -1.486303       -0.854176          0.525927   \n",
       "7042                           0.517967       -0.854176          0.525927   \n",
       "\n",
       "      Internet Type  Avg Monthly GB Download  Online Security  ...  \\\n",
       "0          1.162480                -0.578169        -0.633933  ...   \n",
       "1         -0.588824                -0.100773        -0.633933  ...   \n",
       "2          1.162480                 1.713331        -0.633933  ...   \n",
       "3          1.162480                -0.387210        -0.633933  ...   \n",
       "4         -0.588824                -0.291731        -0.633933  ...   \n",
       "...             ...                      ...              ...  ...   \n",
       "7038      -1.464477                -1.007825        -0.633933  ...   \n",
       "7039       0.286828                 0.137925         1.577454  ...   \n",
       "7040      -0.588824                 1.808810        -0.633933  ...   \n",
       "7041       0.286828                -0.196252         1.577454  ...   \n",
       "7042       1.162480                -0.482690         1.577454  ...   \n",
       "\n",
       "      Number of Dependents  Latitude  Longitude  Population  Churn Value  \\\n",
       "0                -0.486835 -0.880463   0.742757    2.201392     1.663829   \n",
       "1                 0.551874 -0.872175   0.729456    1.585200     1.663829   \n",
       "2                 2.629292 -0.846023   0.708810    1.200630     1.663829   \n",
       "3                 0.551874 -0.915913   0.661033    0.266580     1.663829   \n",
       "4                 0.551874 -0.901401   0.806071    0.195046     1.663829   \n",
       "...                    ...       ...        ...         ...          ...   \n",
       "7038             -0.486835 -0.751682   1.493436   -0.943582    -0.601023   \n",
       "7039              1.590583 -0.619600   1.030743   -0.149384    -0.601023   \n",
       "7040              1.590583 -0.663320   1.912256   -1.044760    -0.601023   \n",
       "7041              1.590583 -0.822138   1.342613   -1.032515    -0.601023   \n",
       "7042             -0.486835 -0.717985   1.193991    0.315797    -0.601023   \n",
       "\n",
       "          CLTV  Total Customer Svc Requests  Product/Service Issues Reported  \\\n",
       "0     0.872974                     2.559635                         -0.42944   \n",
       "1     0.762236                     2.559635                         -0.42944   \n",
       "2    -1.032395                    -0.236845                         -0.42944   \n",
       "3     0.791822                    -0.236845                          0.96436   \n",
       "4    -1.358692                    -0.236845                         -0.42944   \n",
       "...        ...                          ...                              ...   \n",
       "7038  0.765617                    -0.935965                         -0.42944   \n",
       "7039 -1.910691                     0.462275                         -0.42944   \n",
       "7040  0.980330                     0.462275                         -0.42944   \n",
       "7041 -1.358692                    -0.935965                         -0.42944   \n",
       "7042  0.588943                    -0.236845                          2.35816   \n",
       "\n",
       "      Customer Satisfaction  Total Charges  \n",
       "0                 -0.533642      -1.017020  \n",
       "1                 -0.533642      -0.673137  \n",
       "2                 -0.533642      -0.434392  \n",
       "3                  0.830088       0.004998  \n",
       "4                  0.830088       0.070474  \n",
       "...                     ...            ...  \n",
       "7038              -0.533642      -0.082974  \n",
       "7039              -0.533642      -0.155228  \n",
       "7040               2.193818       3.266497  \n",
       "7041              -0.533642      -0.929976  \n",
       "7042              -0.533642       1.737969  \n",
       "\n",
       "[7043 rows x 38 columns]"
      ]
     },
     "execution_count": 37,
     "metadata": {},
     "output_type": "execute_result"
    }
   ],
   "source": [
    "#Standardize the columns\n",
    "X= StandardScaler().fit_transform(df_adjusted)\n",
    "working_df= pd.DataFrame(data=X, columns=df_adjusted.columns)\n",
    "working_df"
   ]
  },
  {
   "cell_type": "code",
   "execution_count": 38,
   "metadata": {},
   "outputs": [
    {
     "data": {
      "text/html": [
       "<style>#sk-container-id-1 {color: black;}#sk-container-id-1 pre{padding: 0;}#sk-container-id-1 div.sk-toggleable {background-color: white;}#sk-container-id-1 label.sk-toggleable__label {cursor: pointer;display: block;width: 100%;margin-bottom: 0;padding: 0.3em;box-sizing: border-box;text-align: center;}#sk-container-id-1 label.sk-toggleable__label-arrow:before {content: \"▸\";float: left;margin-right: 0.25em;color: #696969;}#sk-container-id-1 label.sk-toggleable__label-arrow:hover:before {color: black;}#sk-container-id-1 div.sk-estimator:hover label.sk-toggleable__label-arrow:before {color: black;}#sk-container-id-1 div.sk-toggleable__content {max-height: 0;max-width: 0;overflow: hidden;text-align: left;background-color: #f0f8ff;}#sk-container-id-1 div.sk-toggleable__content pre {margin: 0.2em;color: black;border-radius: 0.25em;background-color: #f0f8ff;}#sk-container-id-1 input.sk-toggleable__control:checked~div.sk-toggleable__content {max-height: 200px;max-width: 100%;overflow: auto;}#sk-container-id-1 input.sk-toggleable__control:checked~label.sk-toggleable__label-arrow:before {content: \"▾\";}#sk-container-id-1 div.sk-estimator input.sk-toggleable__control:checked~label.sk-toggleable__label {background-color: #d4ebff;}#sk-container-id-1 div.sk-label input.sk-toggleable__control:checked~label.sk-toggleable__label {background-color: #d4ebff;}#sk-container-id-1 input.sk-hidden--visually {border: 0;clip: rect(1px 1px 1px 1px);clip: rect(1px, 1px, 1px, 1px);height: 1px;margin: -1px;overflow: hidden;padding: 0;position: absolute;width: 1px;}#sk-container-id-1 div.sk-estimator {font-family: monospace;background-color: #f0f8ff;border: 1px dotted black;border-radius: 0.25em;box-sizing: border-box;margin-bottom: 0.5em;}#sk-container-id-1 div.sk-estimator:hover {background-color: #d4ebff;}#sk-container-id-1 div.sk-parallel-item::after {content: \"\";width: 100%;border-bottom: 1px solid gray;flex-grow: 1;}#sk-container-id-1 div.sk-label:hover label.sk-toggleable__label {background-color: #d4ebff;}#sk-container-id-1 div.sk-serial::before {content: \"\";position: absolute;border-left: 1px solid gray;box-sizing: border-box;top: 0;bottom: 0;left: 50%;z-index: 0;}#sk-container-id-1 div.sk-serial {display: flex;flex-direction: column;align-items: center;background-color: white;padding-right: 0.2em;padding-left: 0.2em;position: relative;}#sk-container-id-1 div.sk-item {position: relative;z-index: 1;}#sk-container-id-1 div.sk-parallel {display: flex;align-items: stretch;justify-content: center;background-color: white;position: relative;}#sk-container-id-1 div.sk-item::before, #sk-container-id-1 div.sk-parallel-item::before {content: \"\";position: absolute;border-left: 1px solid gray;box-sizing: border-box;top: 0;bottom: 0;left: 50%;z-index: -1;}#sk-container-id-1 div.sk-parallel-item {display: flex;flex-direction: column;z-index: 1;position: relative;background-color: white;}#sk-container-id-1 div.sk-parallel-item:first-child::after {align-self: flex-end;width: 50%;}#sk-container-id-1 div.sk-parallel-item:last-child::after {align-self: flex-start;width: 50%;}#sk-container-id-1 div.sk-parallel-item:only-child::after {width: 0;}#sk-container-id-1 div.sk-dashed-wrapped {border: 1px dashed gray;margin: 0 0.4em 0.5em 0.4em;box-sizing: border-box;padding-bottom: 0.4em;background-color: white;}#sk-container-id-1 div.sk-label label {font-family: monospace;font-weight: bold;display: inline-block;line-height: 1.2em;}#sk-container-id-1 div.sk-label-container {text-align: center;}#sk-container-id-1 div.sk-container {/* jupyter's `normalize.less` sets `[hidden] { display: none; }` but bootstrap.min.css set `[hidden] { display: none !important; }` so we also need the `!important` here to be able to override the default hidden behavior on the sphinx rendered scikit-learn.org. See: https://github.com/scikit-learn/scikit-learn/issues/21755 */display: inline-block !important;position: relative;}#sk-container-id-1 div.sk-text-repr-fallback {display: none;}</style><div id=\"sk-container-id-1\" class=\"sk-top-container\"><div class=\"sk-text-repr-fallback\"><pre>PCA(n_components=38)</pre><b>In a Jupyter environment, please rerun this cell to show the HTML representation or trust the notebook. <br />On GitHub, the HTML representation is unable to render, please try loading this page with nbviewer.org.</b></div><div class=\"sk-container\" hidden><div class=\"sk-item\"><div class=\"sk-estimator sk-toggleable\"><input class=\"sk-toggleable__control sk-hidden--visually\" id=\"sk-estimator-id-1\" type=\"checkbox\" checked><label for=\"sk-estimator-id-1\" class=\"sk-toggleable__label sk-toggleable__label-arrow\">PCA</label><div class=\"sk-toggleable__content\"><pre>PCA(n_components=38)</pre></div></div></div></div></div>"
      ],
      "text/plain": [
       "PCA(n_components=38)"
      ]
     },
     "execution_count": 38,
     "metadata": {},
     "output_type": "execute_result"
    }
   ],
   "source": [
    "#Apply PCA\n",
    "#build a scree plot\n",
    "pca_matrix = ''\n",
    "pev = ''\n",
    "pevr = ''\n",
    "dimensions = ''\n",
    "\n",
    "pca_matrix = PCA(n_components=len(working_df.columns))\n",
    "pca_matrix.fit(working_df)"
   ]
  },
  {
   "cell_type": "code",
   "execution_count": 39,
   "metadata": {},
   "outputs": [
    {
     "data": {
      "image/png": "[encoded data removed]",
      "text/plain": [
       "<Figure size 640x480 with 2 Axes>"
      ]
     },
     "metadata": {},
     "output_type": "display_data"
    },
    {
     "name": "stdout",
     "output_type": "stream",
     "text": [
      "Optimal # of components for 85.0% explained variance: 26\n"
     ]
    }
   ],
   "source": [
    "sigma = pca_matrix.singular_values_\n",
    "cumulative_explained_variance = np.cumsum(sigma)/sigma.sum()\n",
    "\n",
    "threshold = 0.85\n",
    "n_components = np.argmax(cumulative_explained_variance >= threshold) + 1\n",
    "\n",
    "\n",
    "dimensions = list(range(1, len(sigma)+1))\n",
    "fig, ax1 = plt.subplots()\n",
    "\n",
    "ax1.bar(x=dimensions, height=sigma)\n",
    "ax2 = ax1.twinx() \n",
    "ax2.plot(cumulative_explained_variance, color='#F79737')\n",
    "\n",
    "ax2.axhline(y=0.85, color='green', linestyle=\"dotted\")\n",
    "\n",
    "ax1.grid(which = \"both\")\n",
    "ax1.minorticks_on()\n",
    "plt.title('PCA Analysis')\n",
    "plt.xlabel('Number of Principal Components')\n",
    "plt.ylabel('Variance explained (PC & Cummulative)')\n",
    "plt.show()\n",
    "print(f\"Optimal # of components for {threshold * 100}% explained variance: {n_components}\")"
   ]
  },
  {
   "cell_type": "code",
   "execution_count": 40,
   "metadata": {},
   "outputs": [
    {
     "name": "stdout",
     "output_type": "stream",
     "text": [
      "<class 'pandas.core.frame.DataFrame'>\n",
      "RangeIndex: 7043 entries, 0 to 7042\n",
      "Data columns (total 2 columns):\n",
      " #   Column  Non-Null Count  Dtype  \n",
      "---  ------  --------------  -----  \n",
      " 0   PC1     7043 non-null   float64\n",
      " 1   PC2     7043 non-null   float64\n",
      "dtypes: float64(2)\n",
      "memory usage: 110.2 KB\n"
     ]
    },
    {
     "data": {
      "text/html": [
       "<div>\n",
       "<style scoped>\n",
       "    .dataframe tbody tr th:only-of-type {\n",
       "        vertical-align: middle;\n",
       "    }\n",
       "\n",
       "    .dataframe tbody tr th {\n",
       "        vertical-align: top;\n",
       "    }\n",
       "\n",
       "    .dataframe thead th {\n",
       "        text-align: right;\n",
       "    }\n",
       "</style>\n",
       "<table border=\"1\" class=\"dataframe\">\n",
       "  <thead>\n",
       "    <tr style=\"text-align: right;\">\n",
       "      <th></th>\n",
       "      <th>PC1</th>\n",
       "      <th>PC2</th>\n",
       "    </tr>\n",
       "  </thead>\n",
       "  <tbody>\n",
       "    <tr>\n",
       "      <th>0</th>\n",
       "      <td>-1.870700</td>\n",
       "      <td>-3.260022</td>\n",
       "    </tr>\n",
       "    <tr>\n",
       "      <th>1</th>\n",
       "      <td>-1.406710</td>\n",
       "      <td>-1.648832</td>\n",
       "    </tr>\n",
       "    <tr>\n",
       "      <th>2</th>\n",
       "      <td>0.648026</td>\n",
       "      <td>-3.346348</td>\n",
       "    </tr>\n",
       "    <tr>\n",
       "      <th>3</th>\n",
       "      <td>1.166091</td>\n",
       "      <td>-2.191613</td>\n",
       "    </tr>\n",
       "    <tr>\n",
       "      <th>4</th>\n",
       "      <td>-0.999751</td>\n",
       "      <td>-0.993277</td>\n",
       "    </tr>\n",
       "  </tbody>\n",
       "</table>\n",
       "</div>"
      ],
      "text/plain": [
       "        PC1       PC2\n",
       "0 -1.870700 -3.260022\n",
       "1 -1.406710 -1.648832\n",
       "2  0.648026 -3.346348\n",
       "3  1.166091 -2.191613\n",
       "4 -0.999751 -0.993277"
      ]
     },
     "execution_count": 40,
     "metadata": {},
     "output_type": "execute_result"
    }
   ],
   "source": [
    "#Reduce the Dimensionality to two principle components and check the resulting dataframe\n",
    "\n",
    "pca2 = PCA(n_components=2, random_state = 42)\n",
    "principal_components2 = pca2.fit_transform(working_df)\n",
    "\n",
    "df_2PC = pd.DataFrame(data=principal_components2, columns=['PC1', 'PC2'])\n",
    "\n",
    "df_2PC.info()\n",
    "df_2PC.head()"
   ]
  },
  {
   "cell_type": "code",
   "execution_count": 41,
   "metadata": {},
   "outputs": [],
   "source": [
    "#determine the optimum number of clusters  from the PC-2 dataset\n",
    "wcss = []\n",
    "for i in range(1,38):\n",
    "    kmeans_pca = KMeans(n_clusters = i, init = 'k-means++', random_state = 42,n_init='auto')\n",
    "    kmeans_pca.fit(df_2PC)\n",
    "    wcss.append(kmeans_pca.inertia_)"
   ]
  },
  {
   "cell_type": "code",
   "execution_count": 42,
   "metadata": {},
   "outputs": [
    {
     "data": {
      "image/png": "[encoded data removed]",
      "text/plain": [
       "<Figure size 640x480 with 1 Axes>"
      ]
     },
     "metadata": {},
     "output_type": "display_data"
    }
   ],
   "source": [
    "plt.grid(which = \"both\")\n",
    "plt.plot(range(1, 38), wcss, marker = 'o', linestyle = 'dotted')\n",
    "plt.axvline(x=4, color='red', linestyle='solid', label='Optimal K=4')\n",
    "\n",
    "plt.xlabel('Number of Clusters')\n",
    "plt.ylabel('Inertia')\n",
    "plt.title('Elbow plot with 2 principal components')\n",
    "plt.show()"
   ]
  },
  {
   "cell_type": "code",
   "execution_count": 43,
   "metadata": {},
   "outputs": [],
   "source": [
    "#get the kmeans value with 4 clusters and analyze the data\n",
    "kmeanspp_all = KMeans(n_clusters = 4, init = 'k-means++', random_state = 42,n_init='auto').fit(df_2PC)\n"
   ]
  },
  {
   "cell_type": "code",
   "execution_count": 48,
   "metadata": {},
   "outputs": [],
   "source": [
    "#add churn value to dataset\n",
    "df_2PC['Churn Value'] = df_adjusted['Churn Value']\n",
    "df_2PC['Cluster'] = kmeanspp_all.labels_\n",
    "df_adjusted['Cluster'] = kmeanspp_all.labels_"
   ]
  },
  {
   "cell_type": "code",
   "execution_count": 49,
   "metadata": {},
   "outputs": [
    {
     "data": {
      "text/plain": [
       "Text(0.5, 1.0, 'Customer data groups based on optimal k-means clusters')"
      ]
     },
     "execution_count": 49,
     "metadata": {},
     "output_type": "execute_result"
    },
    {
     "data": {
      "image/png": "[encoded data removed]",
      "text/plain": [
       "<Figure size 640x480 with 1 Axes>"
      ]
     },
     "metadata": {},
     "output_type": "display_data"
    }
   ],
   "source": [
    "#graph k-means value\n",
    "graph = plt.scatter(x=df_2PC['PC1'], y=df_2PC['PC2'], c=df_2PC['Cluster'])\n",
    "plt.legend(*graph.legend_elements())\n",
    "plt.title('Customer data groups based on optimal k-means clusters')"
   ]
  },
  {
   "cell_type": "code",
   "execution_count": 50,
   "metadata": {},
   "outputs": [
    {
     "data": {
      "text/plain": [
       "(1869, 4)"
      ]
     },
     "execution_count": 50,
     "metadata": {},
     "output_type": "execute_result"
    }
   ],
   "source": [
    "churn_ds = df_2PC.query('`Churn Value`==1')\n",
    "churn_ds.shape"
   ]
  },
  {
   "cell_type": "code",
   "execution_count": 51,
   "metadata": {},
   "outputs": [
    {
     "name": "stdout",
     "output_type": "stream",
     "text": [
      "The percentage of Churn rate=0.2653698707936959\n"
     ]
    }
   ],
   "source": [
    "#Analysis-1: determine the overall churn rate\n",
    "print(f\"The percentage of Churn rate={df_adjusted['Churn Value'].value_counts(normalize=True)[1]}\")"
   ]
  },
  {
   "cell_type": "code",
   "execution_count": 52,
   "metadata": {},
   "outputs": [
    {
     "data": {
      "text/html": [
       "<div>\n",
       "<style scoped>\n",
       "    .dataframe tbody tr th:only-of-type {\n",
       "        vertical-align: middle;\n",
       "    }\n",
       "\n",
       "    .dataframe tbody tr th {\n",
       "        vertical-align: top;\n",
       "    }\n",
       "\n",
       "    .dataframe thead th {\n",
       "        text-align: right;\n",
       "    }\n",
       "</style>\n",
       "<table border=\"1\" class=\"dataframe\">\n",
       "  <thead>\n",
       "    <tr style=\"text-align: right;\">\n",
       "      <th></th>\n",
       "      <th>Cluster</th>\n",
       "      <th>Churn Value</th>\n",
       "      <th>Percent</th>\n",
       "    </tr>\n",
       "  </thead>\n",
       "  <tbody>\n",
       "    <tr>\n",
       "      <th>0</th>\n",
       "      <td>0</td>\n",
       "      <td>0</td>\n",
       "      <td>93.822394</td>\n",
       "    </tr>\n",
       "    <tr>\n",
       "      <th>1</th>\n",
       "      <td>0</td>\n",
       "      <td>1</td>\n",
       "      <td>6.177606</td>\n",
       "    </tr>\n",
       "    <tr>\n",
       "      <th>2</th>\n",
       "      <td>1</td>\n",
       "      <td>0</td>\n",
       "      <td>90.802213</td>\n",
       "    </tr>\n",
       "    <tr>\n",
       "      <th>3</th>\n",
       "      <td>1</td>\n",
       "      <td>1</td>\n",
       "      <td>9.197787</td>\n",
       "    </tr>\n",
       "    <tr>\n",
       "      <th>5</th>\n",
       "      <td>2</td>\n",
       "      <td>0</td>\n",
       "      <td>42.184644</td>\n",
       "    </tr>\n",
       "    <tr>\n",
       "      <th>4</th>\n",
       "      <td>2</td>\n",
       "      <td>1</td>\n",
       "      <td>57.815356</td>\n",
       "    </tr>\n",
       "    <tr>\n",
       "      <th>6</th>\n",
       "      <td>3</td>\n",
       "      <td>0</td>\n",
       "      <td>79.784367</td>\n",
       "    </tr>\n",
       "    <tr>\n",
       "      <th>7</th>\n",
       "      <td>3</td>\n",
       "      <td>1</td>\n",
       "      <td>20.215633</td>\n",
       "    </tr>\n",
       "  </tbody>\n",
       "</table>\n",
       "</div>"
      ],
      "text/plain": [
       "   Cluster  Churn Value    Percent\n",
       "0        0            0  93.822394\n",
       "1        0            1   6.177606\n",
       "2        1            0  90.802213\n",
       "3        1            1   9.197787\n",
       "5        2            0  42.184644\n",
       "4        2            1  57.815356\n",
       "6        3            0  79.784367\n",
       "7        3            1  20.215633"
      ]
     },
     "execution_count": 52,
     "metadata": {},
     "output_type": "execute_result"
    }
   ],
   "source": [
    "#Analysis-2: determine the churn rate per cluster\n",
    "churnpercluster = df_adjusted.groupby('Cluster')[['Churn Value']].value_counts(normalize=True)\n",
    "churnpercluster = churnpercluster.mul(100).rename('Percent').reset_index()\n",
    "churnpercluster.sort_values(['Cluster','Churn Value'], ascending=True)"
   ]
  },
  {
   "cell_type": "code",
   "execution_count": 58,
   "metadata": {
    "scrolled": true
   },
   "outputs": [
    {
     "data": {
      "image/png": "[encoded data removed]",
      "text/plain": [
       "<Figure size 640x480 with 1 Axes>"
      ]
     },
     "metadata": {},
     "output_type": "display_data"
    }
   ],
   "source": [
    "#Analysis-3:show spread of Churn across clusters\n",
    "\n",
    "graph = plt.scatter(x=churn_ds['PC1'], y=churn_ds['PC2'], c=churn_ds['Cluster'])\n",
    "plt.legend(*graph.legend_elements())\n",
    "plt.title(\"Churned customers by cluster\")\n",
    "plt.show()"
   ]
  },
  {
   "cell_type": "code",
   "execution_count": 59,
   "metadata": {},
   "outputs": [
    {
     "data": {
      "text/plain": [
       "<Axes: xlabel='Tenure in Months', ylabel='Count'>"
      ]
     },
     "execution_count": 59,
     "metadata": {},
     "output_type": "execute_result"
    },
    {
     "data": {
      "image/png": "[encoded data removed]",
      "text/plain": [
       "<Figure size 640x480 with 1 Axes>"
      ]
     },
     "metadata": {},
     "output_type": "display_data"
    }
   ],
   "source": [
    "sns.histplot(data=df_adjusted, x='Tenure in Months', hue='Churn Value', palette=\"PuOr_r\")"
   ]
  },
  {
   "cell_type": "code",
   "execution_count": 60,
   "metadata": {},
   "outputs": [
    {
     "data": {
      "text/plain": [
       "<Axes: xlabel='Contract', ylabel='count'>"
      ]
     },
     "execution_count": 60,
     "metadata": {},
     "output_type": "execute_result"
    },
    {
     "data": {
      "image/png": "[encoded data removed]",
      "text/plain": [
       "<Figure size 640x480 with 1 Axes>"
      ]
     },
     "metadata": {},
     "output_type": "display_data"
    }
   ],
   "source": [
    "sns.countplot(data=df_adjusted, x='Contract', hue='Churn Value')"
   ]
  },
  {
   "cell_type": "code",
   "execution_count": 61,
   "metadata": {},
   "outputs": [
    {
     "data": {
      "text/plain": [
       "<Axes: xlabel='Total Customer Svc Requests', ylabel='count'>"
      ]
     },
     "execution_count": 61,
     "metadata": {},
     "output_type": "execute_result"
    },
    {
     "data": {
      "image/png": "[encoded data removed]",
      "text/plain": [
       "<Figure size 640x480 with 1 Axes>"
      ]
     },
     "metadata": {},
     "output_type": "display_data"
    }
   ],
   "source": [
    "\n",
    "sns.countplot(data=df_adjusted.query('`Total Customer Svc Requests`>=3'), x='Total Customer Svc Requests', hue='Churn Value')\n"
   ]
  },
  {
   "cell_type": "code",
   "execution_count": 62,
   "metadata": {},
   "outputs": [
    {
     "data": {
      "text/plain": [
       "<Axes: xlabel='Premium Tech Support', ylabel='count'>"
      ]
     },
     "execution_count": 62,
     "metadata": {},
     "output_type": "execute_result"
    },
    {
     "data": {
      "image/png": "[encoded data removed]",
      "text/plain": [
       "<Figure size 640x480 with 1 Axes>"
      ]
     },
     "metadata": {},
     "output_type": "display_data"
    }
   ],
   "source": [
    "sns.countplot(data=df_adjusted, x='Premium Tech Support', hue='Churn Value')"
   ]
  },
  {
   "cell_type": "code",
   "execution_count": 67,
   "metadata": {},
   "outputs": [
    {
     "data": {
      "text/plain": [
       "<Axes: xlabel='Offer', ylabel='count'>"
      ]
     },
     "execution_count": 67,
     "metadata": {},
     "output_type": "execute_result"
    },
    {
     "data": {
      "image/png": "[encoded data removed]",
      "text/plain": [
       "<Figure size 640x480 with 1 Axes>"
      ]
     },
     "metadata": {},
     "output_type": "display_data"
    }
   ],
   "source": [
    "sns.countplot(data=df_adjusted, x='Offer', hue='Churn Value')"
   ]
  },
  {
   "cell_type": "code",
   "execution_count": 70,
   "metadata": {},
   "outputs": [
    {
     "data": {
      "text/plain": [
       "Churn Value  Offer\n",
       "0            1        2826\n",
       "             3         723\n",
       "             2         485\n",
       "             5         441\n",
       "             6         379\n",
       "             4         320\n",
       "1            1        1051\n",
       "             6         426\n",
       "             5         161\n",
       "             3         101\n",
       "             4          95\n",
       "             2          35\n",
       "dtype: int64"
      ]
     },
     "execution_count": 70,
     "metadata": {},
     "output_type": "execute_result"
    }
   ],
   "source": []
  },
  {
   "cell_type": "markdown",
   "metadata": {},
   "source": [
    "# Graveyard analysis"
   ]
  },
  {
   "cell_type": "code",
   "execution_count": null,
   "metadata": {},
   "outputs": [],
   "source": [
    "df_adjusted.groupby('Churn Value')[['Offer']].value_counts(normalize=True)"
   ]
  },
  {
   "cell_type": "code",
   "execution_count": 71,
   "metadata": {},
   "outputs": [
    {
     "name": "stdout",
     "output_type": "stream",
     "text": [
      "Value counts per Object Column: \n",
      "\n",
      "Offer:\n",
      "1    934\n",
      "6    392\n",
      "5    152\n",
      "4     92\n",
      "3     66\n",
      "2      4\n",
      "Name: Offer, dtype: int64\n",
      "Phone Service:\n",
      "1    1470\n",
      "0     170\n",
      "Name: Phone Service, dtype: int64\n",
      "Internet Service:\n",
      "1    1623\n",
      "0      17\n",
      "Name: Internet Service, dtype: int64\n",
      "Online Security:\n",
      "0    1404\n",
      "1     236\n",
      "Name: Online Security, dtype: int64\n",
      "Online Backup:\n",
      "0    1218\n",
      "1     422\n",
      "Name: Online Backup, dtype: int64\n",
      "Device Protection Plan:\n",
      "0    1195\n",
      "1     445\n",
      "Name: Device Protection Plan, dtype: int64\n",
      "Premium Tech Support:\n",
      "0    1394\n",
      "1     246\n",
      "Name: Premium Tech Support, dtype: int64\n",
      "Streaming TV:\n",
      "0    945\n",
      "1    695\n",
      "Name: Streaming TV, dtype: int64\n",
      "Contract:\n",
      "0    1536\n",
      "1      94\n",
      "2      10\n",
      "Name: Contract, dtype: int64\n",
      "Payment Method:\n",
      "0    1205\n",
      "1     322\n",
      "2     113\n",
      "Name: Payment Method, dtype: int64\n",
      "Streaming Movies:\n",
      "0    942\n",
      "1    698\n",
      "Name: Streaming Movies, dtype: int64\n",
      "Streaming Music:\n",
      "0    1012\n",
      "1     628\n",
      "Name: Streaming Music, dtype: int64\n"
     ]
    }
   ],
   "source": [
    "#get report of some columns and their value counts that are in clusters 2& 3 and that churned\n",
    "subds = df_adjusted.query('Cluster in(2,3) and `Churn Value`==1')[['Offer','Phone Service','Internet Service','Online Security',\n",
    "                                             'Online Backup','Device Protection Plan','Premium Tech Support',\n",
    "                                            'Streaming TV','Contract','Payment Method',\n",
    "                                            'Streaming Movies','Streaming Music']]\n",
    "\n",
    "value_counts_report = {}\n",
    "for column in subds.columns:\n",
    "    value_counts_report[column] = subds[column].value_counts()\n",
    "# Display the report\n",
    "print(\"Value counts per Object Column: \\n\")\n",
    "for column, value_counts in value_counts_report.items():\n",
    "    print(f\"{column}:\\n{value_counts}\")"
   ]
  },
  {
   "cell_type": "code",
   "execution_count": 63,
   "metadata": {},
   "outputs": [
    {
     "data": {
      "text/html": [
       "<div>\n",
       "<style scoped>\n",
       "    .dataframe tbody tr th:only-of-type {\n",
       "        vertical-align: middle;\n",
       "    }\n",
       "\n",
       "    .dataframe tbody tr th {\n",
       "        vertical-align: top;\n",
       "    }\n",
       "\n",
       "    .dataframe thead th {\n",
       "        text-align: right;\n",
       "    }\n",
       "</style>\n",
       "<table border=\"1\" class=\"dataframe\">\n",
       "  <thead>\n",
       "    <tr style=\"text-align: right;\">\n",
       "      <th></th>\n",
       "      <th>Offer</th>\n",
       "      <th>Phone Service</th>\n",
       "      <th>Internet Service</th>\n",
       "      <th>Online Security</th>\n",
       "      <th>Online Backup</th>\n",
       "      <th>Device Protection Plan</th>\n",
       "      <th>Premium Tech Support</th>\n",
       "      <th>Streaming TV</th>\n",
       "      <th>Contract</th>\n",
       "      <th>Payment Method</th>\n",
       "      <th>Streaming Movies</th>\n",
       "      <th>Streaming Music</th>\n",
       "    </tr>\n",
       "    <tr>\n",
       "      <th>Cluster</th>\n",
       "      <th></th>\n",
       "      <th></th>\n",
       "      <th></th>\n",
       "      <th></th>\n",
       "      <th></th>\n",
       "      <th></th>\n",
       "      <th></th>\n",
       "      <th></th>\n",
       "      <th></th>\n",
       "      <th></th>\n",
       "      <th></th>\n",
       "      <th></th>\n",
       "    </tr>\n",
       "  </thead>\n",
       "  <tbody>\n",
       "    <tr>\n",
       "      <th>0</th>\n",
       "      <td>316</td>\n",
       "      <td>96</td>\n",
       "      <td>0</td>\n",
       "      <td>0</td>\n",
       "      <td>0</td>\n",
       "      <td>0</td>\n",
       "      <td>0</td>\n",
       "      <td>0</td>\n",
       "      <td>19</td>\n",
       "      <td>98</td>\n",
       "      <td>0</td>\n",
       "      <td>0</td>\n",
       "    </tr>\n",
       "    <tr>\n",
       "      <th>1</th>\n",
       "      <td>229</td>\n",
       "      <td>133</td>\n",
       "      <td>133</td>\n",
       "      <td>59</td>\n",
       "      <td>101</td>\n",
       "      <td>100</td>\n",
       "      <td>64</td>\n",
       "      <td>119</td>\n",
       "      <td>129</td>\n",
       "      <td>36</td>\n",
       "      <td>120</td>\n",
       "      <td>100</td>\n",
       "    </tr>\n",
       "    <tr>\n",
       "      <th>2</th>\n",
       "      <td>3895</td>\n",
       "      <td>1113</td>\n",
       "      <td>1248</td>\n",
       "      <td>142</td>\n",
       "      <td>244</td>\n",
       "      <td>245</td>\n",
       "      <td>147</td>\n",
       "      <td>422</td>\n",
       "      <td>19</td>\n",
       "      <td>444</td>\n",
       "      <td>418</td>\n",
       "      <td>400</td>\n",
       "    </tr>\n",
       "    <tr>\n",
       "      <th>3</th>\n",
       "      <td>725</td>\n",
       "      <td>357</td>\n",
       "      <td>375</td>\n",
       "      <td>94</td>\n",
       "      <td>178</td>\n",
       "      <td>200</td>\n",
       "      <td>99</td>\n",
       "      <td>273</td>\n",
       "      <td>95</td>\n",
       "      <td>104</td>\n",
       "      <td>280</td>\n",
       "      <td>228</td>\n",
       "    </tr>\n",
       "  </tbody>\n",
       "</table>\n",
       "</div>"
      ],
      "text/plain": [
       "         Offer  Phone Service  Internet Service  Online Security  \\\n",
       "Cluster                                                            \n",
       "0          316             96                 0                0   \n",
       "1          229            133               133               59   \n",
       "2         3895           1113              1248              142   \n",
       "3          725            357               375               94   \n",
       "\n",
       "         Online Backup  Device Protection Plan  Premium Tech Support  \\\n",
       "Cluster                                                                \n",
       "0                    0                       0                     0   \n",
       "1                  101                     100                    64   \n",
       "2                  244                     245                   147   \n",
       "3                  178                     200                    99   \n",
       "\n",
       "         Streaming TV  Contract  Payment Method  Streaming Movies  \\\n",
       "Cluster                                                             \n",
       "0                   0        19              98                 0   \n",
       "1                 119       129              36               120   \n",
       "2                 422        19             444               418   \n",
       "3                 273        95             104               280   \n",
       "\n",
       "         Streaming Music  \n",
       "Cluster                   \n",
       "0                      0  \n",
       "1                    100  \n",
       "2                    400  \n",
       "3                    228  "
      ]
     },
     "execution_count": 63,
     "metadata": {},
     "output_type": "execute_result"
    }
   ],
   "source": [
    "#Get counts grouped by clusters and churned for categorical fields\n",
    "categorical_flds=['Offer','Phone Service','Internet Service','Online Security',\n",
    "                                             'Online Backup','Device Protection Plan','Premium Tech Support',\n",
    "                                            'Streaming TV','Contract','Payment Method',\n",
    "                                            'Streaming Movies','Streaming Music']\n",
    "\n",
    "subds = df_adjusted.query('`Churn Value`==1').groupby(['Cluster'])[categorical_flds].sum()\n",
    "subds"
   ]
  },
  {
   "cell_type": "code",
   "execution_count": 65,
   "metadata": {},
   "outputs": [],
   "source": [
    "#how does each categorical variable impact the churn rate , if the categorical variable value =1\n",
    "#initalize a dataframe to \n",
    "Featurevar_df=pd.DataFrame()\n",
    "\n"
   ]
  },
  {
   "cell_type": "code",
   "execution_count": 66,
   "metadata": {},
   "outputs": [
    {
     "data": {
      "text/html": [
       "<div>\n",
       "<style scoped>\n",
       "    .dataframe tbody tr th:only-of-type {\n",
       "        vertical-align: middle;\n",
       "    }\n",
       "\n",
       "    .dataframe tbody tr th {\n",
       "        vertical-align: top;\n",
       "    }\n",
       "\n",
       "    .dataframe thead th {\n",
       "        text-align: right;\n",
       "    }\n",
       "</style>\n",
       "<table border=\"1\" class=\"dataframe\">\n",
       "  <thead>\n",
       "    <tr style=\"text-align: right;\">\n",
       "      <th></th>\n",
       "      <th>feature</th>\n",
       "      <th>churn_total</th>\n",
       "      <th>notchurned_total</th>\n",
       "      <th>churn_per</th>\n",
       "      <th>notchurned_per</th>\n",
       "    </tr>\n",
       "  </thead>\n",
       "  <tbody>\n",
       "    <tr>\n",
       "      <th>0</th>\n",
       "      <td>Phone Service</td>\n",
       "      <td>1699</td>\n",
       "      <td>4662</td>\n",
       "      <td>0.267096</td>\n",
       "      <td>0.732904</td>\n",
       "    </tr>\n",
       "  </tbody>\n",
       "</table>\n",
       "</div>"
      ],
      "text/plain": [
       "         feature  churn_total  notchurned_total  churn_per  notchurned_per\n",
       "0  Phone Service         1699              4662   0.267096        0.732904"
      ]
     },
     "execution_count": 66,
     "metadata": {},
     "output_type": "execute_result"
    }
   ],
   "source": [
    "#Analysis-3.1: determine the number pf phone customers per cluster\n",
    "\n",
    "temp_df=None\n",
    "data= None\n",
    "\n",
    "churnpercategorytotal = df_adjusted.query('`Phone Service`==1').count()[0]\n",
    "churnpercategory =  df_adjusted.query('`Phone Service`==1').groupby('Churn Value')[['Churn Value']].value_counts()\n",
    "churnpercategory = churnpercategory.rename('total').reset_index()\n",
    "churnpercategory['percent'] = churnpercategory['total']/churnpercategorytotal\n",
    "\n",
    "churn_total = churnpercategory.query('`Churn Value`==1')['total'][1]\n",
    "churn_per = churnpercategory.query('`Churn Value`==1')['percent'][1]\n",
    "notchurned_total = churnpercategory.query('`Churn Value`==0')['total'][0]\n",
    "notchurned_per = churnpercategory.query('`Churn Value`==0')['percent'][0]\n",
    "\n",
    "data= {'feature':'Phone Service','churn_total':[churn_total],'notchurned_total':[notchurned_total],\n",
    "       'churn_per':[churn_per],\n",
    "       'notchurned_per':[notchurned_per]}\n",
    "temp_df = pd.DataFrame(data)\n",
    "\n",
    "Featurevar_df = pd.concat([Featurevar_df,temp_df], ignore_index=True)\n",
    "Featurevar_df"
   ]
  },
  {
   "cell_type": "code",
   "execution_count": null,
   "metadata": {},
   "outputs": [],
   "source": [
    "Featurevar_df.info()"
   ]
  },
  {
   "cell_type": "code",
   "execution_count": null,
   "metadata": {},
   "outputs": [],
   "source": [
    "#Analysis-4: determine the number pf internet customers per cluster\n",
    "churnpercluster = df_adjusted.groupby('Cluster')[['Internet Service']].value_counts(normalize=True)\n",
    "churnpercluster = churnpercluster.mul(100).rename('Percent').reset_index()\n",
    "churnpercluster.sort_values(['Cluster','Internet Service'], ascending=True)"
   ]
  },
  {
   "cell_type": "code",
   "execution_count": null,
   "metadata": {},
   "outputs": [],
   "source": [
    "new_df = df_adjusted.groupby('Cluster')['Churn Value'].value_counts(normalize=True)\n",
    "new_df = new_df.mul(100).rename('Percent').reset_index()\n",
    "new_df"
   ]
  },
  {
   "cell_type": "code",
   "execution_count": null,
   "metadata": {},
   "outputs": [],
   "source": [
    "df_2PC.info()"
   ]
  },
  {
   "cell_type": "code",
   "execution_count": null,
   "metadata": {},
   "outputs": [],
   "source": [
    "df_2PC.info()"
   ]
  },
  {
   "cell_type": "code",
   "execution_count": null,
   "metadata": {},
   "outputs": [],
   "source": []
  },
  {
   "cell_type": "code",
   "execution_count": null,
   "metadata": {},
   "outputs": [],
   "source": []
  },
  {
   "cell_type": "code",
   "execution_count": null,
   "metadata": {},
   "outputs": [],
   "source": [
    "#draw a histogram for tenure\n",
    "g= sns.FacetGrid(df_continuous,col='SegmentKmeans')\n",
    "g.map(sns.histplot,'Tenure in Months')"
   ]
  },
  {
   "cell_type": "code",
   "execution_count": null,
   "metadata": {},
   "outputs": [],
   "source": [
    "#draw a histogram for Age\n",
    "g= sns.FacetGrid(df_continuous,col='SegmentKmeans')\n",
    "g.map(sns.histplot,'Age')"
   ]
  }
 ],
 "metadata": {
  "kernelspec": {
   "display_name": "Python 3 (ipykernel)",
   "language": "python",
   "name": "python3"
  },
  "language_info": {
   "codemirror_mode": {
    "name": "ipython",
    "version": 3
   },
   "file_extension": ".py",
   "mimetype": "text/x-python",
   "name": "python",
   "nbconvert_exporter": "python",
   "pygments_lexer": "ipython3",
   "version": "3.11.4"
  }
 },
 "nbformat": 4,
 "nbformat_minor": 4
}
