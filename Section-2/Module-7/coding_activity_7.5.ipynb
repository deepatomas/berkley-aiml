{
 "cells": [
  {
   "cell_type": "markdown",
   "metadata": {
    "deletable": false,
    "editable": false,
    "nbgrader": {
     "checksum": "4b94c60a0b1b8ce948de705658e58db4",
     "grade": false,
     "grade_id": "cell-bb73b89393cb3c29",
     "locked": true,
     "schema_version": 1,
     "solution": false
    }
   },
   "source": [
    "## Codio Activity 7.5: Calculating Multiple Loss Functions\n",
    "\n",
    "**Expected Time = 60 minutes**\n",
    "\n",
    "**Total Points = 20**\n",
    "\n",
    "A third loss function mentioned is the Huber loss function.  This is notable for its resistance to extreme values and is defined as a piecewise function:\n",
    "\n",
    "\n",
    "$${\\displaystyle L_{\\delta }(y,f(x))={\\begin{cases}{\\frac {1}{2}}(y-f(x))^{2}&{\\textrm {for}}|y-f(x)|\\leq \\delta ,\\\\\\delta \\,(|y-f(x)|-{\\frac {1}{2}}\\delta ),&{\\textrm {otherwise.}}\\end{cases}}}$$\n",
    "\n",
    "In this activity, you will compute and compare the results of minimizing the mean squared error, mean absolute error, and huber loss functions.  \n",
    "\n",
    "NOTE: If the formula is not rendering correctly (overlapping text), double-click in this cell and then Shift-Enter to reload the cell.\n",
    "\n",
    "\n",
    "## Index:\n",
    "\n",
    "- [Problem 1](#Problem-1)\n",
    "- [Problem 2](#Problem-2)\n",
    "- [Problem 3](#Problem-3)"
   ]
  },
  {
   "cell_type": "code",
   "execution_count": 25,
   "metadata": {},
   "outputs": [],
   "source": [
    "import seaborn as sns\n",
    "import pandas as pd\n",
    "import numpy as np\n",
    "import matplotlib.pyplot as plt\n",
    "import plotly.express as px\n",
    "import plotly.graph_objects as go\n",
    "from scipy.optimize import minimize\n",
    "from sklearn.metrics import mean_squared_error"
   ]
  },
  {
   "cell_type": "markdown",
   "metadata": {
    "deletable": false,
    "editable": false,
    "nbgrader": {
     "checksum": "cbb0dfe12834075b1e993fff576a6447",
     "grade": false,
     "grade_id": "cell-5a7bf1910448a41a",
     "locked": true,
     "schema_version": 1,
     "solution": false
    }
   },
   "source": [
    "### The tips data\n",
    "\n",
    "For this exercise, the tips dataset from the lectures will be used, and you are to predict the tip amount given the total bill.  "
   ]
  },
  {
   "cell_type": "code",
   "execution_count": 6,
   "metadata": {},
   "outputs": [],
   "source": [
    "tips = sns.load_dataset('tips')"
   ]
  },
  {
   "cell_type": "code",
   "execution_count": 7,
   "metadata": {},
   "outputs": [
    {
     "data": {
      "text/html": [
       "<div>\n",
       "<style scoped>\n",
       "    .dataframe tbody tr th:only-of-type {\n",
       "        vertical-align: middle;\n",
       "    }\n",
       "\n",
       "    .dataframe tbody tr th {\n",
       "        vertical-align: top;\n",
       "    }\n",
       "\n",
       "    .dataframe thead th {\n",
       "        text-align: right;\n",
       "    }\n",
       "</style>\n",
       "<table border=\"1\" class=\"dataframe\">\n",
       "  <thead>\n",
       "    <tr style=\"text-align: right;\">\n",
       "      <th></th>\n",
       "      <th>total_bill</th>\n",
       "      <th>tip</th>\n",
       "      <th>sex</th>\n",
       "      <th>smoker</th>\n",
       "      <th>day</th>\n",
       "      <th>time</th>\n",
       "      <th>size</th>\n",
       "    </tr>\n",
       "  </thead>\n",
       "  <tbody>\n",
       "    <tr>\n",
       "      <th>0</th>\n",
       "      <td>16.99</td>\n",
       "      <td>1.01</td>\n",
       "      <td>Female</td>\n",
       "      <td>No</td>\n",
       "      <td>Sun</td>\n",
       "      <td>Dinner</td>\n",
       "      <td>2</td>\n",
       "    </tr>\n",
       "    <tr>\n",
       "      <th>1</th>\n",
       "      <td>10.34</td>\n",
       "      <td>1.66</td>\n",
       "      <td>Male</td>\n",
       "      <td>No</td>\n",
       "      <td>Sun</td>\n",
       "      <td>Dinner</td>\n",
       "      <td>3</td>\n",
       "    </tr>\n",
       "    <tr>\n",
       "      <th>2</th>\n",
       "      <td>21.01</td>\n",
       "      <td>3.50</td>\n",
       "      <td>Male</td>\n",
       "      <td>No</td>\n",
       "      <td>Sun</td>\n",
       "      <td>Dinner</td>\n",
       "      <td>3</td>\n",
       "    </tr>\n",
       "    <tr>\n",
       "      <th>3</th>\n",
       "      <td>23.68</td>\n",
       "      <td>3.31</td>\n",
       "      <td>Male</td>\n",
       "      <td>No</td>\n",
       "      <td>Sun</td>\n",
       "      <td>Dinner</td>\n",
       "      <td>2</td>\n",
       "    </tr>\n",
       "    <tr>\n",
       "      <th>4</th>\n",
       "      <td>24.59</td>\n",
       "      <td>3.61</td>\n",
       "      <td>Female</td>\n",
       "      <td>No</td>\n",
       "      <td>Sun</td>\n",
       "      <td>Dinner</td>\n",
       "      <td>4</td>\n",
       "    </tr>\n",
       "  </tbody>\n",
       "</table>\n",
       "</div>"
      ],
      "text/plain": [
       "   total_bill   tip     sex smoker  day    time  size\n",
       "0       16.99  1.01  Female     No  Sun  Dinner     2\n",
       "1       10.34  1.66    Male     No  Sun  Dinner     3\n",
       "2       21.01  3.50    Male     No  Sun  Dinner     3\n",
       "3       23.68  3.31    Male     No  Sun  Dinner     2\n",
       "4       24.59  3.61  Female     No  Sun  Dinner     4"
      ]
     },
     "execution_count": 7,
     "metadata": {},
     "output_type": "execute_result"
    }
   ],
   "source": [
    "tips.head()"
   ]
  },
  {
   "cell_type": "code",
   "execution_count": 8,
   "metadata": {},
   "outputs": [],
   "source": [
    "X = tips['total_bill']\n",
    "y = tips['tip']"
   ]
  },
  {
   "cell_type": "markdown",
   "metadata": {
    "deletable": false,
    "editable": false,
    "nbgrader": {
     "checksum": "093daf7538cb7e2c352426035e60b2d7",
     "grade": false,
     "grade_id": "cell-f5dbd8e1ad4fb524",
     "locked": true,
     "schema_version": 1,
     "solution": false
    }
   },
   "source": [
    "[Back to top](#Index:) \n",
    "\n",
    "## Problem 1\n",
    "\n",
    "### Create a Huber Loss function\n",
    "\n",
    "**10 Points**\n",
    "\n",
    "Using the formula repeated below for the Huber loss, complete the function that returns the sum of the Huber Loss equation.\n",
    "\n",
    "$${\\displaystyle L_{\\delta }(y,f(x))={\\begin{cases}{\\frac {1}{2}}(y-f(x))^{2}&{\\textrm {for}}|y-f(x)|\\leq \\delta ,\\\\\\delta \\,(|y-f(x)|-{\\frac {1}{2}}\\delta ),&{\\textrm {otherwise.}}\\end{cases}}}$$\n",
    "\n",
    "Your function will take in both a value for $\\theta$ and for $\\delta$.  Set the value of $\\delta = 1.5$ by default."
   ]
  },
  {
   "cell_type": "code",
   "execution_count": 18,
   "metadata": {
    "deletable": false,
    "nbgrader": {
     "checksum": "a1d6a06e5647e8d603c39255b70a522f",
     "grade": false,
     "grade_id": "cell-9a9b87589083f36b",
     "locked": false,
     "schema_version": 1,
     "solution": true
    }
   },
   "outputs": [
    {
     "data": {
      "text/plain": [
       "56561.369999999995"
      ]
     },
     "execution_count": 18,
     "metadata": {},
     "output_type": "execute_result"
    }
   ],
   "source": [
    "#GRADED\n",
    "\n",
    "def huber_loss(theta, delta):\n",
    "    \"\"\"\n",
    "    This function accepts a value for theta\n",
    "    and returns the sum of the huber loss.\n",
    "    \n",
    "    Arguments\n",
    "    ---------\n",
    "    theta: float\n",
    "           Values to use for parameter\n",
    "           of regression model.\n",
    "           \n",
    "    delta: float\n",
    "           Value for delta in Huber Loss\n",
    "            \n",
    "    Returns\n",
    "    -------\n",
    "    huber: np.float\n",
    "         Sum of huber loss\n",
    "    \"\"\"\n",
    "\n",
    "# YOUR CODE HERE\n",
    "def huber_loss(theta, delta=1.5):\n",
    "    y_predict = theta*X\n",
    "    y_err = np.abs(y-y_predict)\n",
    "    \n",
    "    if (y_err<=delta).any():\n",
    "        return sum(1/2*(y_err**2))\n",
    "    else:\n",
    "        return sum(delta*(y_err-(delta/2)))\n",
    "    \n",
    "huber_loss(8)"
   ]
  },
  {
   "cell_type": "code",
   "execution_count": null,
   "metadata": {
    "deletable": false,
    "editable": false,
    "nbgrader": {
     "checksum": "8f597b3d5708da253ac73ae3ea4b1544",
     "grade": true,
     "grade_id": "cell-5921ecbcb23b0fb0",
     "locked": true,
     "points": 10,
     "schema_version": 1,
     "solution": false
    }
   },
   "outputs": [],
   "source": []
  },
  {
   "cell_type": "markdown",
   "metadata": {
    "deletable": false,
    "editable": false,
    "nbgrader": {
     "checksum": "21d8b4b2086d67631b8b1cb3bdfeccb4",
     "grade": false,
     "grade_id": "cell-71b3d24c4438e5b8",
     "locked": true,
     "schema_version": 1,
     "solution": false
    }
   },
   "source": [
    "[Back to top](#Index:) \n",
    "\n",
    "## Problem 2\n",
    "\n",
    "### Minimizing Huber Loss\n",
    "\n",
    "**10 Points**\n",
    "\n",
    "Use the `minimize` function imported from `scipy.optimize` to determine the optimal value for $\\theta$ based on the Huber Loss with $\\delta = 1.5$.  Assign your results as type `np.float` to `theta_huber` below with `x0 = .5`.  "
   ]
  },
  {
   "cell_type": "code",
   "execution_count": 21,
   "metadata": {
    "deletable": false,
    "nbgrader": {
     "checksum": "a965b195657ffb6d1d579a6b8858934a",
     "grade": false,
     "grade_id": "cell-91b58b91bc727853",
     "locked": false,
     "schema_version": 1,
     "solution": true
    }
   },
   "outputs": [
    {
     "name": "stdout",
     "output_type": "stream",
     "text": [
      "<class 'float'>\n",
      "0.14373189541992312\n"
     ]
    }
   ],
   "source": [
    "### GRADED\n",
    "\n",
    "theta_huber = ''\n",
    "\n",
    "# YOUR CODE HERE\n",
    "minimum_theta = minimize(huber_loss, x0 = .5)\n",
    "theta_huber = np.float(minimum_theta.x[0])\n",
    "# Answer check\n",
    "print(type(theta_huber))\n",
    "print(theta_huber)"
   ]
  },
  {
   "cell_type": "code",
   "execution_count": null,
   "metadata": {
    "deletable": false,
    "editable": false,
    "nbgrader": {
     "checksum": "b408a863c3938983879f7629ccf24ae1",
     "grade": true,
     "grade_id": "cell-837b15e800192fb7",
     "locked": true,
     "points": 10,
     "schema_version": 1,
     "solution": false
    }
   },
   "outputs": [],
   "source": []
  },
  {
   "cell_type": "markdown",
   "metadata": {
    "deletable": false,
    "editable": false,
    "nbgrader": {
     "checksum": "0d12b320215ae84049c740d9ea04d765",
     "grade": false,
     "grade_id": "cell-a5b2d0ca6167dbc4",
     "locked": true,
     "schema_version": 1,
     "solution": false
    }
   },
   "source": [
    "[Back to top](#Index:) \n",
    "\n",
    "## Problem 3\n",
    "\n",
    "### Plotting and Comparing Models\n",
    "\n",
    "**0 Points**\n",
    "\n",
    "Now, complete the function below that will generate a `matplotlib` scatterplot of your data `X` vs. `y` and include plots of the models resulting from `mse`, `mae`, and `huber` loss functions.  This problem is not graded."
   ]
  },
  {
   "cell_type": "code",
   "execution_count": 39,
   "metadata": {},
   "outputs": [
    {
     "name": "stdout",
     "output_type": "stream",
     "text": [
      "0.1515151515151516 1.2066132197534216\n",
      "0.1515151515151516 0.7718343268753106\n",
      "0.1515151515151516 147.20681280991738\n"
     ]
    },
    {
     "data": {
      "image/png": "[encoded data removed]",
      "text/plain": [
       "<Figure size 432x288 with 1 Axes>"
      ]
     },
     "metadata": {
      "needs_background": "light"
     },
     "output_type": "display_data"
    }
   ],
   "source": [
    "def mse_for_theta(theta):\n",
    "    return mean_squared_error(theta*X,y)\n",
    "def msa_for_theta(theta):\n",
    "    return np.mean(abs(y-theta*X))\n",
    "def huber_for_theta(theta,delta=1.5):\n",
    "    y_predict = theta*X\n",
    "    y_err = np.abs(y-y_predict)\n",
    "    \n",
    "    if (y_err<=delta).any():\n",
    "        return sum(1/2*(y_err**2))\n",
    "    else:\n",
    "        return sum(delta*(y_err-(delta/2)))\n",
    "\n",
    "def err_funcs(thetas,mses, msas,hubers):\n",
    "    mses = [mse_for_theta(theta) for theta in thetas]\n",
    "    msas = [msa_for_theta(theta) for theta in thetas]\n",
    "    hubers = [huber_for_theta(theta) for theta in thetas]\n",
    "    return mses, msas, hubers\n",
    "\n",
    "mses=None\n",
    "msas=None\n",
    "hubers=None\n",
    "thetas = np.linspace(-1,1,100)\n",
    "mses,msas,hubers=err_funcs(thetas,mses, msas,hubers)\n",
    "#plt.plot(thetas, mses)\n",
    "#plt.plot(thetas, msas)\n",
    "plt.plot(thetas, hubers)\n",
    "print(thetas[np.argmin(mses)], min(mses))\n",
    "print(thetas[np.argmin(msas)], min(msas))\n",
    "print(thetas[np.argmin(hubers)], min(hubers))\n"
   ]
  },
  {
   "cell_type": "code",
   "execution_count": null,
   "metadata": {},
   "outputs": [],
   "source": []
  }
 ],
 "metadata": {
  "kernelspec": {
   "display_name": "Python 3 (ipykernel)",
   "language": "python",
   "name": "python3"
  },
  "language_info": {
   "codemirror_mode": {
    "name": "ipython",
    "version": 3
   },
   "file_extension": ".py",
   "mimetype": "text/x-python",
   "name": "python",
   "nbconvert_exporter": "python",
   "pygments_lexer": "ipython3",
   "version": "3.11.4"
  }
 },
 "nbformat": 4,
 "nbformat_minor": 4
}
