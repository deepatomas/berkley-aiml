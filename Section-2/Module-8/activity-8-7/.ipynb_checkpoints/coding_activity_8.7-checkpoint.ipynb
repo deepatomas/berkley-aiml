{
 "cells": [
  {
   "cell_type": "markdown",
   "metadata": {
    "deletable": false,
    "editable": false,
    "nbgrader": {
     "cell_type": "markdown",
     "checksum": "5a5eaa7e767a91423033fd81574a4e34",
     "grade": false,
     "grade_id": "cell-e28789e4ae42e5d8",
     "locked": true,
     "schema_version": 3,
     "solution": false,
     "task": false
    }
   },
   "source": [
    "### Codio Activity 8.7: Evaluating Multiple Models\n",
    "\n",
    "**Estimated Time: 120 Minutes**\n",
    "\n",
    "**Total points: 100**\n",
    "\n",
    "This assignment focuses on solving a specific regression problem using basic cross validation with a train/test/validation split.  In addition to using the methods explored, this assignment also aims to familiarize you with further utilities for data transformation including the `OneHotEncoder` and `OrdinalEncoder` along with their use in a `make_column_transformer`.  \n",
    "\n",
    "The operations of encoding categorical features will be introduced using `sklearn`.  This will allow you to streamline your model building pipelines.  Depending on whether a string type feature is **ordinal** or **categorical** we want to encode differently.  The `OrdinalEncoder` will be used to encode features that do not need to be binarized due to an underlying order, and `OneHotEncoder` for categorical features (as a similar approach to that of the `.get_dummies()` method in pandas).  By the end of the assignment, you will see how to chain multiple feature encoding methods together including the earlier `PolynomialFeatures` for numeric features. \n",
    "\n",
    "<center>\n",
    "    <img src = images/pipes.png width = 50% />\n",
    "</center>"
   ]
  },
  {
   "cell_type": "markdown",
   "metadata": {
    "deletable": false,
    "editable": false,
    "nbgrader": {
     "cell_type": "markdown",
     "checksum": "98c7acc8bd35b50e459312c837e4582d",
     "grade": false,
     "grade_id": "cell-5c9b6ac6e449ecfc",
     "locked": true,
     "schema_version": 3,
     "solution": false,
     "task": false
    }
   },
   "source": [
    "#### Index\n",
    "\n",
    "- [Problem 1](#Problem-1)\n",
    "- [Problem 2](#Problem-2)\n",
    "- [Problem 3](#Problem-3)\n",
    "- [Problem 4](#Problem-4)\n",
    "- [Problem 5](#Problem-5)\n",
    "- [Problem 6](#Problem-6)\n",
    "- [Problem 7](#Problem-7)\n",
    "- [Problem 8](#Problem-8)\n",
    "- [Problem 9](#Problem-9)\n",
    "- [Problem 10](#Problem-10)\n"
   ]
  },
  {
   "cell_type": "code",
   "execution_count": 4,
   "metadata": {},
   "outputs": [],
   "source": [
    "import pandas as pd\n",
    "import numpy as np\n",
    "import matplotlib.pyplot as plt\n",
    "\n",
    "from sklearn.linear_model import LinearRegression\n",
    "from sklearn.pipeline import Pipeline\n",
    "from sklearn.preprocessing import PolynomialFeatures, OneHotEncoder, OrdinalEncoder\n",
    "from sklearn.metrics import mean_squared_error \n",
    "from sklearn.model_selection import train_test_split\n",
    "from sklearn.compose import make_column_transformer, make_column_selector\n",
    "\n",
    "from sklearn import set_config\n",
    "\n",
    "set_config(display=\"diagram\") #setting this will display your pipelines as seen above"
   ]
  },
  {
   "cell_type": "markdown",
   "metadata": {
    "deletable": false,
    "editable": false,
    "nbgrader": {
     "cell_type": "markdown",
     "checksum": "5342b8e57515edf45e1169fe57b577c7",
     "grade": false,
     "grade_id": "cell-f26ce8dce8a28e98",
     "locked": true,
     "schema_version": 3,
     "solution": false,
     "task": false
    }
   },
   "source": [
    "### The Data: Ames Housing\n",
    "\n",
    "This dataset is a popular beginning dataset used in teaching regression.  The task is to use specific features of houses to predict the price of the house.  In addition to this, as discussed in video 8.10 -- this dataset is available for use in an ongoing competition where you can use the `test.csv` to submit your models predictions.  Accordingly, the two data files are identical with the exception of the `test.csv` file not containing the target feature.\n",
    "\n",
    "The data contains 81 columns of different information on the individual houses and their sale price.  A full description of the data is attached [here](data/data_description.txt).  In this assignment, you will use a small subset of the features to begin modeling with that includes ordinal, categorical, and numeric features. As an optional exercise you are encouraged to continue engineering additional features and attempt to improve the performance of your model including submitting the predictions on kaggle. "
   ]
  },
  {
   "cell_type": "code",
   "execution_count": 5,
   "metadata": {},
   "outputs": [],
   "source": [
    "train = pd.read_csv('data/train.csv')\n",
    "test = pd.read_csv('data/test.csv')"
   ]
  },
  {
   "cell_type": "code",
   "execution_count": 6,
   "metadata": {},
   "outputs": [
    {
     "name": "stdout",
     "output_type": "stream",
     "text": [
      "<class 'pandas.core.frame.DataFrame'>\n",
      "RangeIndex: 1460 entries, 0 to 1459\n",
      "Data columns (total 81 columns):\n",
      " #   Column         Non-Null Count  Dtype  \n",
      "---  ------         --------------  -----  \n",
      " 0   Id             1460 non-null   int64  \n",
      " 1   MSSubClass     1460 non-null   int64  \n",
      " 2   MSZoning       1460 non-null   object \n",
      " 3   LotFrontage    1201 non-null   float64\n",
      " 4   LotArea        1460 non-null   int64  \n",
      " 5   Street         1460 non-null   object \n",
      " 6   Alley          91 non-null     object \n",
      " 7   LotShape       1460 non-null   object \n",
      " 8   LandContour    1460 non-null   object \n",
      " 9   Utilities      1460 non-null   object \n",
      " 10  LotConfig      1460 non-null   object \n",
      " 11  LandSlope      1460 non-null   object \n",
      " 12  Neighborhood   1460 non-null   object \n",
      " 13  Condition1     1460 non-null   object \n",
      " 14  Condition2     1460 non-null   object \n",
      " 15  BldgType       1460 non-null   object \n",
      " 16  HouseStyle     1460 non-null   object \n",
      " 17  OverallQual    1460 non-null   int64  \n",
      " 18  OverallCond    1460 non-null   int64  \n",
      " 19  YearBuilt      1460 non-null   int64  \n",
      " 20  YearRemodAdd   1460 non-null   int64  \n",
      " 21  RoofStyle      1460 non-null   object \n",
      " 22  RoofMatl       1460 non-null   object \n",
      " 23  Exterior1st    1460 non-null   object \n",
      " 24  Exterior2nd    1460 non-null   object \n",
      " 25  MasVnrType     1452 non-null   object \n",
      " 26  MasVnrArea     1452 non-null   float64\n",
      " 27  ExterQual      1460 non-null   object \n",
      " 28  ExterCond      1460 non-null   object \n",
      " 29  Foundation     1460 non-null   object \n",
      " 30  BsmtQual       1423 non-null   object \n",
      " 31  BsmtCond       1423 non-null   object \n",
      " 32  BsmtExposure   1422 non-null   object \n",
      " 33  BsmtFinType1   1423 non-null   object \n",
      " 34  BsmtFinSF1     1460 non-null   int64  \n",
      " 35  BsmtFinType2   1422 non-null   object \n",
      " 36  BsmtFinSF2     1460 non-null   int64  \n",
      " 37  BsmtUnfSF      1460 non-null   int64  \n",
      " 38  TotalBsmtSF    1460 non-null   int64  \n",
      " 39  Heating        1460 non-null   object \n",
      " 40  HeatingQC      1460 non-null   object \n",
      " 41  CentralAir     1460 non-null   object \n",
      " 42  Electrical     1459 non-null   object \n",
      " 43  1stFlrSF       1460 non-null   int64  \n",
      " 44  2ndFlrSF       1460 non-null   int64  \n",
      " 45  LowQualFinSF   1460 non-null   int64  \n",
      " 46  GrLivArea      1460 non-null   int64  \n",
      " 47  BsmtFullBath   1460 non-null   int64  \n",
      " 48  BsmtHalfBath   1460 non-null   int64  \n",
      " 49  FullBath       1460 non-null   int64  \n",
      " 50  HalfBath       1460 non-null   int64  \n",
      " 51  BedroomAbvGr   1460 non-null   int64  \n",
      " 52  KitchenAbvGr   1460 non-null   int64  \n",
      " 53  KitchenQual    1460 non-null   object \n",
      " 54  TotRmsAbvGrd   1460 non-null   int64  \n",
      " 55  Functional     1460 non-null   object \n",
      " 56  Fireplaces     1460 non-null   int64  \n",
      " 57  FireplaceQu    770 non-null    object \n",
      " 58  GarageType     1379 non-null   object \n",
      " 59  GarageYrBlt    1379 non-null   float64\n",
      " 60  GarageFinish   1379 non-null   object \n",
      " 61  GarageCars     1460 non-null   int64  \n",
      " 62  GarageArea     1460 non-null   int64  \n",
      " 63  GarageQual     1379 non-null   object \n",
      " 64  GarageCond     1379 non-null   object \n",
      " 65  PavedDrive     1460 non-null   object \n",
      " 66  WoodDeckSF     1460 non-null   int64  \n",
      " 67  OpenPorchSF    1460 non-null   int64  \n",
      " 68  EnclosedPorch  1460 non-null   int64  \n",
      " 69  3SsnPorch      1460 non-null   int64  \n",
      " 70  ScreenPorch    1460 non-null   int64  \n",
      " 71  PoolArea       1460 non-null   int64  \n",
      " 72  PoolQC         7 non-null      object \n",
      " 73  Fence          281 non-null    object \n",
      " 74  MiscFeature    54 non-null     object \n",
      " 75  MiscVal        1460 non-null   int64  \n",
      " 76  MoSold         1460 non-null   int64  \n",
      " 77  YrSold         1460 non-null   int64  \n",
      " 78  SaleType       1460 non-null   object \n",
      " 79  SaleCondition  1460 non-null   object \n",
      " 80  SalePrice      1460 non-null   int64  \n",
      "dtypes: float64(3), int64(35), object(43)\n",
      "memory usage: 924.0+ KB\n"
     ]
    }
   ],
   "source": [
    "train.info()"
   ]
  },
  {
   "cell_type": "code",
   "execution_count": 7,
   "metadata": {},
   "outputs": [
    {
     "data": {
      "text/html": [
       "<div>\n",
       "<style scoped>\n",
       "    .dataframe tbody tr th:only-of-type {\n",
       "        vertical-align: middle;\n",
       "    }\n",
       "\n",
       "    .dataframe tbody tr th {\n",
       "        vertical-align: top;\n",
       "    }\n",
       "\n",
       "    .dataframe thead th {\n",
       "        text-align: right;\n",
       "    }\n",
       "</style>\n",
       "<table border=\"1\" class=\"dataframe\">\n",
       "  <thead>\n",
       "    <tr style=\"text-align: right;\">\n",
       "      <th></th>\n",
       "      <th>Id</th>\n",
       "      <th>MSSubClass</th>\n",
       "      <th>MSZoning</th>\n",
       "      <th>LotFrontage</th>\n",
       "      <th>LotArea</th>\n",
       "      <th>Street</th>\n",
       "      <th>Alley</th>\n",
       "      <th>LotShape</th>\n",
       "      <th>LandContour</th>\n",
       "      <th>Utilities</th>\n",
       "      <th>...</th>\n",
       "      <th>PoolArea</th>\n",
       "      <th>PoolQC</th>\n",
       "      <th>Fence</th>\n",
       "      <th>MiscFeature</th>\n",
       "      <th>MiscVal</th>\n",
       "      <th>MoSold</th>\n",
       "      <th>YrSold</th>\n",
       "      <th>SaleType</th>\n",
       "      <th>SaleCondition</th>\n",
       "      <th>SalePrice</th>\n",
       "    </tr>\n",
       "  </thead>\n",
       "  <tbody>\n",
       "    <tr>\n",
       "      <th>0</th>\n",
       "      <td>1</td>\n",
       "      <td>60</td>\n",
       "      <td>RL</td>\n",
       "      <td>65.0</td>\n",
       "      <td>8450</td>\n",
       "      <td>Pave</td>\n",
       "      <td>NaN</td>\n",
       "      <td>Reg</td>\n",
       "      <td>Lvl</td>\n",
       "      <td>AllPub</td>\n",
       "      <td>...</td>\n",
       "      <td>0</td>\n",
       "      <td>NaN</td>\n",
       "      <td>NaN</td>\n",
       "      <td>NaN</td>\n",
       "      <td>0</td>\n",
       "      <td>2</td>\n",
       "      <td>2008</td>\n",
       "      <td>WD</td>\n",
       "      <td>Normal</td>\n",
       "      <td>208500</td>\n",
       "    </tr>\n",
       "    <tr>\n",
       "      <th>1</th>\n",
       "      <td>2</td>\n",
       "      <td>20</td>\n",
       "      <td>RL</td>\n",
       "      <td>80.0</td>\n",
       "      <td>9600</td>\n",
       "      <td>Pave</td>\n",
       "      <td>NaN</td>\n",
       "      <td>Reg</td>\n",
       "      <td>Lvl</td>\n",
       "      <td>AllPub</td>\n",
       "      <td>...</td>\n",
       "      <td>0</td>\n",
       "      <td>NaN</td>\n",
       "      <td>NaN</td>\n",
       "      <td>NaN</td>\n",
       "      <td>0</td>\n",
       "      <td>5</td>\n",
       "      <td>2007</td>\n",
       "      <td>WD</td>\n",
       "      <td>Normal</td>\n",
       "      <td>181500</td>\n",
       "    </tr>\n",
       "    <tr>\n",
       "      <th>2</th>\n",
       "      <td>3</td>\n",
       "      <td>60</td>\n",
       "      <td>RL</td>\n",
       "      <td>68.0</td>\n",
       "      <td>11250</td>\n",
       "      <td>Pave</td>\n",
       "      <td>NaN</td>\n",
       "      <td>IR1</td>\n",
       "      <td>Lvl</td>\n",
       "      <td>AllPub</td>\n",
       "      <td>...</td>\n",
       "      <td>0</td>\n",
       "      <td>NaN</td>\n",
       "      <td>NaN</td>\n",
       "      <td>NaN</td>\n",
       "      <td>0</td>\n",
       "      <td>9</td>\n",
       "      <td>2008</td>\n",
       "      <td>WD</td>\n",
       "      <td>Normal</td>\n",
       "      <td>223500</td>\n",
       "    </tr>\n",
       "    <tr>\n",
       "      <th>3</th>\n",
       "      <td>4</td>\n",
       "      <td>70</td>\n",
       "      <td>RL</td>\n",
       "      <td>60.0</td>\n",
       "      <td>9550</td>\n",
       "      <td>Pave</td>\n",
       "      <td>NaN</td>\n",
       "      <td>IR1</td>\n",
       "      <td>Lvl</td>\n",
       "      <td>AllPub</td>\n",
       "      <td>...</td>\n",
       "      <td>0</td>\n",
       "      <td>NaN</td>\n",
       "      <td>NaN</td>\n",
       "      <td>NaN</td>\n",
       "      <td>0</td>\n",
       "      <td>2</td>\n",
       "      <td>2006</td>\n",
       "      <td>WD</td>\n",
       "      <td>Abnorml</td>\n",
       "      <td>140000</td>\n",
       "    </tr>\n",
       "    <tr>\n",
       "      <th>4</th>\n",
       "      <td>5</td>\n",
       "      <td>60</td>\n",
       "      <td>RL</td>\n",
       "      <td>84.0</td>\n",
       "      <td>14260</td>\n",
       "      <td>Pave</td>\n",
       "      <td>NaN</td>\n",
       "      <td>IR1</td>\n",
       "      <td>Lvl</td>\n",
       "      <td>AllPub</td>\n",
       "      <td>...</td>\n",
       "      <td>0</td>\n",
       "      <td>NaN</td>\n",
       "      <td>NaN</td>\n",
       "      <td>NaN</td>\n",
       "      <td>0</td>\n",
       "      <td>12</td>\n",
       "      <td>2008</td>\n",
       "      <td>WD</td>\n",
       "      <td>Normal</td>\n",
       "      <td>250000</td>\n",
       "    </tr>\n",
       "  </tbody>\n",
       "</table>\n",
       "<p>5 rows × 81 columns</p>\n",
       "</div>"
      ],
      "text/plain": [
       "   Id  MSSubClass MSZoning  LotFrontage  LotArea Street Alley LotShape  \\\n",
       "0   1          60       RL         65.0     8450   Pave   NaN      Reg   \n",
       "1   2          20       RL         80.0     9600   Pave   NaN      Reg   \n",
       "2   3          60       RL         68.0    11250   Pave   NaN      IR1   \n",
       "3   4          70       RL         60.0     9550   Pave   NaN      IR1   \n",
       "4   5          60       RL         84.0    14260   Pave   NaN      IR1   \n",
       "\n",
       "  LandContour Utilities  ... PoolArea PoolQC Fence MiscFeature MiscVal MoSold  \\\n",
       "0         Lvl    AllPub  ...        0    NaN   NaN         NaN       0      2   \n",
       "1         Lvl    AllPub  ...        0    NaN   NaN         NaN       0      5   \n",
       "2         Lvl    AllPub  ...        0    NaN   NaN         NaN       0      9   \n",
       "3         Lvl    AllPub  ...        0    NaN   NaN         NaN       0      2   \n",
       "4         Lvl    AllPub  ...        0    NaN   NaN         NaN       0     12   \n",
       "\n",
       "  YrSold  SaleType  SaleCondition  SalePrice  \n",
       "0   2008        WD         Normal     208500  \n",
       "1   2007        WD         Normal     181500  \n",
       "2   2008        WD         Normal     223500  \n",
       "3   2006        WD        Abnorml     140000  \n",
       "4   2008        WD         Normal     250000  \n",
       "\n",
       "[5 rows x 81 columns]"
      ]
     },
     "execution_count": 7,
     "metadata": {},
     "output_type": "execute_result"
    }
   ],
   "source": [
    "train.head()"
   ]
  },
  {
   "cell_type": "code",
   "execution_count": 8,
   "metadata": {},
   "outputs": [
    {
     "data": {
      "text/plain": [
       "['SalePrice']"
      ]
     },
     "execution_count": 8,
     "metadata": {},
     "output_type": "execute_result"
    }
   ],
   "source": [
    "#note the difference in one column from train to test\n",
    "[i for i in train.columns if i not in test.columns]"
   ]
  },
  {
   "cell_type": "markdown",
   "metadata": {
    "deletable": false,
    "editable": false,
    "nbgrader": {
     "cell_type": "markdown",
     "checksum": "017c86b72544f1c39d817c549a91e4e4",
     "grade": false,
     "grade_id": "cell-5fc95e37458a0411",
     "locked": true,
     "schema_version": 3,
     "solution": false,
     "task": false
    }
   },
   "source": [
    "[Back to top](#Index:) \n",
    "\n",
    "### Problem 1\n",
    "\n",
    "#### Train/Test split\n",
    "\n",
    "**5 Points**\n",
    "\n",
    "Despite having a test dataset, you want to create a holdout set to assess your models performance.  To do so, use sklearn's `train_test_split` with arguments:\n",
    "\n",
    "- `test_size = 0.3`\n",
    "- `random_state = 22`\n",
    "\n",
    "Assign your results to `X_train, X_test, y_train, y_test` below with `X` and `y` as given.  `X_train` and `X_test` should be a pandas DataFrame, and `y_train`, `y_test` are to be pandas Series.  \n"
   ]
  },
  {
   "cell_type": "code",
   "execution_count": 24,
   "metadata": {},
   "outputs": [],
   "source": [
    "X = train.drop('SalePrice', axis = 1)\n",
    "y = train['SalePrice']"
   ]
  },
  {
   "cell_type": "code",
   "execution_count": 25,
   "metadata": {
    "deletable": false,
    "nbgrader": {
     "cell_type": "code",
     "checksum": "a78daf873558a9df0c1fff03d9ea68f5",
     "grade": false,
     "grade_id": "cell-e8fb6e1fcf3d2671",
     "locked": false,
     "schema_version": 3,
     "solution": true,
     "task": false
    }
   },
   "outputs": [
    {
     "name": "stdout",
     "output_type": "stream",
     "text": [
      "(1022, 80)\n",
      "(438, 80)\n",
      "<class 'pandas.core.frame.DataFrame'> <class 'pandas.core.series.Series'>\n"
     ]
    }
   ],
   "source": [
    "### GRADED\n",
    "\n",
    "X_train, X_test, y_train, y_test = '', '', '', ''\n",
    "\n",
    "# YOUR CODE HERE\n",
    "X_train, X_test, y_train, y_test = train_test_split(X,y,test_size=0.3,random_state=22)\n",
    "\n",
    "# Answer check\n",
    "print(X_train.shape)\n",
    "print(X_test.shape)\n",
    "print(type(X_train), type(y_train))#should be DataFrame and Series"
   ]
  },
  {
   "cell_type": "code",
   "execution_count": null,
   "metadata": {
    "deletable": false,
    "editable": false,
    "nbgrader": {
     "cell_type": "code",
     "checksum": "1888466b5afb92c0605e968aad4bab28",
     "grade": true,
     "grade_id": "cell-e74d53b69655ba71",
     "locked": true,
     "points": 5,
     "schema_version": 3,
     "solution": false,
     "task": false
    }
   },
   "outputs": [],
   "source": []
  },
  {
   "cell_type": "markdown",
   "metadata": {
    "deletable": false,
    "editable": false,
    "nbgrader": {
     "cell_type": "markdown",
     "checksum": "83ba080961852e44b04a25f05697f83a",
     "grade": false,
     "grade_id": "cell-4a49dcddc30c0ab0",
     "locked": true,
     "schema_version": 3,
     "solution": false,
     "task": false
    }
   },
   "source": [
    "[Back to top](#Index:) \n",
    "\n",
    "### Problem 2\n",
    "\n",
    "#### Baseline Predictions\n",
    "\n",
    "**10 Points**\n",
    "\n",
    "Before buildling a regression model, you should set a baseline to compare your later models to.  One way to do this is to guess the mean of the `SalePrice` column.  For the variables `baseline_train` and `baseline_test`, create arrays of same shape as `y_train` and `y_test` respectively.  These should both contain the mean of the target feature in the train set. Use the mean predictions to determine the `mean_squared_error` for both the train and test sets and assign to `mse_baseline_train` and `mse_baseline_test` below.  "
   ]
  },
  {
   "cell_type": "code",
   "execution_count": 26,
   "metadata": {
    "deletable": false,
    "nbgrader": {
     "cell_type": "code",
     "checksum": "ea92701bf3fabd2f4e3d9fe7a0855f60",
     "grade": false,
     "grade_id": "cell-5cbc5d640d56621c",
     "locked": false,
     "schema_version": 3,
     "solution": true,
     "task": false
    }
   },
   "outputs": [
    {
     "name": "stdout",
     "output_type": "stream",
     "text": [
      "(1022,) (438,)\n",
      "Baseline for training data: 6277713446.182904\n",
      "Baseline for testing data: 6374354899.510017\n"
     ]
    }
   ],
   "source": [
    "### GRADED\n",
    "\n",
    "baseline_train = ''\n",
    "baseline_test = ''\n",
    "mse_baseline_train = ''\n",
    "mse_baseline_test = ''\n",
    "\n",
    "# YOUR CODE HERE\n",
    "baseline_train = np.ones(shape=y_train.shape)*y_train.mean()\n",
    "baseline_test= np.ones(shape=y_test.shape)*y_test.mean()\n",
    "mse_baseline_train = mean_squared_error(baseline_train, y_train)\n",
    "mse_baseline_test = mean_squared_error(baseline_test, y_test)\n",
    "\n",
    "\n",
    "\n",
    "\n",
    "# Answer check\n",
    "print(baseline_train.shape, baseline_test.shape)\n",
    "print(f'Baseline for training data: {mse_baseline_train}')\n",
    "print(f'Baseline for testing data: {mse_baseline_test}')"
   ]
  },
  {
   "cell_type": "code",
   "execution_count": null,
   "metadata": {
    "deletable": false,
    "editable": false,
    "nbgrader": {
     "cell_type": "code",
     "checksum": "099e98f92bd16a9f797b2bac9f554aca",
     "grade": true,
     "grade_id": "cell-0c151bae31c24964",
     "locked": true,
     "points": 10,
     "schema_version": 3,
     "solution": false,
     "task": false
    }
   },
   "outputs": [],
   "source": []
  },
  {
   "cell_type": "markdown",
   "metadata": {
    "deletable": false,
    "editable": false,
    "nbgrader": {
     "cell_type": "markdown",
     "checksum": "f96a915e859acc97069fabb2fb720e41",
     "grade": false,
     "grade_id": "cell-d2b544b45400b514",
     "locked": true,
     "schema_version": 3,
     "solution": false,
     "task": false
    }
   },
   "source": [
    "[Back to top](#Index:) \n",
    "\n",
    "### Problem 3\n",
    "\n",
    "#### Examining the Correlations\n",
    "\n",
    "**5 Points**\n",
    "\n",
    "What feature has the highest positive correlation with `SalePrice`?  Assign your answer as a string matching the column name exactly to `highest_corr` below.  "
   ]
  },
  {
   "cell_type": "code",
   "execution_count": 27,
   "metadata": {
    "deletable": false,
    "nbgrader": {
     "cell_type": "code",
     "checksum": "551d97b9d48410d48a5e71c9dd59b8a9",
     "grade": false,
     "grade_id": "cell-d7ab063f61943eb1",
     "locked": false,
     "schema_version": 3,
     "solution": true,
     "task": false
    }
   },
   "outputs": [
    {
     "name": "stdout",
     "output_type": "stream",
     "text": [
      "OverallQual\n"
     ]
    }
   ],
   "source": [
    "### GRADED\n",
    "\n",
    "highest_corr = ''\n",
    "\n",
    "# YOUR CODE HERE\n",
    "highest_corr = train.corr()[['SalePrice']].nlargest(n=2,columns=\"SalePrice\").index[1]\n",
    "\n",
    "# Answer check\n",
    "print(highest_corr)"
   ]
  },
  {
   "cell_type": "code",
   "execution_count": null,
   "metadata": {
    "deletable": false,
    "editable": false,
    "nbgrader": {
     "cell_type": "code",
     "checksum": "1c228722ad277af8518f3a6916f79460",
     "grade": true,
     "grade_id": "cell-07959b25bd8108cd",
     "locked": true,
     "points": 5,
     "schema_version": 3,
     "solution": false,
     "task": false
    }
   },
   "outputs": [],
   "source": []
  },
  {
   "cell_type": "markdown",
   "metadata": {
    "deletable": false,
    "editable": false,
    "nbgrader": {
     "cell_type": "markdown",
     "checksum": "d81b1a8081bd477a66928f156c0acdac",
     "grade": false,
     "grade_id": "cell-2b08dc981729b7be",
     "locked": true,
     "schema_version": 3,
     "solution": false,
     "task": false
    }
   },
   "source": [
    "[Back to top](#Index:) \n",
    "\n",
    "### Problem 4\n",
    "\n",
    "#### Simple Model\n",
    "\n",
    "**10 Points**\n",
    "\n",
    "\n",
    "Build a `LinearRegression` model on the training data using only the column `OverallQual`.  Evaluate the mean squared error on both the training and testing data, and assign these to `model_1_train_mse` and `model_1_test_mse` below.    "
   ]
  },
  {
   "cell_type": "code",
   "execution_count": 28,
   "metadata": {
    "deletable": false,
    "nbgrader": {
     "cell_type": "code",
     "checksum": "0cb6915d2cbb144a4a37fa46a0ec092e",
     "grade": false,
     "grade_id": "cell-cec09812a0afd62b",
     "locked": false,
     "schema_version": 3,
     "solution": true,
     "task": false
    }
   },
   "outputs": [
    {
     "name": "stdout",
     "output_type": "stream",
     "text": [
      "Train MSE:  2269766380.95\n",
      "Test MSE:  2578831820.35\n"
     ]
    }
   ],
   "source": [
    "### GRADED\n",
    "\n",
    "model_1_train_mse = ''\n",
    "model_1_test_mse = ''\n",
    "\n",
    "# YOUR CODE HERE\n",
    "X1 = X_train[['OverallQual']]\n",
    "X2 = X_test[['OverallQual']]\n",
    "\n",
    "train_reg_model = LinearRegression()\n",
    "train_reg_model.fit(X1,y_train)\n",
    "\n",
    "\n",
    "model_1_train_mse = mean_squared_error(train_reg_model.predict(X1),y_train)\n",
    "model_1_test_mse = mean_squared_error(train_reg_model.predict(X2), y_test)\n",
    "\n",
    "# Answer check\n",
    "print(f'Train MSE: {model_1_train_mse: .2f}')\n",
    "print(f'Test MSE: {model_1_test_mse: .2f}')"
   ]
  },
  {
   "cell_type": "code",
   "execution_count": null,
   "metadata": {
    "deletable": false,
    "editable": false,
    "nbgrader": {
     "cell_type": "code",
     "checksum": "9d18adde628686c3119bafffb7936b19",
     "grade": true,
     "grade_id": "cell-72952d25b7b4a2b3",
     "locked": true,
     "points": 10,
     "schema_version": 3,
     "solution": false,
     "task": false
    }
   },
   "outputs": [],
   "source": []
  },
  {
   "cell_type": "markdown",
   "metadata": {
    "deletable": false,
    "editable": false,
    "nbgrader": {
     "cell_type": "markdown",
     "checksum": "2b72b467b33921e1f1ec55821f050604",
     "grade": false,
     "grade_id": "cell-ba47d90de87508e1",
     "locked": true,
     "schema_version": 3,
     "solution": false,
     "task": false
    }
   },
   "source": [
    "[Back to top](#Index:) \n",
    "\n",
    "### Problem 5\n",
    "\n",
    "#### Using `OneHotEncoder`\n",
    "\n",
    "**10 Points**\n",
    "\n",
    "Similar to the `pd.get_dummies()` method earlier encountered, scikitlearn has a utility for encoding categorical features in the same way.  Below, the `OneHotEncoder` is demonstrated on the `CentralAir` column.  You are to use these results to build a model where the only feature is the `CentralAir` column.  Note the two arguments are used in the `OneHotEncoder`:\n",
    "\n",
    "- `sparse = False`: returns an array that we can investigate vs with `sparse = True` you are returned a sparse matrix -- a memory saving representation\n",
    "- `drop = if_binary`: returns a single column for any binary categories.  This avoids reduntant features in our regression model.\n",
    "\n",
    "Be sure to assign your fit regression model to `model_2`.  Does this model perform better than the baseline model?  "
   ]
  },
  {
   "cell_type": "code",
   "execution_count": 29,
   "metadata": {},
   "outputs": [],
   "source": [
    "#extract the features\n",
    "central_air_train = X_train[['CentralAir']]\n",
    "central_air_test = X_test[['CentralAir']]"
   ]
  },
  {
   "cell_type": "code",
   "execution_count": 30,
   "metadata": {},
   "outputs": [
    {
     "data": {
      "text/html": [
       "<div>\n",
       "<style scoped>\n",
       "    .dataframe tbody tr th:only-of-type {\n",
       "        vertical-align: middle;\n",
       "    }\n",
       "\n",
       "    .dataframe tbody tr th {\n",
       "        vertical-align: top;\n",
       "    }\n",
       "\n",
       "    .dataframe thead th {\n",
       "        text-align: right;\n",
       "    }\n",
       "</style>\n",
       "<table border=\"1\" class=\"dataframe\">\n",
       "  <thead>\n",
       "    <tr style=\"text-align: right;\">\n",
       "      <th></th>\n",
       "      <th>CentralAir</th>\n",
       "    </tr>\n",
       "  </thead>\n",
       "  <tbody>\n",
       "    <tr>\n",
       "      <th>1079</th>\n",
       "      <td>Y</td>\n",
       "    </tr>\n",
       "    <tr>\n",
       "      <th>601</th>\n",
       "      <td>Y</td>\n",
       "    </tr>\n",
       "    <tr>\n",
       "      <th>1015</th>\n",
       "      <td>Y</td>\n",
       "    </tr>\n",
       "    <tr>\n",
       "      <th>194</th>\n",
       "      <td>Y</td>\n",
       "    </tr>\n",
       "    <tr>\n",
       "      <th>1248</th>\n",
       "      <td>N</td>\n",
       "    </tr>\n",
       "  </tbody>\n",
       "</table>\n",
       "</div>"
      ],
      "text/plain": [
       "     CentralAir\n",
       "1079          Y\n",
       "601           Y\n",
       "1015          Y\n",
       "194           Y\n",
       "1248          N"
      ]
     },
     "execution_count": 30,
     "metadata": {},
     "output_type": "execute_result"
    }
   ],
   "source": [
    "#a categorical feature\n",
    "central_air_train.head()"
   ]
  },
  {
   "cell_type": "code",
   "execution_count": 31,
   "metadata": {},
   "outputs": [
    {
     "name": "stdout",
     "output_type": "stream",
     "text": [
      "[[1.]\n",
      " [1.]\n",
      " [1.]\n",
      " [1.]\n",
      " [0.]]\n"
     ]
    }
   ],
   "source": [
    "#Instantiate a OHE object\n",
    "#sparse = False returns an array so we can view\n",
    "ohe = OneHotEncoder(sparse = False, drop='if_binary')\n",
    "print(ohe.fit_transform(central_air_train)[:5])"
   ]
  },
  {
   "cell_type": "code",
   "execution_count": 32,
   "metadata": {},
   "outputs": [],
   "source": [
    "model_2_train = ohe.fit_transform(central_air_train)\n",
    "model_2_test = ohe.transform(central_air_test)"
   ]
  },
  {
   "cell_type": "code",
   "execution_count": 33,
   "metadata": {
    "deletable": false,
    "nbgrader": {
     "cell_type": "code",
     "checksum": "8d600e8d5489b9bf6659e1265129a238",
     "grade": false,
     "grade_id": "cell-190debe81fbe71c7",
     "locked": false,
     "schema_version": 3,
     "solution": true,
     "task": false
    }
   },
   "outputs": [
    {
     "name": "stdout",
     "output_type": "stream",
     "text": [
      "[84484.53030402]\n"
     ]
    }
   ],
   "source": [
    "### GRADED\n",
    "\n",
    "model_2 = ''\n",
    "\n",
    "# YOUR CODE HERE\n",
    "model_2 = LinearRegression().fit(model_2_train, y_train)\n",
    "# Answer check\n",
    "print(model_2.coef_)"
   ]
  },
  {
   "cell_type": "code",
   "execution_count": null,
   "metadata": {
    "deletable": false,
    "editable": false,
    "nbgrader": {
     "cell_type": "code",
     "checksum": "f7f7c7281a3826514761724415a4f444",
     "grade": true,
     "grade_id": "cell-955f970b62157422",
     "locked": true,
     "points": 10,
     "schema_version": 3,
     "solution": false,
     "task": false
    }
   },
   "outputs": [],
   "source": []
  },
  {
   "cell_type": "markdown",
   "metadata": {
    "deletable": false,
    "editable": false,
    "nbgrader": {
     "cell_type": "markdown",
     "checksum": "05bf993ef3fe787a8e15d0e120fcc012",
     "grade": false,
     "grade_id": "cell-18a9cb5b0c662a92",
     "locked": true,
     "schema_version": 3,
     "solution": false,
     "task": false
    }
   },
   "source": [
    "[Back to top](#Index:) \n",
    "\n",
    "### Problem 6\n",
    "\n",
    "#### Using `make_column_transformer`\n",
    "\n",
    "**10 Points**\n",
    "\n",
    "\n",
    "To build a model using both the `OverallQual` column and the `CentralAir` column, you could use the `OneHotEncoder` to transform `CentralAir`, and then concatenate the results back into a DataFrame or numpy array.  To streamline this process, the `make_column_transformer` can be used to seperate specific columns for certain transformations.  Below, a `make_column_transformer` has been created for you to do just this.  \n",
    "\n",
    "\n",
    "The arguments are tuples of the form `(transformer, columns)` that specify a transformation to perform on the given column.  Further, the `remainder = passthrough` argument says to just pass the other columns through.  You are returned a numpy array with the `CentralAir` column binarized and concatenated to the `OverallQual` feature.\n",
    "\n",
    "\n",
    "For an example using the `make_column_transformer` see [here](https://scikit-learn.org/stable/auto_examples/compose/plot_column_transformer_mixed_types.html#sphx-glr-auto-examples-compose-plot-column-transformer-mixed-types-py).\n"
   ]
  },
  {
   "cell_type": "code",
   "execution_count": 34,
   "metadata": {},
   "outputs": [],
   "source": [
    "col_transformer = make_column_transformer((OneHotEncoder(drop = 'if_binary'), ['CentralAir']), \n",
    "                                          remainder='passthrough')"
   ]
  },
  {
   "cell_type": "code",
   "execution_count": 35,
   "metadata": {},
   "outputs": [
    {
     "data": {
      "text/plain": [
       "array([[1., 5.],\n",
       "       [1., 6.],\n",
       "       [1., 8.],\n",
       "       ...,\n",
       "       [0., 5.],\n",
       "       [1., 5.],\n",
       "       [1., 9.]])"
      ]
     },
     "execution_count": 35,
     "metadata": {},
     "output_type": "execute_result"
    }
   ],
   "source": [
    "col_transformer.fit_transform(X_train[['OverallQual', 'CentralAir']])"
   ]
  },
  {
   "cell_type": "markdown",
   "metadata": {
    "deletable": false,
    "editable": false,
    "nbgrader": {
     "cell_type": "markdown",
     "checksum": "19144c16ad1ee05a9a7b60dfcc0b901c",
     "grade": false,
     "grade_id": "cell-96e912368e23f0e1",
     "locked": true,
     "schema_version": 3,
     "solution": false,
     "task": false
    }
   },
   "source": [
    "Now, you can treat the `col_transformer` as a transformer object and insert it as a step in a `Pipeline`.  Below, create a `Pipeline` with the `col_transformer` as the first step, followed by `LinearRegression` estimator as `pipe_1` below.  Fit and score the pipeline on the columns `['OverallQual', 'CentralAir']`.  Does this model perform better than the baseline? \n",
    "\n",
    "- Reminder that steps in a `Pipeline` are tuples with names and objects.  You should name the transformer `col_transformer` and estimator `linreg`.  "
   ]
  },
  {
   "cell_type": "code",
   "execution_count": 37,
   "metadata": {
    "deletable": false,
    "nbgrader": {
     "cell_type": "code",
     "checksum": "f90b7941f14c7596e8a73fc22ce30913",
     "grade": false,
     "grade_id": "cell-2129005f7b1c0a66",
     "locked": false,
     "schema_version": 3,
     "solution": true,
     "task": false
    }
   },
   "outputs": [
    {
     "name": "stdout",
     "output_type": "stream",
     "text": [
      "{'col_transformer': ColumnTransformer(remainder='passthrough',\n",
      "                  transformers=[('onehotencoder',\n",
      "                                 OneHotEncoder(drop='if_binary'),\n",
      "                                 ['CentralAir'])]), 'linreg': LinearRegression()}\n"
     ]
    },
    {
     "data": {
      "text/html": [
       "<style>#sk-9ed93369-ad0a-4af7-af93-cc0d51356a9b {color: black;background-color: white;}#sk-9ed93369-ad0a-4af7-af93-cc0d51356a9b pre{padding: 0;}#sk-9ed93369-ad0a-4af7-af93-cc0d51356a9b div.sk-toggleable {background-color: white;}#sk-9ed93369-ad0a-4af7-af93-cc0d51356a9b label.sk-toggleable__label {cursor: pointer;display: block;width: 100%;margin-bottom: 0;padding: 0.3em;box-sizing: border-box;text-align: center;}#sk-9ed93369-ad0a-4af7-af93-cc0d51356a9b label.sk-toggleable__label-arrow:before {content: \"▸\";float: left;margin-right: 0.25em;color: #696969;}#sk-9ed93369-ad0a-4af7-af93-cc0d51356a9b label.sk-toggleable__label-arrow:hover:before {color: black;}#sk-9ed93369-ad0a-4af7-af93-cc0d51356a9b div.sk-estimator:hover label.sk-toggleable__label-arrow:before {color: black;}#sk-9ed93369-ad0a-4af7-af93-cc0d51356a9b div.sk-toggleable__content {max-height: 0;max-width: 0;overflow: hidden;text-align: left;background-color: #f0f8ff;}#sk-9ed93369-ad0a-4af7-af93-cc0d51356a9b div.sk-toggleable__content pre {margin: 0.2em;color: black;border-radius: 0.25em;background-color: #f0f8ff;}#sk-9ed93369-ad0a-4af7-af93-cc0d51356a9b input.sk-toggleable__control:checked~div.sk-toggleable__content {max-height: 200px;max-width: 100%;overflow: auto;}#sk-9ed93369-ad0a-4af7-af93-cc0d51356a9b input.sk-toggleable__control:checked~label.sk-toggleable__label-arrow:before {content: \"▾\";}#sk-9ed93369-ad0a-4af7-af93-cc0d51356a9b div.sk-estimator input.sk-toggleable__control:checked~label.sk-toggleable__label {background-color: #d4ebff;}#sk-9ed93369-ad0a-4af7-af93-cc0d51356a9b div.sk-label input.sk-toggleable__control:checked~label.sk-toggleable__label {background-color: #d4ebff;}#sk-9ed93369-ad0a-4af7-af93-cc0d51356a9b input.sk-hidden--visually {border: 0;clip: rect(1px 1px 1px 1px);clip: rect(1px, 1px, 1px, 1px);height: 1px;margin: -1px;overflow: hidden;padding: 0;position: absolute;width: 1px;}#sk-9ed93369-ad0a-4af7-af93-cc0d51356a9b div.sk-estimator {font-family: monospace;background-color: #f0f8ff;border: 1px dotted black;border-radius: 0.25em;box-sizing: border-box;margin-bottom: 0.5em;}#sk-9ed93369-ad0a-4af7-af93-cc0d51356a9b div.sk-estimator:hover {background-color: #d4ebff;}#sk-9ed93369-ad0a-4af7-af93-cc0d51356a9b div.sk-parallel-item::after {content: \"\";width: 100%;border-bottom: 1px solid gray;flex-grow: 1;}#sk-9ed93369-ad0a-4af7-af93-cc0d51356a9b div.sk-label:hover label.sk-toggleable__label {background-color: #d4ebff;}#sk-9ed93369-ad0a-4af7-af93-cc0d51356a9b div.sk-serial::before {content: \"\";position: absolute;border-left: 1px solid gray;box-sizing: border-box;top: 2em;bottom: 0;left: 50%;}#sk-9ed93369-ad0a-4af7-af93-cc0d51356a9b div.sk-serial {display: flex;flex-direction: column;align-items: center;background-color: white;padding-right: 0.2em;padding-left: 0.2em;}#sk-9ed93369-ad0a-4af7-af93-cc0d51356a9b div.sk-item {z-index: 1;}#sk-9ed93369-ad0a-4af7-af93-cc0d51356a9b div.sk-parallel {display: flex;align-items: stretch;justify-content: center;background-color: white;}#sk-9ed93369-ad0a-4af7-af93-cc0d51356a9b div.sk-parallel::before {content: \"\";position: absolute;border-left: 1px solid gray;box-sizing: border-box;top: 2em;bottom: 0;left: 50%;}#sk-9ed93369-ad0a-4af7-af93-cc0d51356a9b div.sk-parallel-item {display: flex;flex-direction: column;position: relative;background-color: white;}#sk-9ed93369-ad0a-4af7-af93-cc0d51356a9b div.sk-parallel-item:first-child::after {align-self: flex-end;width: 50%;}#sk-9ed93369-ad0a-4af7-af93-cc0d51356a9b div.sk-parallel-item:last-child::after {align-self: flex-start;width: 50%;}#sk-9ed93369-ad0a-4af7-af93-cc0d51356a9b div.sk-parallel-item:only-child::after {width: 0;}#sk-9ed93369-ad0a-4af7-af93-cc0d51356a9b div.sk-dashed-wrapped {border: 1px dashed gray;margin: 0 0.4em 0.5em 0.4em;box-sizing: border-box;padding-bottom: 0.4em;background-color: white;position: relative;}#sk-9ed93369-ad0a-4af7-af93-cc0d51356a9b div.sk-label label {font-family: monospace;font-weight: bold;background-color: white;display: inline-block;line-height: 1.2em;}#sk-9ed93369-ad0a-4af7-af93-cc0d51356a9b div.sk-label-container {position: relative;z-index: 2;text-align: center;}#sk-9ed93369-ad0a-4af7-af93-cc0d51356a9b div.sk-container {/* jupyter's `normalize.less` sets `[hidden] { display: none; }` but bootstrap.min.css set `[hidden] { display: none !important; }` so we also need the `!important` here to be able to override the default hidden behavior on the sphinx rendered scikit-learn.org. See: https://github.com/scikit-learn/scikit-learn/issues/21755 */display: inline-block !important;position: relative;}#sk-9ed93369-ad0a-4af7-af93-cc0d51356a9b div.sk-text-repr-fallback {display: none;}</style><div id=\"sk-9ed93369-ad0a-4af7-af93-cc0d51356a9b\" class=\"sk-top-container\"><div class=\"sk-text-repr-fallback\"><pre>Pipeline(steps=[(&#x27;col_transformer&#x27;,\n",
       "                 ColumnTransformer(remainder=&#x27;passthrough&#x27;,\n",
       "                                   transformers=[(&#x27;onehotencoder&#x27;,\n",
       "                                                  OneHotEncoder(drop=&#x27;if_binary&#x27;),\n",
       "                                                  [&#x27;CentralAir&#x27;])])),\n",
       "                (&#x27;linreg&#x27;, LinearRegression())])</pre><b>Please rerun this cell to show the HTML repr or trust the notebook.</b></div><div class=\"sk-container\" hidden><div class=\"sk-item sk-dashed-wrapped\"><div class=\"sk-label-container\"><div class=\"sk-label sk-toggleable\"><input class=\"sk-toggleable__control sk-hidden--visually\" id=\"56a4c112-7b61-4515-b61f-28e3a2da8ec8\" type=\"checkbox\" ><label for=\"56a4c112-7b61-4515-b61f-28e3a2da8ec8\" class=\"sk-toggleable__label sk-toggleable__label-arrow\">Pipeline</label><div class=\"sk-toggleable__content\"><pre>Pipeline(steps=[(&#x27;col_transformer&#x27;,\n",
       "                 ColumnTransformer(remainder=&#x27;passthrough&#x27;,\n",
       "                                   transformers=[(&#x27;onehotencoder&#x27;,\n",
       "                                                  OneHotEncoder(drop=&#x27;if_binary&#x27;),\n",
       "                                                  [&#x27;CentralAir&#x27;])])),\n",
       "                (&#x27;linreg&#x27;, LinearRegression())])</pre></div></div></div><div class=\"sk-serial\"><div class=\"sk-item sk-dashed-wrapped\"><div class=\"sk-label-container\"><div class=\"sk-label sk-toggleable\"><input class=\"sk-toggleable__control sk-hidden--visually\" id=\"501ca16e-cdff-4507-99ab-2933727de148\" type=\"checkbox\" ><label for=\"501ca16e-cdff-4507-99ab-2933727de148\" class=\"sk-toggleable__label sk-toggleable__label-arrow\">col_transformer: ColumnTransformer</label><div class=\"sk-toggleable__content\"><pre>ColumnTransformer(remainder=&#x27;passthrough&#x27;,\n",
       "                  transformers=[(&#x27;onehotencoder&#x27;,\n",
       "                                 OneHotEncoder(drop=&#x27;if_binary&#x27;),\n",
       "                                 [&#x27;CentralAir&#x27;])])</pre></div></div></div><div class=\"sk-parallel\"><div class=\"sk-parallel-item\"><div class=\"sk-item\"><div class=\"sk-label-container\"><div class=\"sk-label sk-toggleable\"><input class=\"sk-toggleable__control sk-hidden--visually\" id=\"57441597-3fee-4987-b5e5-59b28afeb161\" type=\"checkbox\" ><label for=\"57441597-3fee-4987-b5e5-59b28afeb161\" class=\"sk-toggleable__label sk-toggleable__label-arrow\">onehotencoder</label><div class=\"sk-toggleable__content\"><pre>[&#x27;CentralAir&#x27;]</pre></div></div></div><div class=\"sk-serial\"><div class=\"sk-item\"><div class=\"sk-estimator sk-toggleable\"><input class=\"sk-toggleable__control sk-hidden--visually\" id=\"49673587-c00a-4efc-b44a-5a27c59c7fca\" type=\"checkbox\" ><label for=\"49673587-c00a-4efc-b44a-5a27c59c7fca\" class=\"sk-toggleable__label sk-toggleable__label-arrow\">OneHotEncoder</label><div class=\"sk-toggleable__content\"><pre>OneHotEncoder(drop=&#x27;if_binary&#x27;)</pre></div></div></div></div></div></div><div class=\"sk-parallel-item\"><div class=\"sk-item\"><div class=\"sk-label-container\"><div class=\"sk-label sk-toggleable\"><input class=\"sk-toggleable__control sk-hidden--visually\" id=\"7dd43925-4227-447a-b78a-1b4790b759ab\" type=\"checkbox\" ><label for=\"7dd43925-4227-447a-b78a-1b4790b759ab\" class=\"sk-toggleable__label sk-toggleable__label-arrow\">remainder</label><div class=\"sk-toggleable__content\"><pre>[&#x27;OverallQual&#x27;]</pre></div></div></div><div class=\"sk-serial\"><div class=\"sk-item\"><div class=\"sk-estimator sk-toggleable\"><input class=\"sk-toggleable__control sk-hidden--visually\" id=\"75bc972a-3530-4b9a-850e-c03b7ff7600c\" type=\"checkbox\" ><label for=\"75bc972a-3530-4b9a-850e-c03b7ff7600c\" class=\"sk-toggleable__label sk-toggleable__label-arrow\">passthrough</label><div class=\"sk-toggleable__content\"><pre>passthrough</pre></div></div></div></div></div></div></div></div><div class=\"sk-item\"><div class=\"sk-estimator sk-toggleable\"><input class=\"sk-toggleable__control sk-hidden--visually\" id=\"8b214520-b2c2-4d93-878d-3063b5929e3d\" type=\"checkbox\" ><label for=\"8b214520-b2c2-4d93-878d-3063b5929e3d\" class=\"sk-toggleable__label sk-toggleable__label-arrow\">LinearRegression</label><div class=\"sk-toggleable__content\"><pre>LinearRegression()</pre></div></div></div></div></div></div></div>"
      ],
      "text/plain": [
       "Pipeline(steps=[('col_transformer',\n",
       "                 ColumnTransformer(remainder='passthrough',\n",
       "                                   transformers=[('onehotencoder',\n",
       "                                                  OneHotEncoder(drop='if_binary'),\n",
       "                                                  ['CentralAir'])])),\n",
       "                ('linreg', LinearRegression())])"
      ]
     },
     "execution_count": 37,
     "metadata": {},
     "output_type": "execute_result"
    }
   ],
   "source": [
    "### GRADED\n",
    "\n",
    "pipe_1 = ''\n",
    "\n",
    "# YOUR CODE HERE\n",
    "pipe_1 = Pipeline([\n",
    "    ('col_transformer' , col_transformer),\n",
    "    ('linreg' , LinearRegression())\n",
    "    ])\n",
    "pipe_1.fit(X_train[['OverallQual','CentralAir']],y_train)\n",
    "# Answer check\n",
    "print(pipe_1.named_steps)#col_transformer and linreg should be keys\n",
    "pipe_1"
   ]
  },
  {
   "cell_type": "code",
   "execution_count": null,
   "metadata": {
    "deletable": false,
    "editable": false,
    "nbgrader": {
     "cell_type": "code",
     "checksum": "e6aa56507a4f746e3440650a31f1bd53",
     "grade": true,
     "grade_id": "cell-74d1d7d1898fc73c",
     "locked": true,
     "points": 10,
     "schema_version": 3,
     "solution": false,
     "task": false
    }
   },
   "outputs": [],
   "source": []
  },
  {
   "cell_type": "markdown",
   "metadata": {
    "deletable": false,
    "editable": false,
    "nbgrader": {
     "cell_type": "markdown",
     "checksum": "dc2ded60e5fe5ac45628045dc5c0d6bd",
     "grade": false,
     "grade_id": "cell-28a3a3221b800c5f",
     "locked": true,
     "schema_version": 3,
     "solution": false,
     "task": false
    }
   },
   "source": [
    "[Back to top](#Index:) \n",
    "\n",
    "### Problem 7\n",
    "\n",
    "#### Using `OrdinalEncoder`\n",
    "\n",
    "**10 Points**\n",
    "\n",
    "Not all columns warrant binarization as done on the `CentralAir` column.  For example, consider the `HeatingQC` feature -- representing the quality of the heating in the house.  From the data description the unique values are described as:\n",
    "\n",
    "```\n",
    "HeatingQC: Heating quality and condition\n",
    "\n",
    "       Ex\tExcellent\n",
    "       Gd\tGood\n",
    "       TA\tAverage/Typical\n",
    "       Fa\tFair\n",
    "       Po\tPoor\n",
    "```"
   ]
  },
  {
   "cell_type": "markdown",
   "metadata": {
    "deletable": false,
    "editable": false,
    "nbgrader": {
     "cell_type": "markdown",
     "checksum": "1cb8ca5eaad6420766bc1c8467b94098",
     "grade": false,
     "grade_id": "cell-49cb3865102cab23",
     "locked": true,
     "schema_version": 3,
     "solution": false,
     "task": false
    }
   },
   "source": [
    "These are ordered values, and rather than binarizing them a numeric value representing the scale can be used.  For example, using a scale of 0 - 4 you may associate the categories with an order in a list from least to greatest as:\n",
    "\n",
    "```\n",
    "['Po', 'Fa', 'TA', 'Gd', 'Ex']\n",
    "```\n",
    "\n",
    "Creating an `OrdinalEncoder` with these categories will transform the `HeatingQC` feature mapping each category as\n",
    "\n",
    "```\n",
    "Po: 0\n",
    "Fa: 1\n",
    "TA: 2\n",
    "Gd: 3\n",
    "Ex: 4\n",
    "```\n",
    "\n",
    "This is demonstrated below, and in a similar manner the use of the `make_column_transformer` is shown using the three columns `['OverallQual', 'CentralAir', 'HeatingQC']`, applying the appropriate transformations to each column and passing the remaining numeric feature through.  "
   ]
  },
  {
   "cell_type": "code",
   "execution_count": 38,
   "metadata": {},
   "outputs": [],
   "source": [
    "oe = OrdinalEncoder(categories = [['Po', 'Fa', 'TA', 'Gd', 'Ex']])"
   ]
  },
  {
   "cell_type": "code",
   "execution_count": 39,
   "metadata": {},
   "outputs": [
    {
     "data": {
      "text/plain": [
       "array([[3.],\n",
       "       [2.],\n",
       "       [4.],\n",
       "       ...,\n",
       "       [2.],\n",
       "       [3.],\n",
       "       [4.]])"
      ]
     },
     "execution_count": 39,
     "metadata": {},
     "output_type": "execute_result"
    }
   ],
   "source": [
    "oe.fit_transform(X_train[['HeatingQC']])"
   ]
  },
  {
   "cell_type": "code",
   "execution_count": 40,
   "metadata": {},
   "outputs": [
    {
     "data": {
      "text/plain": [
       "1079    Gd\n",
       "601     TA\n",
       "1015    Ex\n",
       "194     TA\n",
       "1248    Fa\n",
       "Name: HeatingQC, dtype: object"
      ]
     },
     "execution_count": 40,
     "metadata": {},
     "output_type": "execute_result"
    }
   ],
   "source": [
    "X_train['HeatingQC'].head()"
   ]
  },
  {
   "cell_type": "code",
   "execution_count": 43,
   "metadata": {},
   "outputs": [],
   "source": [
    "ordinal_ohe_transformer = make_column_transformer((OneHotEncoder(drop = 'if_binary'), ['CentralAir']),\n",
    "                                          (OrdinalEncoder(categories = [['Po', 'Fa', 'TA', 'Gd', 'Ex']]), ['HeatingQC']),\n",
    "                                          remainder='passthrough')"
   ]
  },
  {
   "cell_type": "code",
   "execution_count": 44,
   "metadata": {},
   "outputs": [
    {
     "data": {
      "text/plain": [
       "array([[1., 3., 5.],\n",
       "       [1., 2., 6.],\n",
       "       [1., 4., 8.],\n",
       "       [1., 2., 5.],\n",
       "       [0., 1., 6.]])"
      ]
     },
     "execution_count": 44,
     "metadata": {},
     "output_type": "execute_result"
    }
   ],
   "source": [
    "ordinal_ohe_transformer.fit_transform(X_train[['OverallQual', 'CentralAir', 'HeatingQC']])[:5]"
   ]
  },
  {
   "cell_type": "code",
   "execution_count": 45,
   "metadata": {},
   "outputs": [
    {
     "data": {
      "text/html": [
       "<div>\n",
       "<style scoped>\n",
       "    .dataframe tbody tr th:only-of-type {\n",
       "        vertical-align: middle;\n",
       "    }\n",
       "\n",
       "    .dataframe tbody tr th {\n",
       "        vertical-align: top;\n",
       "    }\n",
       "\n",
       "    .dataframe thead th {\n",
       "        text-align: right;\n",
       "    }\n",
       "</style>\n",
       "<table border=\"1\" class=\"dataframe\">\n",
       "  <thead>\n",
       "    <tr style=\"text-align: right;\">\n",
       "      <th></th>\n",
       "      <th>OverallQual</th>\n",
       "      <th>CentralAir</th>\n",
       "      <th>HeatingQC</th>\n",
       "    </tr>\n",
       "  </thead>\n",
       "  <tbody>\n",
       "    <tr>\n",
       "      <th>1079</th>\n",
       "      <td>5</td>\n",
       "      <td>Y</td>\n",
       "      <td>Gd</td>\n",
       "    </tr>\n",
       "    <tr>\n",
       "      <th>601</th>\n",
       "      <td>6</td>\n",
       "      <td>Y</td>\n",
       "      <td>TA</td>\n",
       "    </tr>\n",
       "    <tr>\n",
       "      <th>1015</th>\n",
       "      <td>8</td>\n",
       "      <td>Y</td>\n",
       "      <td>Ex</td>\n",
       "    </tr>\n",
       "    <tr>\n",
       "      <th>194</th>\n",
       "      <td>5</td>\n",
       "      <td>Y</td>\n",
       "      <td>TA</td>\n",
       "    </tr>\n",
       "    <tr>\n",
       "      <th>1248</th>\n",
       "      <td>6</td>\n",
       "      <td>N</td>\n",
       "      <td>Fa</td>\n",
       "    </tr>\n",
       "  </tbody>\n",
       "</table>\n",
       "</div>"
      ],
      "text/plain": [
       "      OverallQual CentralAir HeatingQC\n",
       "1079            5          Y        Gd\n",
       "601             6          Y        TA\n",
       "1015            8          Y        Ex\n",
       "194             5          Y        TA\n",
       "1248            6          N        Fa"
      ]
     },
     "execution_count": 45,
     "metadata": {},
     "output_type": "execute_result"
    }
   ],
   "source": [
    "X_train[['OverallQual', 'CentralAir', 'HeatingQC']].head()"
   ]
  },
  {
   "cell_type": "markdown",
   "metadata": {
    "deletable": false,
    "editable": false,
    "nbgrader": {
     "cell_type": "markdown",
     "checksum": "ae86d08601fe37f8dcb45fe42106e850",
     "grade": false,
     "grade_id": "cell-76851882f343f51e",
     "locked": true,
     "schema_version": 3,
     "solution": false,
     "task": false
    }
   },
   "source": [
    "You are to build a pipeline incorporating this new transformer and with steps named `transformer` and `linreg`.  Fit and evaluate the model on the training and test set using mean squared error.  Is this model better than the baseline? \n",
    "\n",
    "Assign your pipeline to `pipe_2` below and mean squared errors to `pipe_2_train_mse` and `pipe_2_test_mse` as floats below. "
   ]
  },
  {
   "cell_type": "code",
   "execution_count": 46,
   "metadata": {
    "deletable": false,
    "nbgrader": {
     "cell_type": "code",
     "checksum": "51df36c95a3d9bf97b3b7f57f60cb507",
     "grade": false,
     "grade_id": "cell-e902a6f9f27546fd",
     "locked": false,
     "schema_version": 3,
     "solution": true,
     "task": false
    }
   },
   "outputs": [
    {
     "name": "stdout",
     "output_type": "stream",
     "text": [
      "{'transformer': ColumnTransformer(remainder='passthrough',\n",
      "                  transformers=[('onehotencoder',\n",
      "                                 OneHotEncoder(drop='if_binary'),\n",
      "                                 ['CentralAir']),\n",
      "                                ('ordinalencoder',\n",
      "                                 OrdinalEncoder(categories=[['Po', 'Fa', 'TA',\n",
      "                                                             'Gd', 'Ex']]),\n",
      "                                 ['HeatingQC'])]), 'linreg': LinearRegression()}\n",
      "Train MSE:  2211416025.54\n",
      "Test MSE:  2597701543.40\n"
     ]
    },
    {
     "data": {
      "text/html": [
       "<style>#sk-bc1c973b-860c-4a6b-a28f-b96f5d476c49 {color: black;background-color: white;}#sk-bc1c973b-860c-4a6b-a28f-b96f5d476c49 pre{padding: 0;}#sk-bc1c973b-860c-4a6b-a28f-b96f5d476c49 div.sk-toggleable {background-color: white;}#sk-bc1c973b-860c-4a6b-a28f-b96f5d476c49 label.sk-toggleable__label {cursor: pointer;display: block;width: 100%;margin-bottom: 0;padding: 0.3em;box-sizing: border-box;text-align: center;}#sk-bc1c973b-860c-4a6b-a28f-b96f5d476c49 label.sk-toggleable__label-arrow:before {content: \"▸\";float: left;margin-right: 0.25em;color: #696969;}#sk-bc1c973b-860c-4a6b-a28f-b96f5d476c49 label.sk-toggleable__label-arrow:hover:before {color: black;}#sk-bc1c973b-860c-4a6b-a28f-b96f5d476c49 div.sk-estimator:hover label.sk-toggleable__label-arrow:before {color: black;}#sk-bc1c973b-860c-4a6b-a28f-b96f5d476c49 div.sk-toggleable__content {max-height: 0;max-width: 0;overflow: hidden;text-align: left;background-color: #f0f8ff;}#sk-bc1c973b-860c-4a6b-a28f-b96f5d476c49 div.sk-toggleable__content pre {margin: 0.2em;color: black;border-radius: 0.25em;background-color: #f0f8ff;}#sk-bc1c973b-860c-4a6b-a28f-b96f5d476c49 input.sk-toggleable__control:checked~div.sk-toggleable__content {max-height: 200px;max-width: 100%;overflow: auto;}#sk-bc1c973b-860c-4a6b-a28f-b96f5d476c49 input.sk-toggleable__control:checked~label.sk-toggleable__label-arrow:before {content: \"▾\";}#sk-bc1c973b-860c-4a6b-a28f-b96f5d476c49 div.sk-estimator input.sk-toggleable__control:checked~label.sk-toggleable__label {background-color: #d4ebff;}#sk-bc1c973b-860c-4a6b-a28f-b96f5d476c49 div.sk-label input.sk-toggleable__control:checked~label.sk-toggleable__label {background-color: #d4ebff;}#sk-bc1c973b-860c-4a6b-a28f-b96f5d476c49 input.sk-hidden--visually {border: 0;clip: rect(1px 1px 1px 1px);clip: rect(1px, 1px, 1px, 1px);height: 1px;margin: -1px;overflow: hidden;padding: 0;position: absolute;width: 1px;}#sk-bc1c973b-860c-4a6b-a28f-b96f5d476c49 div.sk-estimator {font-family: monospace;background-color: #f0f8ff;border: 1px dotted black;border-radius: 0.25em;box-sizing: border-box;margin-bottom: 0.5em;}#sk-bc1c973b-860c-4a6b-a28f-b96f5d476c49 div.sk-estimator:hover {background-color: #d4ebff;}#sk-bc1c973b-860c-4a6b-a28f-b96f5d476c49 div.sk-parallel-item::after {content: \"\";width: 100%;border-bottom: 1px solid gray;flex-grow: 1;}#sk-bc1c973b-860c-4a6b-a28f-b96f5d476c49 div.sk-label:hover label.sk-toggleable__label {background-color: #d4ebff;}#sk-bc1c973b-860c-4a6b-a28f-b96f5d476c49 div.sk-serial::before {content: \"\";position: absolute;border-left: 1px solid gray;box-sizing: border-box;top: 2em;bottom: 0;left: 50%;}#sk-bc1c973b-860c-4a6b-a28f-b96f5d476c49 div.sk-serial {display: flex;flex-direction: column;align-items: center;background-color: white;padding-right: 0.2em;padding-left: 0.2em;}#sk-bc1c973b-860c-4a6b-a28f-b96f5d476c49 div.sk-item {z-index: 1;}#sk-bc1c973b-860c-4a6b-a28f-b96f5d476c49 div.sk-parallel {display: flex;align-items: stretch;justify-content: center;background-color: white;}#sk-bc1c973b-860c-4a6b-a28f-b96f5d476c49 div.sk-parallel::before {content: \"\";position: absolute;border-left: 1px solid gray;box-sizing: border-box;top: 2em;bottom: 0;left: 50%;}#sk-bc1c973b-860c-4a6b-a28f-b96f5d476c49 div.sk-parallel-item {display: flex;flex-direction: column;position: relative;background-color: white;}#sk-bc1c973b-860c-4a6b-a28f-b96f5d476c49 div.sk-parallel-item:first-child::after {align-self: flex-end;width: 50%;}#sk-bc1c973b-860c-4a6b-a28f-b96f5d476c49 div.sk-parallel-item:last-child::after {align-self: flex-start;width: 50%;}#sk-bc1c973b-860c-4a6b-a28f-b96f5d476c49 div.sk-parallel-item:only-child::after {width: 0;}#sk-bc1c973b-860c-4a6b-a28f-b96f5d476c49 div.sk-dashed-wrapped {border: 1px dashed gray;margin: 0 0.4em 0.5em 0.4em;box-sizing: border-box;padding-bottom: 0.4em;background-color: white;position: relative;}#sk-bc1c973b-860c-4a6b-a28f-b96f5d476c49 div.sk-label label {font-family: monospace;font-weight: bold;background-color: white;display: inline-block;line-height: 1.2em;}#sk-bc1c973b-860c-4a6b-a28f-b96f5d476c49 div.sk-label-container {position: relative;z-index: 2;text-align: center;}#sk-bc1c973b-860c-4a6b-a28f-b96f5d476c49 div.sk-container {/* jupyter's `normalize.less` sets `[hidden] { display: none; }` but bootstrap.min.css set `[hidden] { display: none !important; }` so we also need the `!important` here to be able to override the default hidden behavior on the sphinx rendered scikit-learn.org. See: https://github.com/scikit-learn/scikit-learn/issues/21755 */display: inline-block !important;position: relative;}#sk-bc1c973b-860c-4a6b-a28f-b96f5d476c49 div.sk-text-repr-fallback {display: none;}</style><div id=\"sk-bc1c973b-860c-4a6b-a28f-b96f5d476c49\" class=\"sk-top-container\"><div class=\"sk-text-repr-fallback\"><pre>Pipeline(steps=[(&#x27;transformer&#x27;,\n",
       "                 ColumnTransformer(remainder=&#x27;passthrough&#x27;,\n",
       "                                   transformers=[(&#x27;onehotencoder&#x27;,\n",
       "                                                  OneHotEncoder(drop=&#x27;if_binary&#x27;),\n",
       "                                                  [&#x27;CentralAir&#x27;]),\n",
       "                                                 (&#x27;ordinalencoder&#x27;,\n",
       "                                                  OrdinalEncoder(categories=[[&#x27;Po&#x27;,\n",
       "                                                                              &#x27;Fa&#x27;,\n",
       "                                                                              &#x27;TA&#x27;,\n",
       "                                                                              &#x27;Gd&#x27;,\n",
       "                                                                              &#x27;Ex&#x27;]]),\n",
       "                                                  [&#x27;HeatingQC&#x27;])])),\n",
       "                (&#x27;linreg&#x27;, LinearRegression())])</pre><b>Please rerun this cell to show the HTML repr or trust the notebook.</b></div><div class=\"sk-container\" hidden><div class=\"sk-item sk-dashed-wrapped\"><div class=\"sk-label-container\"><div class=\"sk-label sk-toggleable\"><input class=\"sk-toggleable__control sk-hidden--visually\" id=\"f4ef64e1-dcff-42da-afa3-a43c1d6f6994\" type=\"checkbox\" ><label for=\"f4ef64e1-dcff-42da-afa3-a43c1d6f6994\" class=\"sk-toggleable__label sk-toggleable__label-arrow\">Pipeline</label><div class=\"sk-toggleable__content\"><pre>Pipeline(steps=[(&#x27;transformer&#x27;,\n",
       "                 ColumnTransformer(remainder=&#x27;passthrough&#x27;,\n",
       "                                   transformers=[(&#x27;onehotencoder&#x27;,\n",
       "                                                  OneHotEncoder(drop=&#x27;if_binary&#x27;),\n",
       "                                                  [&#x27;CentralAir&#x27;]),\n",
       "                                                 (&#x27;ordinalencoder&#x27;,\n",
       "                                                  OrdinalEncoder(categories=[[&#x27;Po&#x27;,\n",
       "                                                                              &#x27;Fa&#x27;,\n",
       "                                                                              &#x27;TA&#x27;,\n",
       "                                                                              &#x27;Gd&#x27;,\n",
       "                                                                              &#x27;Ex&#x27;]]),\n",
       "                                                  [&#x27;HeatingQC&#x27;])])),\n",
       "                (&#x27;linreg&#x27;, LinearRegression())])</pre></div></div></div><div class=\"sk-serial\"><div class=\"sk-item sk-dashed-wrapped\"><div class=\"sk-label-container\"><div class=\"sk-label sk-toggleable\"><input class=\"sk-toggleable__control sk-hidden--visually\" id=\"0c15c009-57c4-4480-a7b8-693fd980730b\" type=\"checkbox\" ><label for=\"0c15c009-57c4-4480-a7b8-693fd980730b\" class=\"sk-toggleable__label sk-toggleable__label-arrow\">transformer: ColumnTransformer</label><div class=\"sk-toggleable__content\"><pre>ColumnTransformer(remainder=&#x27;passthrough&#x27;,\n",
       "                  transformers=[(&#x27;onehotencoder&#x27;,\n",
       "                                 OneHotEncoder(drop=&#x27;if_binary&#x27;),\n",
       "                                 [&#x27;CentralAir&#x27;]),\n",
       "                                (&#x27;ordinalencoder&#x27;,\n",
       "                                 OrdinalEncoder(categories=[[&#x27;Po&#x27;, &#x27;Fa&#x27;, &#x27;TA&#x27;,\n",
       "                                                             &#x27;Gd&#x27;, &#x27;Ex&#x27;]]),\n",
       "                                 [&#x27;HeatingQC&#x27;])])</pre></div></div></div><div class=\"sk-parallel\"><div class=\"sk-parallel-item\"><div class=\"sk-item\"><div class=\"sk-label-container\"><div class=\"sk-label sk-toggleable\"><input class=\"sk-toggleable__control sk-hidden--visually\" id=\"a3cfd40a-ee01-4a8c-b1d2-b7bb6f15c269\" type=\"checkbox\" ><label for=\"a3cfd40a-ee01-4a8c-b1d2-b7bb6f15c269\" class=\"sk-toggleable__label sk-toggleable__label-arrow\">onehotencoder</label><div class=\"sk-toggleable__content\"><pre>[&#x27;CentralAir&#x27;]</pre></div></div></div><div class=\"sk-serial\"><div class=\"sk-item\"><div class=\"sk-estimator sk-toggleable\"><input class=\"sk-toggleable__control sk-hidden--visually\" id=\"d7d994c6-8f95-4561-abb0-002a9e77bcbe\" type=\"checkbox\" ><label for=\"d7d994c6-8f95-4561-abb0-002a9e77bcbe\" class=\"sk-toggleable__label sk-toggleable__label-arrow\">OneHotEncoder</label><div class=\"sk-toggleable__content\"><pre>OneHotEncoder(drop=&#x27;if_binary&#x27;)</pre></div></div></div></div></div></div><div class=\"sk-parallel-item\"><div class=\"sk-item\"><div class=\"sk-label-container\"><div class=\"sk-label sk-toggleable\"><input class=\"sk-toggleable__control sk-hidden--visually\" id=\"a324a85c-94d1-4cad-b964-a5e4d8fe9631\" type=\"checkbox\" ><label for=\"a324a85c-94d1-4cad-b964-a5e4d8fe9631\" class=\"sk-toggleable__label sk-toggleable__label-arrow\">ordinalencoder</label><div class=\"sk-toggleable__content\"><pre>[&#x27;HeatingQC&#x27;]</pre></div></div></div><div class=\"sk-serial\"><div class=\"sk-item\"><div class=\"sk-estimator sk-toggleable\"><input class=\"sk-toggleable__control sk-hidden--visually\" id=\"9a7e25d4-419d-4483-be6c-7af25b7e49cc\" type=\"checkbox\" ><label for=\"9a7e25d4-419d-4483-be6c-7af25b7e49cc\" class=\"sk-toggleable__label sk-toggleable__label-arrow\">OrdinalEncoder</label><div class=\"sk-toggleable__content\"><pre>OrdinalEncoder(categories=[[&#x27;Po&#x27;, &#x27;Fa&#x27;, &#x27;TA&#x27;, &#x27;Gd&#x27;, &#x27;Ex&#x27;]])</pre></div></div></div></div></div></div><div class=\"sk-parallel-item\"><div class=\"sk-item\"><div class=\"sk-label-container\"><div class=\"sk-label sk-toggleable\"><input class=\"sk-toggleable__control sk-hidden--visually\" id=\"d80644d9-1323-4288-9dc1-c3a644d35f5e\" type=\"checkbox\" ><label for=\"d80644d9-1323-4288-9dc1-c3a644d35f5e\" class=\"sk-toggleable__label sk-toggleable__label-arrow\">remainder</label><div class=\"sk-toggleable__content\"><pre>[&#x27;OverallQual&#x27;]</pre></div></div></div><div class=\"sk-serial\"><div class=\"sk-item\"><div class=\"sk-estimator sk-toggleable\"><input class=\"sk-toggleable__control sk-hidden--visually\" id=\"ae4e7ec5-1a17-4d9b-b7f0-fd36a3b69147\" type=\"checkbox\" ><label for=\"ae4e7ec5-1a17-4d9b-b7f0-fd36a3b69147\" class=\"sk-toggleable__label sk-toggleable__label-arrow\">passthrough</label><div class=\"sk-toggleable__content\"><pre>passthrough</pre></div></div></div></div></div></div></div></div><div class=\"sk-item\"><div class=\"sk-estimator sk-toggleable\"><input class=\"sk-toggleable__control sk-hidden--visually\" id=\"fa684413-98af-41e0-b232-8d383bcc5ff5\" type=\"checkbox\" ><label for=\"fa684413-98af-41e0-b232-8d383bcc5ff5\" class=\"sk-toggleable__label sk-toggleable__label-arrow\">LinearRegression</label><div class=\"sk-toggleable__content\"><pre>LinearRegression()</pre></div></div></div></div></div></div></div>"
      ],
      "text/plain": [
       "Pipeline(steps=[('transformer',\n",
       "                 ColumnTransformer(remainder='passthrough',\n",
       "                                   transformers=[('onehotencoder',\n",
       "                                                  OneHotEncoder(drop='if_binary'),\n",
       "                                                  ['CentralAir']),\n",
       "                                                 ('ordinalencoder',\n",
       "                                                  OrdinalEncoder(categories=[['Po',\n",
       "                                                                              'Fa',\n",
       "                                                                              'TA',\n",
       "                                                                              'Gd',\n",
       "                                                                              'Ex']]),\n",
       "                                                  ['HeatingQC'])])),\n",
       "                ('linreg', LinearRegression())])"
      ]
     },
     "execution_count": 46,
     "metadata": {},
     "output_type": "execute_result"
    }
   ],
   "source": [
    "### GRADED\n",
    "\n",
    "pipe_2 = ''\n",
    "pipe_2_train_mse = ''\n",
    "pipe_2_test_mse = ''\n",
    "\n",
    "# YOUR CODE HERE\n",
    "pipe_2 = Pipeline([\n",
    "    ('transformer' , ordinal_ohe_transformer),\n",
    "    ('linreg' , LinearRegression())\n",
    "    ])\n",
    "pipe_2.fit(X_train[['OverallQual','CentralAir','HeatingQC']],y_train)\n",
    "pipe_2_train_mse = mean_squared_error(pipe_2.predict(X_train),y_train)\n",
    "pipe_2_test_mse = mean_squared_error(pipe_2.predict(X_test),y_test)\n",
    "\n",
    "# Answer check\n",
    "print(pipe_2.named_steps)\n",
    "print(f'Train MSE: {pipe_2_train_mse: .2f}')\n",
    "print(f'Test MSE: {pipe_2_test_mse: .2f}')\n",
    "pipe_2"
   ]
  },
  {
   "cell_type": "code",
   "execution_count": null,
   "metadata": {
    "deletable": false,
    "editable": false,
    "nbgrader": {
     "cell_type": "code",
     "checksum": "96bab5b27a97491a8b88974a17b36b3f",
     "grade": true,
     "grade_id": "cell-a55700a01279e0e9",
     "locked": true,
     "points": 10,
     "schema_version": 3,
     "solution": false,
     "task": false
    }
   },
   "outputs": [],
   "source": []
  },
  {
   "cell_type": "markdown",
   "metadata": {
    "deletable": false,
    "editable": false,
    "nbgrader": {
     "cell_type": "markdown",
     "checksum": "fc6fa5ba0eb23446a363fc9e776c795f",
     "grade": false,
     "grade_id": "cell-d37ccef9c286dbd9",
     "locked": true,
     "schema_version": 3,
     "solution": false,
     "task": false
    }
   },
   "source": [
    "[Back to top](#Index:) \n",
    "\n",
    "### Problem 8\n",
    "\n",
    "#### Including `PolynomialFeatures`\n",
    "\n",
    "**10 Points**\n",
    "\n",
    "Finally, the earlier transformation of continuous columns using the `PolynomialFeatures` with `degree = 2` can be implemented alongside the `OneHotEncoder` and `OrdinalEncoder`.  \n",
    "\n",
    "The `make_column_transformer` is again used, and you are to create a `Pipeline` with steps `transformer` and `linreg`.  \n",
    "\n",
    "The `Pipeline` is fit on the training data using features `['OverallQual', 'CentralAir', 'HeatingQC']`.  \n",
    "\n",
    "Your task is to determine the mean squared error on the train and test data and assign these as floats to `quad_train_mse` and `quad_test_mse` below.  "
   ]
  },
  {
   "cell_type": "code",
   "execution_count": 47,
   "metadata": {},
   "outputs": [],
   "source": [
    "poly_ordinal_ohe = make_column_transformer((OrdinalEncoder(categories = [['Po', 'Fa', 'TA', 'Gd', 'Ex']]), ['HeatingQC']),\n",
    "                                           (OneHotEncoder(drop = 'if_binary'), ['CentralAir']),\n",
    "                                           (PolynomialFeatures(include_bias = False, degree = 2), ['OverallQual']))\n",
    "pipe_3 = Pipeline([('transformer', poly_ordinal_ohe), \n",
    "                  ('linreg', LinearRegression())])"
   ]
  },
  {
   "cell_type": "code",
   "execution_count": 48,
   "metadata": {},
   "outputs": [
    {
     "data": {
      "text/html": [
       "<style>#sk-2c2a1eda-73a3-45c4-8239-e779e2645908 {color: black;background-color: white;}#sk-2c2a1eda-73a3-45c4-8239-e779e2645908 pre{padding: 0;}#sk-2c2a1eda-73a3-45c4-8239-e779e2645908 div.sk-toggleable {background-color: white;}#sk-2c2a1eda-73a3-45c4-8239-e779e2645908 label.sk-toggleable__label {cursor: pointer;display: block;width: 100%;margin-bottom: 0;padding: 0.3em;box-sizing: border-box;text-align: center;}#sk-2c2a1eda-73a3-45c4-8239-e779e2645908 label.sk-toggleable__label-arrow:before {content: \"▸\";float: left;margin-right: 0.25em;color: #696969;}#sk-2c2a1eda-73a3-45c4-8239-e779e2645908 label.sk-toggleable__label-arrow:hover:before {color: black;}#sk-2c2a1eda-73a3-45c4-8239-e779e2645908 div.sk-estimator:hover label.sk-toggleable__label-arrow:before {color: black;}#sk-2c2a1eda-73a3-45c4-8239-e779e2645908 div.sk-toggleable__content {max-height: 0;max-width: 0;overflow: hidden;text-align: left;background-color: #f0f8ff;}#sk-2c2a1eda-73a3-45c4-8239-e779e2645908 div.sk-toggleable__content pre {margin: 0.2em;color: black;border-radius: 0.25em;background-color: #f0f8ff;}#sk-2c2a1eda-73a3-45c4-8239-e779e2645908 input.sk-toggleable__control:checked~div.sk-toggleable__content {max-height: 200px;max-width: 100%;overflow: auto;}#sk-2c2a1eda-73a3-45c4-8239-e779e2645908 input.sk-toggleable__control:checked~label.sk-toggleable__label-arrow:before {content: \"▾\";}#sk-2c2a1eda-73a3-45c4-8239-e779e2645908 div.sk-estimator input.sk-toggleable__control:checked~label.sk-toggleable__label {background-color: #d4ebff;}#sk-2c2a1eda-73a3-45c4-8239-e779e2645908 div.sk-label input.sk-toggleable__control:checked~label.sk-toggleable__label {background-color: #d4ebff;}#sk-2c2a1eda-73a3-45c4-8239-e779e2645908 input.sk-hidden--visually {border: 0;clip: rect(1px 1px 1px 1px);clip: rect(1px, 1px, 1px, 1px);height: 1px;margin: -1px;overflow: hidden;padding: 0;position: absolute;width: 1px;}#sk-2c2a1eda-73a3-45c4-8239-e779e2645908 div.sk-estimator {font-family: monospace;background-color: #f0f8ff;border: 1px dotted black;border-radius: 0.25em;box-sizing: border-box;margin-bottom: 0.5em;}#sk-2c2a1eda-73a3-45c4-8239-e779e2645908 div.sk-estimator:hover {background-color: #d4ebff;}#sk-2c2a1eda-73a3-45c4-8239-e779e2645908 div.sk-parallel-item::after {content: \"\";width: 100%;border-bottom: 1px solid gray;flex-grow: 1;}#sk-2c2a1eda-73a3-45c4-8239-e779e2645908 div.sk-label:hover label.sk-toggleable__label {background-color: #d4ebff;}#sk-2c2a1eda-73a3-45c4-8239-e779e2645908 div.sk-serial::before {content: \"\";position: absolute;border-left: 1px solid gray;box-sizing: border-box;top: 2em;bottom: 0;left: 50%;}#sk-2c2a1eda-73a3-45c4-8239-e779e2645908 div.sk-serial {display: flex;flex-direction: column;align-items: center;background-color: white;padding-right: 0.2em;padding-left: 0.2em;}#sk-2c2a1eda-73a3-45c4-8239-e779e2645908 div.sk-item {z-index: 1;}#sk-2c2a1eda-73a3-45c4-8239-e779e2645908 div.sk-parallel {display: flex;align-items: stretch;justify-content: center;background-color: white;}#sk-2c2a1eda-73a3-45c4-8239-e779e2645908 div.sk-parallel::before {content: \"\";position: absolute;border-left: 1px solid gray;box-sizing: border-box;top: 2em;bottom: 0;left: 50%;}#sk-2c2a1eda-73a3-45c4-8239-e779e2645908 div.sk-parallel-item {display: flex;flex-direction: column;position: relative;background-color: white;}#sk-2c2a1eda-73a3-45c4-8239-e779e2645908 div.sk-parallel-item:first-child::after {align-self: flex-end;width: 50%;}#sk-2c2a1eda-73a3-45c4-8239-e779e2645908 div.sk-parallel-item:last-child::after {align-self: flex-start;width: 50%;}#sk-2c2a1eda-73a3-45c4-8239-e779e2645908 div.sk-parallel-item:only-child::after {width: 0;}#sk-2c2a1eda-73a3-45c4-8239-e779e2645908 div.sk-dashed-wrapped {border: 1px dashed gray;margin: 0 0.4em 0.5em 0.4em;box-sizing: border-box;padding-bottom: 0.4em;background-color: white;position: relative;}#sk-2c2a1eda-73a3-45c4-8239-e779e2645908 div.sk-label label {font-family: monospace;font-weight: bold;background-color: white;display: inline-block;line-height: 1.2em;}#sk-2c2a1eda-73a3-45c4-8239-e779e2645908 div.sk-label-container {position: relative;z-index: 2;text-align: center;}#sk-2c2a1eda-73a3-45c4-8239-e779e2645908 div.sk-container {/* jupyter's `normalize.less` sets `[hidden] { display: none; }` but bootstrap.min.css set `[hidden] { display: none !important; }` so we also need the `!important` here to be able to override the default hidden behavior on the sphinx rendered scikit-learn.org. See: https://github.com/scikit-learn/scikit-learn/issues/21755 */display: inline-block !important;position: relative;}#sk-2c2a1eda-73a3-45c4-8239-e779e2645908 div.sk-text-repr-fallback {display: none;}</style><div id=\"sk-2c2a1eda-73a3-45c4-8239-e779e2645908\" class=\"sk-top-container\"><div class=\"sk-text-repr-fallback\"><pre>Pipeline(steps=[(&#x27;transformer&#x27;,\n",
       "                 ColumnTransformer(transformers=[(&#x27;ordinalencoder&#x27;,\n",
       "                                                  OrdinalEncoder(categories=[[&#x27;Po&#x27;,\n",
       "                                                                              &#x27;Fa&#x27;,\n",
       "                                                                              &#x27;TA&#x27;,\n",
       "                                                                              &#x27;Gd&#x27;,\n",
       "                                                                              &#x27;Ex&#x27;]]),\n",
       "                                                  [&#x27;HeatingQC&#x27;]),\n",
       "                                                 (&#x27;onehotencoder&#x27;,\n",
       "                                                  OneHotEncoder(drop=&#x27;if_binary&#x27;),\n",
       "                                                  [&#x27;CentralAir&#x27;]),\n",
       "                                                 (&#x27;polynomialfeatures&#x27;,\n",
       "                                                  PolynomialFeatures(include_bias=False),\n",
       "                                                  [&#x27;OverallQual&#x27;])])),\n",
       "                (&#x27;linreg&#x27;, LinearRegression())])</pre><b>Please rerun this cell to show the HTML repr or trust the notebook.</b></div><div class=\"sk-container\" hidden><div class=\"sk-item sk-dashed-wrapped\"><div class=\"sk-label-container\"><div class=\"sk-label sk-toggleable\"><input class=\"sk-toggleable__control sk-hidden--visually\" id=\"e5623488-746c-477a-92d4-b1d69650c578\" type=\"checkbox\" ><label for=\"e5623488-746c-477a-92d4-b1d69650c578\" class=\"sk-toggleable__label sk-toggleable__label-arrow\">Pipeline</label><div class=\"sk-toggleable__content\"><pre>Pipeline(steps=[(&#x27;transformer&#x27;,\n",
       "                 ColumnTransformer(transformers=[(&#x27;ordinalencoder&#x27;,\n",
       "                                                  OrdinalEncoder(categories=[[&#x27;Po&#x27;,\n",
       "                                                                              &#x27;Fa&#x27;,\n",
       "                                                                              &#x27;TA&#x27;,\n",
       "                                                                              &#x27;Gd&#x27;,\n",
       "                                                                              &#x27;Ex&#x27;]]),\n",
       "                                                  [&#x27;HeatingQC&#x27;]),\n",
       "                                                 (&#x27;onehotencoder&#x27;,\n",
       "                                                  OneHotEncoder(drop=&#x27;if_binary&#x27;),\n",
       "                                                  [&#x27;CentralAir&#x27;]),\n",
       "                                                 (&#x27;polynomialfeatures&#x27;,\n",
       "                                                  PolynomialFeatures(include_bias=False),\n",
       "                                                  [&#x27;OverallQual&#x27;])])),\n",
       "                (&#x27;linreg&#x27;, LinearRegression())])</pre></div></div></div><div class=\"sk-serial\"><div class=\"sk-item sk-dashed-wrapped\"><div class=\"sk-label-container\"><div class=\"sk-label sk-toggleable\"><input class=\"sk-toggleable__control sk-hidden--visually\" id=\"2dc10d1c-61fd-48a2-a3b2-97e165fe137a\" type=\"checkbox\" ><label for=\"2dc10d1c-61fd-48a2-a3b2-97e165fe137a\" class=\"sk-toggleable__label sk-toggleable__label-arrow\">transformer: ColumnTransformer</label><div class=\"sk-toggleable__content\"><pre>ColumnTransformer(transformers=[(&#x27;ordinalencoder&#x27;,\n",
       "                                 OrdinalEncoder(categories=[[&#x27;Po&#x27;, &#x27;Fa&#x27;, &#x27;TA&#x27;,\n",
       "                                                             &#x27;Gd&#x27;, &#x27;Ex&#x27;]]),\n",
       "                                 [&#x27;HeatingQC&#x27;]),\n",
       "                                (&#x27;onehotencoder&#x27;,\n",
       "                                 OneHotEncoder(drop=&#x27;if_binary&#x27;),\n",
       "                                 [&#x27;CentralAir&#x27;]),\n",
       "                                (&#x27;polynomialfeatures&#x27;,\n",
       "                                 PolynomialFeatures(include_bias=False),\n",
       "                                 [&#x27;OverallQual&#x27;])])</pre></div></div></div><div class=\"sk-parallel\"><div class=\"sk-parallel-item\"><div class=\"sk-item\"><div class=\"sk-label-container\"><div class=\"sk-label sk-toggleable\"><input class=\"sk-toggleable__control sk-hidden--visually\" id=\"d405885e-6573-4861-8ff5-b5e6ee09f2c5\" type=\"checkbox\" ><label for=\"d405885e-6573-4861-8ff5-b5e6ee09f2c5\" class=\"sk-toggleable__label sk-toggleable__label-arrow\">ordinalencoder</label><div class=\"sk-toggleable__content\"><pre>[&#x27;HeatingQC&#x27;]</pre></div></div></div><div class=\"sk-serial\"><div class=\"sk-item\"><div class=\"sk-estimator sk-toggleable\"><input class=\"sk-toggleable__control sk-hidden--visually\" id=\"b8c59232-dcb0-41d7-9f44-6e22b3cbe065\" type=\"checkbox\" ><label for=\"b8c59232-dcb0-41d7-9f44-6e22b3cbe065\" class=\"sk-toggleable__label sk-toggleable__label-arrow\">OrdinalEncoder</label><div class=\"sk-toggleable__content\"><pre>OrdinalEncoder(categories=[[&#x27;Po&#x27;, &#x27;Fa&#x27;, &#x27;TA&#x27;, &#x27;Gd&#x27;, &#x27;Ex&#x27;]])</pre></div></div></div></div></div></div><div class=\"sk-parallel-item\"><div class=\"sk-item\"><div class=\"sk-label-container\"><div class=\"sk-label sk-toggleable\"><input class=\"sk-toggleable__control sk-hidden--visually\" id=\"85fd38de-794f-4241-a8c0-72bc9e2e72bb\" type=\"checkbox\" ><label for=\"85fd38de-794f-4241-a8c0-72bc9e2e72bb\" class=\"sk-toggleable__label sk-toggleable__label-arrow\">onehotencoder</label><div class=\"sk-toggleable__content\"><pre>[&#x27;CentralAir&#x27;]</pre></div></div></div><div class=\"sk-serial\"><div class=\"sk-item\"><div class=\"sk-estimator sk-toggleable\"><input class=\"sk-toggleable__control sk-hidden--visually\" id=\"2897bb44-0718-4b8a-94ba-de6a028766a4\" type=\"checkbox\" ><label for=\"2897bb44-0718-4b8a-94ba-de6a028766a4\" class=\"sk-toggleable__label sk-toggleable__label-arrow\">OneHotEncoder</label><div class=\"sk-toggleable__content\"><pre>OneHotEncoder(drop=&#x27;if_binary&#x27;)</pre></div></div></div></div></div></div><div class=\"sk-parallel-item\"><div class=\"sk-item\"><div class=\"sk-label-container\"><div class=\"sk-label sk-toggleable\"><input class=\"sk-toggleable__control sk-hidden--visually\" id=\"72695e26-ae53-4b51-a478-bd8596df1747\" type=\"checkbox\" ><label for=\"72695e26-ae53-4b51-a478-bd8596df1747\" class=\"sk-toggleable__label sk-toggleable__label-arrow\">polynomialfeatures</label><div class=\"sk-toggleable__content\"><pre>[&#x27;OverallQual&#x27;]</pre></div></div></div><div class=\"sk-serial\"><div class=\"sk-item\"><div class=\"sk-estimator sk-toggleable\"><input class=\"sk-toggleable__control sk-hidden--visually\" id=\"04fa17a0-5bb0-4bb1-a9dc-350481dea7c9\" type=\"checkbox\" ><label for=\"04fa17a0-5bb0-4bb1-a9dc-350481dea7c9\" class=\"sk-toggleable__label sk-toggleable__label-arrow\">PolynomialFeatures</label><div class=\"sk-toggleable__content\"><pre>PolynomialFeatures(include_bias=False)</pre></div></div></div></div></div></div></div></div><div class=\"sk-item\"><div class=\"sk-estimator sk-toggleable\"><input class=\"sk-toggleable__control sk-hidden--visually\" id=\"e9ffde92-e6b8-4a16-bbb1-6d406ea36dcd\" type=\"checkbox\" ><label for=\"e9ffde92-e6b8-4a16-bbb1-6d406ea36dcd\" class=\"sk-toggleable__label sk-toggleable__label-arrow\">LinearRegression</label><div class=\"sk-toggleable__content\"><pre>LinearRegression()</pre></div></div></div></div></div></div></div>"
      ],
      "text/plain": [
       "Pipeline(steps=[('transformer',\n",
       "                 ColumnTransformer(transformers=[('ordinalencoder',\n",
       "                                                  OrdinalEncoder(categories=[['Po',\n",
       "                                                                              'Fa',\n",
       "                                                                              'TA',\n",
       "                                                                              'Gd',\n",
       "                                                                              'Ex']]),\n",
       "                                                  ['HeatingQC']),\n",
       "                                                 ('onehotencoder',\n",
       "                                                  OneHotEncoder(drop='if_binary'),\n",
       "                                                  ['CentralAir']),\n",
       "                                                 ('polynomialfeatures',\n",
       "                                                  PolynomialFeatures(include_bias=False),\n",
       "                                                  ['OverallQual'])])),\n",
       "                ('linreg', LinearRegression())])"
      ]
     },
     "execution_count": 48,
     "metadata": {},
     "output_type": "execute_result"
    }
   ],
   "source": [
    "pipe_3.fit(X_train[['OverallQual', 'CentralAir', 'HeatingQC']], y_train)"
   ]
  },
  {
   "cell_type": "code",
   "execution_count": 49,
   "metadata": {
    "deletable": false,
    "nbgrader": {
     "cell_type": "code",
     "checksum": "a48f68d23631108271d46c9401cbf218",
     "grade": false,
     "grade_id": "cell-6166bd840763ffd6",
     "locked": false,
     "schema_version": 3,
     "solution": true,
     "task": false
    }
   },
   "outputs": [
    {
     "name": "stdout",
     "output_type": "stream",
     "text": [
      "Train MSE:  1856951076.95\n",
      "Test MSE:  2207864528.17\n"
     ]
    }
   ],
   "source": [
    "### GRADED\n",
    "\n",
    "quad_train_mse = ''\n",
    "quad_test_mse = ''\n",
    "\n",
    "# YOUR CODE HERE\n",
    "quad_train_mse = mean_squared_error(pipe_3.predict(X_train),y_train)\n",
    "quad_test_mse = mean_squared_error(pipe_3.predict(X_test),y_test)\n",
    "\n",
    "# Answer check\n",
    "print(f'Train MSE: {quad_train_mse: .2f}')\n",
    "print(f'Test MSE: {quad_test_mse: .2f}')"
   ]
  },
  {
   "cell_type": "code",
   "execution_count": null,
   "metadata": {
    "deletable": false,
    "editable": false,
    "nbgrader": {
     "cell_type": "code",
     "checksum": "38f1d06c4400cc4d5367c5f862818694",
     "grade": true,
     "grade_id": "cell-4cc4b9557c11ce48",
     "locked": true,
     "points": 10,
     "schema_version": 3,
     "solution": false,
     "task": false
    }
   },
   "outputs": [],
   "source": []
  },
  {
   "cell_type": "markdown",
   "metadata": {
    "deletable": false,
    "editable": false,
    "nbgrader": {
     "cell_type": "markdown",
     "checksum": "eb10c92a3e01dfa6bee3ca98320de064",
     "grade": false,
     "grade_id": "cell-b0a0f9ce2acfd960",
     "locked": true,
     "schema_version": 3,
     "solution": false,
     "task": false
    }
   },
   "source": [
    "[Back to top](#Index:) \n",
    "\n",
    "### Problem 9\n",
    "\n",
    "#### Including More Features\n",
    "\n",
    "**20 Points**\n",
    "\n",
    "Use the following features to build a new `make_column_transformer` and fit 5 different models of degree 1 - 5 using the `degree` argument in your `PolynomialFeatures` transformer.  Keep track of the subsequent train mean squared error and test set mean squared error with the lists `train_mses` and `test_mses` respectively.  \n",
    "\n",
    "The `poly_ordinal_ohe` object contains the different transformers needed.  Note that rather than passing a list of columns to the `PolynomialFeatures` transformer, the `make_column_selector` function is used to select any numeric feature.  For more information on the `make_column_selector` see [here](https://scikit-learn.org/stable/modules/generated/sklearn.compose.make_column_selector.html).\n",
    "\n"
   ]
  },
  {
   "cell_type": "code",
   "execution_count": 55,
   "metadata": {},
   "outputs": [],
   "source": [
    "features = ['CentralAir', 'HeatingQC', 'OverallQual', 'GrLivArea', 'KitchenQual', 'FullBath']"
   ]
  },
  {
   "cell_type": "code",
   "execution_count": 56,
   "metadata": {},
   "outputs": [
    {
     "data": {
      "text/html": [
       "<div>\n",
       "<style scoped>\n",
       "    .dataframe tbody tr th:only-of-type {\n",
       "        vertical-align: middle;\n",
       "    }\n",
       "\n",
       "    .dataframe tbody tr th {\n",
       "        vertical-align: top;\n",
       "    }\n",
       "\n",
       "    .dataframe thead th {\n",
       "        text-align: right;\n",
       "    }\n",
       "</style>\n",
       "<table border=\"1\" class=\"dataframe\">\n",
       "  <thead>\n",
       "    <tr style=\"text-align: right;\">\n",
       "      <th></th>\n",
       "      <th>CentralAir</th>\n",
       "      <th>HeatingQC</th>\n",
       "      <th>OverallQual</th>\n",
       "      <th>GrLivArea</th>\n",
       "      <th>KitchenQual</th>\n",
       "      <th>FullBath</th>\n",
       "    </tr>\n",
       "  </thead>\n",
       "  <tbody>\n",
       "    <tr>\n",
       "      <th>1079</th>\n",
       "      <td>Y</td>\n",
       "      <td>Gd</td>\n",
       "      <td>5</td>\n",
       "      <td>990</td>\n",
       "      <td>TA</td>\n",
       "      <td>1</td>\n",
       "    </tr>\n",
       "    <tr>\n",
       "      <th>601</th>\n",
       "      <td>Y</td>\n",
       "      <td>TA</td>\n",
       "      <td>6</td>\n",
       "      <td>1375</td>\n",
       "      <td>Gd</td>\n",
       "      <td>1</td>\n",
       "    </tr>\n",
       "    <tr>\n",
       "      <th>1015</th>\n",
       "      <td>Y</td>\n",
       "      <td>Ex</td>\n",
       "      <td>8</td>\n",
       "      <td>1665</td>\n",
       "      <td>Gd</td>\n",
       "      <td>2</td>\n",
       "    </tr>\n",
       "    <tr>\n",
       "      <th>194</th>\n",
       "      <td>Y</td>\n",
       "      <td>TA</td>\n",
       "      <td>5</td>\n",
       "      <td>864</td>\n",
       "      <td>TA</td>\n",
       "      <td>1</td>\n",
       "    </tr>\n",
       "    <tr>\n",
       "      <th>1248</th>\n",
       "      <td>N</td>\n",
       "      <td>Fa</td>\n",
       "      <td>6</td>\n",
       "      <td>2058</td>\n",
       "      <td>TA</td>\n",
       "      <td>1</td>\n",
       "    </tr>\n",
       "  </tbody>\n",
       "</table>\n",
       "</div>"
      ],
      "text/plain": [
       "     CentralAir HeatingQC  OverallQual  GrLivArea KitchenQual  FullBath\n",
       "1079          Y        Gd            5        990          TA         1\n",
       "601           Y        TA            6       1375          Gd         1\n",
       "1015          Y        Ex            8       1665          Gd         2\n",
       "194           Y        TA            5        864          TA         1\n",
       "1248          N        Fa            6       2058          TA         1"
      ]
     },
     "execution_count": 56,
     "metadata": {},
     "output_type": "execute_result"
    }
   ],
   "source": [
    "X_train[features].head()"
   ]
  },
  {
   "cell_type": "code",
   "execution_count": 52,
   "metadata": {},
   "outputs": [],
   "source": [
    "poly_ordinal_ohe = make_column_transformer((PolynomialFeatures(), make_column_selector(dtype_include=np.number)),\n",
    "                                           (OrdinalEncoder(categories = [['Po', 'Fa', 'TA', 'Gd', 'Ex']]), ['HeatingQC', 'KitchenQual']),\n",
    "                                               (OneHotEncoder(drop = 'if_binary', sparse = False), ['CentralAir']))"
   ]
  },
  {
   "cell_type": "code",
   "execution_count": 58,
   "metadata": {
    "deletable": false,
    "nbgrader": {
     "cell_type": "code",
     "checksum": "4a1a0f97bcc75ab77651f20c788281a0",
     "grade": false,
     "grade_id": "cell-77c2202178f5d8af",
     "locked": false,
     "schema_version": 3,
     "solution": true,
     "task": false
    }
   },
   "outputs": [
    {
     "name": "stdout",
     "output_type": "stream",
     "text": [
      "[1635858627.9553099, 1281188434.12774, 1175803979.7814984, 1160016099.6238377, 1154508223.5886502]\n",
      "[2038392771.0031447, 1391506503.438035, 6994945719.882802, 180257538683.97968, 1032700113327.4242]\n"
     ]
    },
    {
     "data": {
      "text/html": [
       "<style>#sk-44b58cd4-e53e-48ad-b5c6-2e9e17d47030 {color: black;background-color: white;}#sk-44b58cd4-e53e-48ad-b5c6-2e9e17d47030 pre{padding: 0;}#sk-44b58cd4-e53e-48ad-b5c6-2e9e17d47030 div.sk-toggleable {background-color: white;}#sk-44b58cd4-e53e-48ad-b5c6-2e9e17d47030 label.sk-toggleable__label {cursor: pointer;display: block;width: 100%;margin-bottom: 0;padding: 0.3em;box-sizing: border-box;text-align: center;}#sk-44b58cd4-e53e-48ad-b5c6-2e9e17d47030 label.sk-toggleable__label-arrow:before {content: \"▸\";float: left;margin-right: 0.25em;color: #696969;}#sk-44b58cd4-e53e-48ad-b5c6-2e9e17d47030 label.sk-toggleable__label-arrow:hover:before {color: black;}#sk-44b58cd4-e53e-48ad-b5c6-2e9e17d47030 div.sk-estimator:hover label.sk-toggleable__label-arrow:before {color: black;}#sk-44b58cd4-e53e-48ad-b5c6-2e9e17d47030 div.sk-toggleable__content {max-height: 0;max-width: 0;overflow: hidden;text-align: left;background-color: #f0f8ff;}#sk-44b58cd4-e53e-48ad-b5c6-2e9e17d47030 div.sk-toggleable__content pre {margin: 0.2em;color: black;border-radius: 0.25em;background-color: #f0f8ff;}#sk-44b58cd4-e53e-48ad-b5c6-2e9e17d47030 input.sk-toggleable__control:checked~div.sk-toggleable__content {max-height: 200px;max-width: 100%;overflow: auto;}#sk-44b58cd4-e53e-48ad-b5c6-2e9e17d47030 input.sk-toggleable__control:checked~label.sk-toggleable__label-arrow:before {content: \"▾\";}#sk-44b58cd4-e53e-48ad-b5c6-2e9e17d47030 div.sk-estimator input.sk-toggleable__control:checked~label.sk-toggleable__label {background-color: #d4ebff;}#sk-44b58cd4-e53e-48ad-b5c6-2e9e17d47030 div.sk-label input.sk-toggleable__control:checked~label.sk-toggleable__label {background-color: #d4ebff;}#sk-44b58cd4-e53e-48ad-b5c6-2e9e17d47030 input.sk-hidden--visually {border: 0;clip: rect(1px 1px 1px 1px);clip: rect(1px, 1px, 1px, 1px);height: 1px;margin: -1px;overflow: hidden;padding: 0;position: absolute;width: 1px;}#sk-44b58cd4-e53e-48ad-b5c6-2e9e17d47030 div.sk-estimator {font-family: monospace;background-color: #f0f8ff;border: 1px dotted black;border-radius: 0.25em;box-sizing: border-box;margin-bottom: 0.5em;}#sk-44b58cd4-e53e-48ad-b5c6-2e9e17d47030 div.sk-estimator:hover {background-color: #d4ebff;}#sk-44b58cd4-e53e-48ad-b5c6-2e9e17d47030 div.sk-parallel-item::after {content: \"\";width: 100%;border-bottom: 1px solid gray;flex-grow: 1;}#sk-44b58cd4-e53e-48ad-b5c6-2e9e17d47030 div.sk-label:hover label.sk-toggleable__label {background-color: #d4ebff;}#sk-44b58cd4-e53e-48ad-b5c6-2e9e17d47030 div.sk-serial::before {content: \"\";position: absolute;border-left: 1px solid gray;box-sizing: border-box;top: 2em;bottom: 0;left: 50%;}#sk-44b58cd4-e53e-48ad-b5c6-2e9e17d47030 div.sk-serial {display: flex;flex-direction: column;align-items: center;background-color: white;padding-right: 0.2em;padding-left: 0.2em;}#sk-44b58cd4-e53e-48ad-b5c6-2e9e17d47030 div.sk-item {z-index: 1;}#sk-44b58cd4-e53e-48ad-b5c6-2e9e17d47030 div.sk-parallel {display: flex;align-items: stretch;justify-content: center;background-color: white;}#sk-44b58cd4-e53e-48ad-b5c6-2e9e17d47030 div.sk-parallel::before {content: \"\";position: absolute;border-left: 1px solid gray;box-sizing: border-box;top: 2em;bottom: 0;left: 50%;}#sk-44b58cd4-e53e-48ad-b5c6-2e9e17d47030 div.sk-parallel-item {display: flex;flex-direction: column;position: relative;background-color: white;}#sk-44b58cd4-e53e-48ad-b5c6-2e9e17d47030 div.sk-parallel-item:first-child::after {align-self: flex-end;width: 50%;}#sk-44b58cd4-e53e-48ad-b5c6-2e9e17d47030 div.sk-parallel-item:last-child::after {align-self: flex-start;width: 50%;}#sk-44b58cd4-e53e-48ad-b5c6-2e9e17d47030 div.sk-parallel-item:only-child::after {width: 0;}#sk-44b58cd4-e53e-48ad-b5c6-2e9e17d47030 div.sk-dashed-wrapped {border: 1px dashed gray;margin: 0 0.4em 0.5em 0.4em;box-sizing: border-box;padding-bottom: 0.4em;background-color: white;position: relative;}#sk-44b58cd4-e53e-48ad-b5c6-2e9e17d47030 div.sk-label label {font-family: monospace;font-weight: bold;background-color: white;display: inline-block;line-height: 1.2em;}#sk-44b58cd4-e53e-48ad-b5c6-2e9e17d47030 div.sk-label-container {position: relative;z-index: 2;text-align: center;}#sk-44b58cd4-e53e-48ad-b5c6-2e9e17d47030 div.sk-container {/* jupyter's `normalize.less` sets `[hidden] { display: none; }` but bootstrap.min.css set `[hidden] { display: none !important; }` so we also need the `!important` here to be able to override the default hidden behavior on the sphinx rendered scikit-learn.org. See: https://github.com/scikit-learn/scikit-learn/issues/21755 */display: inline-block !important;position: relative;}#sk-44b58cd4-e53e-48ad-b5c6-2e9e17d47030 div.sk-text-repr-fallback {display: none;}</style><div id=\"sk-44b58cd4-e53e-48ad-b5c6-2e9e17d47030\" class=\"sk-top-container\"><div class=\"sk-text-repr-fallback\"><pre>Pipeline(steps=[(&#x27;poly_features&#x27;,\n",
       "                 ColumnTransformer(transformers=[(&#x27;polynomialfeatures&#x27;,\n",
       "                                                  PolynomialFeatures(degree=5),\n",
       "                                                  &lt;sklearn.compose._column_transformer.make_column_selector object at 0x7f6cbf6364f0&gt;),\n",
       "                                                 (&#x27;ordinalencoder&#x27;,\n",
       "                                                  OrdinalEncoder(categories=[[&#x27;Po&#x27;,\n",
       "                                                                              &#x27;Fa&#x27;,\n",
       "                                                                              &#x27;TA&#x27;,\n",
       "                                                                              &#x27;Gd&#x27;,\n",
       "                                                                              &#x27;Ex&#x27;]]),\n",
       "                                                  [&#x27;HeatingQC&#x27;]),\n",
       "                                                 (&#x27;onehotencoder&#x27;,\n",
       "                                                  OneHotEncoder(drop=&#x27;if_binary&#x27;),\n",
       "                                                  [&#x27;CentralAir&#x27;])])),\n",
       "                (&#x27;poly_model&#x27;, LinearRegression())])</pre><b>Please rerun this cell to show the HTML repr or trust the notebook.</b></div><div class=\"sk-container\" hidden><div class=\"sk-item sk-dashed-wrapped\"><div class=\"sk-label-container\"><div class=\"sk-label sk-toggleable\"><input class=\"sk-toggleable__control sk-hidden--visually\" id=\"c62d59b0-8ffa-481e-95da-7c5f95d710e1\" type=\"checkbox\" ><label for=\"c62d59b0-8ffa-481e-95da-7c5f95d710e1\" class=\"sk-toggleable__label sk-toggleable__label-arrow\">Pipeline</label><div class=\"sk-toggleable__content\"><pre>Pipeline(steps=[(&#x27;poly_features&#x27;,\n",
       "                 ColumnTransformer(transformers=[(&#x27;polynomialfeatures&#x27;,\n",
       "                                                  PolynomialFeatures(degree=5),\n",
       "                                                  &lt;sklearn.compose._column_transformer.make_column_selector object at 0x7f6cbf6364f0&gt;),\n",
       "                                                 (&#x27;ordinalencoder&#x27;,\n",
       "                                                  OrdinalEncoder(categories=[[&#x27;Po&#x27;,\n",
       "                                                                              &#x27;Fa&#x27;,\n",
       "                                                                              &#x27;TA&#x27;,\n",
       "                                                                              &#x27;Gd&#x27;,\n",
       "                                                                              &#x27;Ex&#x27;]]),\n",
       "                                                  [&#x27;HeatingQC&#x27;]),\n",
       "                                                 (&#x27;onehotencoder&#x27;,\n",
       "                                                  OneHotEncoder(drop=&#x27;if_binary&#x27;),\n",
       "                                                  [&#x27;CentralAir&#x27;])])),\n",
       "                (&#x27;poly_model&#x27;, LinearRegression())])</pre></div></div></div><div class=\"sk-serial\"><div class=\"sk-item sk-dashed-wrapped\"><div class=\"sk-label-container\"><div class=\"sk-label sk-toggleable\"><input class=\"sk-toggleable__control sk-hidden--visually\" id=\"bb7adb0c-1e22-42d8-afee-89d5a0a797af\" type=\"checkbox\" ><label for=\"bb7adb0c-1e22-42d8-afee-89d5a0a797af\" class=\"sk-toggleable__label sk-toggleable__label-arrow\">poly_features: ColumnTransformer</label><div class=\"sk-toggleable__content\"><pre>ColumnTransformer(transformers=[(&#x27;polynomialfeatures&#x27;,\n",
       "                                 PolynomialFeatures(degree=5),\n",
       "                                 &lt;sklearn.compose._column_transformer.make_column_selector object at 0x7f6cbf6364f0&gt;),\n",
       "                                (&#x27;ordinalencoder&#x27;,\n",
       "                                 OrdinalEncoder(categories=[[&#x27;Po&#x27;, &#x27;Fa&#x27;, &#x27;TA&#x27;,\n",
       "                                                             &#x27;Gd&#x27;, &#x27;Ex&#x27;]]),\n",
       "                                 [&#x27;HeatingQC&#x27;]),\n",
       "                                (&#x27;onehotencoder&#x27;,\n",
       "                                 OneHotEncoder(drop=&#x27;if_binary&#x27;),\n",
       "                                 [&#x27;CentralAir&#x27;])])</pre></div></div></div><div class=\"sk-parallel\"><div class=\"sk-parallel-item\"><div class=\"sk-item\"><div class=\"sk-label-container\"><div class=\"sk-label sk-toggleable\"><input class=\"sk-toggleable__control sk-hidden--visually\" id=\"f0d126e6-3d1d-4c62-af19-eec0a1fa5684\" type=\"checkbox\" ><label for=\"f0d126e6-3d1d-4c62-af19-eec0a1fa5684\" class=\"sk-toggleable__label sk-toggleable__label-arrow\">polynomialfeatures</label><div class=\"sk-toggleable__content\"><pre>&lt;sklearn.compose._column_transformer.make_column_selector object at 0x7f6cbf6364f0&gt;</pre></div></div></div><div class=\"sk-serial\"><div class=\"sk-item\"><div class=\"sk-estimator sk-toggleable\"><input class=\"sk-toggleable__control sk-hidden--visually\" id=\"6c349924-570f-40bb-98e6-ff91b16e24ec\" type=\"checkbox\" ><label for=\"6c349924-570f-40bb-98e6-ff91b16e24ec\" class=\"sk-toggleable__label sk-toggleable__label-arrow\">PolynomialFeatures</label><div class=\"sk-toggleable__content\"><pre>PolynomialFeatures(degree=5)</pre></div></div></div></div></div></div><div class=\"sk-parallel-item\"><div class=\"sk-item\"><div class=\"sk-label-container\"><div class=\"sk-label sk-toggleable\"><input class=\"sk-toggleable__control sk-hidden--visually\" id=\"c47f9840-7986-43e9-9507-0767eda24c30\" type=\"checkbox\" ><label for=\"c47f9840-7986-43e9-9507-0767eda24c30\" class=\"sk-toggleable__label sk-toggleable__label-arrow\">ordinalencoder</label><div class=\"sk-toggleable__content\"><pre>[&#x27;HeatingQC&#x27;]</pre></div></div></div><div class=\"sk-serial\"><div class=\"sk-item\"><div class=\"sk-estimator sk-toggleable\"><input class=\"sk-toggleable__control sk-hidden--visually\" id=\"7ca21652-c106-4e3e-a982-c66508383ff8\" type=\"checkbox\" ><label for=\"7ca21652-c106-4e3e-a982-c66508383ff8\" class=\"sk-toggleable__label sk-toggleable__label-arrow\">OrdinalEncoder</label><div class=\"sk-toggleable__content\"><pre>OrdinalEncoder(categories=[[&#x27;Po&#x27;, &#x27;Fa&#x27;, &#x27;TA&#x27;, &#x27;Gd&#x27;, &#x27;Ex&#x27;]])</pre></div></div></div></div></div></div><div class=\"sk-parallel-item\"><div class=\"sk-item\"><div class=\"sk-label-container\"><div class=\"sk-label sk-toggleable\"><input class=\"sk-toggleable__control sk-hidden--visually\" id=\"c57a8083-59dd-4245-977a-22204d8d7d0e\" type=\"checkbox\" ><label for=\"c57a8083-59dd-4245-977a-22204d8d7d0e\" class=\"sk-toggleable__label sk-toggleable__label-arrow\">onehotencoder</label><div class=\"sk-toggleable__content\"><pre>[&#x27;CentralAir&#x27;]</pre></div></div></div><div class=\"sk-serial\"><div class=\"sk-item\"><div class=\"sk-estimator sk-toggleable\"><input class=\"sk-toggleable__control sk-hidden--visually\" id=\"1a9cdbd3-eb21-4215-9af3-ba1327a25fb4\" type=\"checkbox\" ><label for=\"1a9cdbd3-eb21-4215-9af3-ba1327a25fb4\" class=\"sk-toggleable__label sk-toggleable__label-arrow\">OneHotEncoder</label><div class=\"sk-toggleable__content\"><pre>OneHotEncoder(drop=&#x27;if_binary&#x27;)</pre></div></div></div></div></div></div></div></div><div class=\"sk-item\"><div class=\"sk-estimator sk-toggleable\"><input class=\"sk-toggleable__control sk-hidden--visually\" id=\"da9eb101-398b-4567-ac44-6940cf64a80b\" type=\"checkbox\" ><label for=\"da9eb101-398b-4567-ac44-6940cf64a80b\" class=\"sk-toggleable__label sk-toggleable__label-arrow\">LinearRegression</label><div class=\"sk-toggleable__content\"><pre>LinearRegression()</pre></div></div></div></div></div></div></div>"
      ],
      "text/plain": [
       "Pipeline(steps=[('poly_features',\n",
       "                 ColumnTransformer(transformers=[('polynomialfeatures',\n",
       "                                                  PolynomialFeatures(degree=5),\n",
       "                                                  <sklearn.compose._column_transformer.make_column_selector object at 0x7f6cbf6364f0>),\n",
       "                                                 ('ordinalencoder',\n",
       "                                                  OrdinalEncoder(categories=[['Po',\n",
       "                                                                              'Fa',\n",
       "                                                                              'TA',\n",
       "                                                                              'Gd',\n",
       "                                                                              'Ex']]),\n",
       "                                                  ['HeatingQC']),\n",
       "                                                 ('onehotencoder',\n",
       "                                                  OneHotEncoder(drop='if_binary'),\n",
       "                                                  ['CentralAir'])])),\n",
       "                ('poly_model', LinearRegression())])"
      ]
     },
     "execution_count": 58,
     "metadata": {},
     "output_type": "execute_result"
    }
   ],
   "source": [
    "### GRADED\n",
    "\n",
    "train_mses = []\n",
    "test_mses = []\n",
    "#for degree in 1 - 5\n",
    "for i in range(1, 6):\n",
    "    #create pipeline with PolynomialFeatures degree i \n",
    "    #ADD APPROPRIATE ARGUMENTS IN POLYNOMIALFEATURES\n",
    "    poly_ordinal_ohe = make_column_transformer((PolynomialFeatures(degree = i), make_column_selector(dtype_include=np.number)),\n",
    "                                           (OrdinalEncoder(categories = [['Po', 'Fa', 'TA', 'Gd', 'Ex']]), ['HeatingQC']),\n",
    "                                               (OneHotEncoder(drop = 'if_binary'), ['CentralAir']))\n",
    "    \n",
    "    pipe = Pipeline([\n",
    "    ('poly_features' , poly_ordinal_ohe),\n",
    "    ('poly_model' , LinearRegression())\n",
    "    ])\n",
    "    #fit on train\n",
    "    pipe.fit(X_train[features],y_train)\n",
    "    #predict on train and test\n",
    "    p1 = pipe.predict(X_train)\n",
    "    p2 = pipe.predict(X_test)\n",
    "    #compute mean squared errors\n",
    "    train_mses.append(mean_squared_error(p1,y_train))\n",
    "    test_mses.append(mean_squared_error(p2,y_test))\n",
    "    #append to train_mses and test_mses respectively\n",
    "\n",
    "\n",
    "# Answer check\n",
    "print(train_mses)\n",
    "print(test_mses)\n",
    "pipe"
   ]
  },
  {
   "cell_type": "code",
   "execution_count": null,
   "metadata": {
    "deletable": false,
    "editable": false,
    "nbgrader": {
     "cell_type": "code",
     "checksum": "4febb9b59b009b6c9777aa4002561a69",
     "grade": true,
     "grade_id": "cell-689e16c60225d900",
     "locked": true,
     "points": 20,
     "schema_version": 3,
     "solution": false,
     "task": false
    }
   },
   "outputs": [],
   "source": []
  },
  {
   "cell_type": "markdown",
   "metadata": {
    "deletable": false,
    "editable": false,
    "nbgrader": {
     "cell_type": "markdown",
     "checksum": "11075b250365e15a9a9e03da547282cd",
     "grade": false,
     "grade_id": "cell-71011b87c2040d72",
     "locked": true,
     "schema_version": 3,
     "solution": false,
     "task": false
    }
   },
   "source": [
    "[Back to top](#Index:) \n",
    "\n",
    "### Problem 10\n",
    "\n",
    "#### Optimal Model Complexity \n",
    "\n",
    "**10 Points**\n",
    "\n",
    "Based on your models mean squared error on the testing data in **Problem 9** above, what was the optimal complexity?  Assign your answer as an integer to `best_complexity` below.  Compute the **MEAN SQUARED ERROR** of this model and assign to `best_mse` as a float. "
   ]
  },
  {
   "cell_type": "code",
   "execution_count": 59,
   "metadata": {
    "deletable": false,
    "nbgrader": {
     "cell_type": "code",
     "checksum": "59c0c391fa4b3faccad95afbf0f343e1",
     "grade": false,
     "grade_id": "cell-4fd87b41a5fe40d5",
     "locked": false,
     "schema_version": 3,
     "solution": true,
     "task": false
    }
   },
   "outputs": [
    {
     "name": "stdout",
     "output_type": "stream",
     "text": [
      "The best degree polynomial model is:  2\n",
      "The smallest mean squared error on the test data is :  1391506503.44\n"
     ]
    }
   ],
   "source": [
    "### GRADED\n",
    "\n",
    "best_complexity = ''\n",
    "best_mse = ''\n",
    "\n",
    "# YOUR CODE HERE\n",
    "best_complexity=2\n",
    "best_mse = 1391506503.438035\n",
    "\n",
    "# Answer check\n",
    "print(f'The best degree polynomial model is:  {best_complexity}')\n",
    "print(f'The smallest mean squared error on the test data is : {best_mse: .2f}')"
   ]
  },
  {
   "cell_type": "code",
   "execution_count": null,
   "metadata": {
    "deletable": false,
    "editable": false,
    "nbgrader": {
     "cell_type": "code",
     "checksum": "a9b64da02b175c917bd37a92f0f134d0",
     "grade": true,
     "grade_id": "cell-9171e1628a7c3d4b",
     "locked": true,
     "points": 10,
     "schema_version": 3,
     "solution": false,
     "task": false
    }
   },
   "outputs": [],
   "source": []
  },
  {
   "cell_type": "markdown",
   "metadata": {
    "deletable": false,
    "editable": false,
    "nbgrader": {
     "cell_type": "markdown",
     "checksum": "099bfaeab2199be9b140ff9bb8e771c2",
     "grade": false,
     "grade_id": "cell-f38feb0e2f015284",
     "locked": true,
     "schema_version": 3,
     "solution": false,
     "task": false
    }
   },
   "source": [
    "### Further Exploration\n",
    "\n",
    "This activity was meant to introduce you to a more streamlined modeling process using the `sklearn` library.  While your models should be performing better than the baseline, it is likely that with a bit more feature engineering and cross validation you would be able to further improve the performance.  You are encouraged to explore further feature engineering and encoding, particularly with handling missing values.  \n",
    "\n",
    "Additionally, other transformations on the data may be appropriate.  For example, if you look at the distribution of errors in your model, you will note that they are slightly skewed.  An assumption of a Linear Regression model is that these should be roughly normally distributed.  By building a model on the logarithm of the target column, and evaluating the model on the logarithm of the testing data you will improve towards this assumption.  Note that the actual kaggle exercise is judged on the **ROOT MEAN SQUARED ERROR** of the logarithm of the target feature. \n",
    "\n",
    "If interested, scikitlearn also provides a function `TransformedTargetRegressor` that will accomplish this transformation and can easily be added to a pipeline. See [here](https://scikit-learn.org/stable/modules/generated/sklearn.compose.TransformedTargetRegressor.html) for more information on this transformer. "
   ]
  }
 ],
 "metadata": {
  "kernelspec": {
   "display_name": "Python 3 (ipykernel)",
   "language": "python",
   "name": "python3"
  },
  "language_info": {
   "codemirror_mode": {
    "name": "ipython",
    "version": 3
   },
   "file_extension": ".py",
   "mimetype": "text/x-python",
   "name": "python",
   "nbconvert_exporter": "python",
   "pygments_lexer": "ipython3",
   "version": "3.9.11"
  },
  "widgets": {
   "application/vnd.jupyter.widget-state+json": {
    "state": {},
    "version_major": 2,
    "version_minor": 0
   }
  }
 },
 "nbformat": 4,
 "nbformat_minor": 4
}
